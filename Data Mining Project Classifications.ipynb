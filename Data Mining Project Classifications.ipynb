{
 "cells": [
  {
   "cell_type": "code",
   "execution_count": 2,
   "metadata": {
    "ExecuteTime": {
     "end_time": "2020-10-21T12:34:08.508754Z",
     "start_time": "2020-10-21T12:33:49.809827Z"
    }
   },
   "outputs": [],
   "source": [
    "import numpy as np\n",
    "import pandas as pd\n",
    "import matplotlib.pyplot as plt\n",
    "import seaborn as sns\n",
    "\n",
    "%matplotlib inline"
   ]
  },
  {
   "cell_type": "markdown",
   "metadata": {},
   "source": [
    "# Problem 2:"
   ]
  },
  {
   "cell_type": "markdown",
   "metadata": {},
   "source": [
    "## Solution 2.1:"
   ]
  },
  {
   "cell_type": "markdown",
   "metadata": {},
   "source": [
    "### Basic EDA"
   ]
  },
  {
   "cell_type": "code",
   "execution_count": 112,
   "metadata": {
    "ExecuteTime": {
     "end_time": "2020-10-22T17:11:47.037034Z",
     "start_time": "2020-10-22T17:11:46.661699Z"
    }
   },
   "outputs": [
    {
     "data": {
      "text/html": [
       "<div>\n",
       "<style scoped>\n",
       "    .dataframe tbody tr th:only-of-type {\n",
       "        vertical-align: middle;\n",
       "    }\n",
       "\n",
       "    .dataframe tbody tr th {\n",
       "        vertical-align: top;\n",
       "    }\n",
       "\n",
       "    .dataframe thead th {\n",
       "        text-align: right;\n",
       "    }\n",
       "</style>\n",
       "<table border=\"1\" class=\"dataframe\">\n",
       "  <thead>\n",
       "    <tr style=\"text-align: right;\">\n",
       "      <th></th>\n",
       "      <th>Age</th>\n",
       "      <th>Agency_Code</th>\n",
       "      <th>Type</th>\n",
       "      <th>Claimed</th>\n",
       "      <th>Commision</th>\n",
       "      <th>Channel</th>\n",
       "      <th>Duration</th>\n",
       "      <th>Sales</th>\n",
       "      <th>Product Name</th>\n",
       "      <th>Destination</th>\n",
       "    </tr>\n",
       "  </thead>\n",
       "  <tbody>\n",
       "    <tr>\n",
       "      <th>0</th>\n",
       "      <td>48</td>\n",
       "      <td>C2B</td>\n",
       "      <td>Airlines</td>\n",
       "      <td>No</td>\n",
       "      <td>0.70</td>\n",
       "      <td>Online</td>\n",
       "      <td>7</td>\n",
       "      <td>2.51</td>\n",
       "      <td>Customised Plan</td>\n",
       "      <td>ASIA</td>\n",
       "    </tr>\n",
       "    <tr>\n",
       "      <th>1</th>\n",
       "      <td>36</td>\n",
       "      <td>EPX</td>\n",
       "      <td>Travel Agency</td>\n",
       "      <td>No</td>\n",
       "      <td>0.00</td>\n",
       "      <td>Online</td>\n",
       "      <td>34</td>\n",
       "      <td>20.00</td>\n",
       "      <td>Customised Plan</td>\n",
       "      <td>ASIA</td>\n",
       "    </tr>\n",
       "    <tr>\n",
       "      <th>2</th>\n",
       "      <td>39</td>\n",
       "      <td>CWT</td>\n",
       "      <td>Travel Agency</td>\n",
       "      <td>No</td>\n",
       "      <td>5.94</td>\n",
       "      <td>Online</td>\n",
       "      <td>3</td>\n",
       "      <td>9.90</td>\n",
       "      <td>Customised Plan</td>\n",
       "      <td>Americas</td>\n",
       "    </tr>\n",
       "    <tr>\n",
       "      <th>3</th>\n",
       "      <td>36</td>\n",
       "      <td>EPX</td>\n",
       "      <td>Travel Agency</td>\n",
       "      <td>No</td>\n",
       "      <td>0.00</td>\n",
       "      <td>Online</td>\n",
       "      <td>4</td>\n",
       "      <td>26.00</td>\n",
       "      <td>Cancellation Plan</td>\n",
       "      <td>ASIA</td>\n",
       "    </tr>\n",
       "    <tr>\n",
       "      <th>4</th>\n",
       "      <td>33</td>\n",
       "      <td>JZI</td>\n",
       "      <td>Airlines</td>\n",
       "      <td>No</td>\n",
       "      <td>6.30</td>\n",
       "      <td>Online</td>\n",
       "      <td>53</td>\n",
       "      <td>18.00</td>\n",
       "      <td>Bronze Plan</td>\n",
       "      <td>ASIA</td>\n",
       "    </tr>\n",
       "  </tbody>\n",
       "</table>\n",
       "</div>"
      ],
      "text/plain": [
       "   Age Agency_Code           Type Claimed  Commision Channel  Duration  Sales  \\\n",
       "0   48         C2B       Airlines      No       0.70  Online         7   2.51   \n",
       "1   36         EPX  Travel Agency      No       0.00  Online        34  20.00   \n",
       "2   39         CWT  Travel Agency      No       5.94  Online         3   9.90   \n",
       "3   36         EPX  Travel Agency      No       0.00  Online         4  26.00   \n",
       "4   33         JZI       Airlines      No       6.30  Online        53  18.00   \n",
       "\n",
       "        Product Name Destination  \n",
       "0    Customised Plan        ASIA  \n",
       "1    Customised Plan        ASIA  \n",
       "2    Customised Plan    Americas  \n",
       "3  Cancellation Plan        ASIA  \n",
       "4        Bronze Plan        ASIA  "
      ]
     },
     "execution_count": 112,
     "metadata": {},
     "output_type": "execute_result"
    }
   ],
   "source": [
    "df = pd.read_csv('insurance_part2_data.csv')\n",
    "df.head()"
   ]
  },
  {
   "cell_type": "code",
   "execution_count": 102,
   "metadata": {},
   "outputs": [
    {
     "data": {
      "text/plain": [
       "(3000, 10)"
      ]
     },
     "execution_count": 102,
     "metadata": {},
     "output_type": "execute_result"
    }
   ],
   "source": [
    "df.shape"
   ]
  },
  {
   "cell_type": "code",
   "execution_count": 113,
   "metadata": {
    "ExecuteTime": {
     "end_time": "2020-10-22T17:13:42.838897Z",
     "start_time": "2020-10-22T17:13:42.478620Z"
    }
   },
   "outputs": [
    {
     "data": {
      "text/html": [
       "<div>\n",
       "<style scoped>\n",
       "    .dataframe tbody tr th:only-of-type {\n",
       "        vertical-align: middle;\n",
       "    }\n",
       "\n",
       "    .dataframe tbody tr th {\n",
       "        vertical-align: top;\n",
       "    }\n",
       "\n",
       "    .dataframe thead th {\n",
       "        text-align: right;\n",
       "    }\n",
       "</style>\n",
       "<table border=\"1\" class=\"dataframe\">\n",
       "  <thead>\n",
       "    <tr style=\"text-align: right;\">\n",
       "      <th></th>\n",
       "      <th>Age</th>\n",
       "      <th>Commision</th>\n",
       "      <th>Duration</th>\n",
       "      <th>Sales</th>\n",
       "    </tr>\n",
       "  </thead>\n",
       "  <tbody>\n",
       "    <tr>\n",
       "      <th>count</th>\n",
       "      <td>3000.000000</td>\n",
       "      <td>3000.000000</td>\n",
       "      <td>3000.000000</td>\n",
       "      <td>3000.000000</td>\n",
       "    </tr>\n",
       "    <tr>\n",
       "      <th>mean</th>\n",
       "      <td>38.091000</td>\n",
       "      <td>14.529203</td>\n",
       "      <td>70.001333</td>\n",
       "      <td>60.249913</td>\n",
       "    </tr>\n",
       "    <tr>\n",
       "      <th>std</th>\n",
       "      <td>10.463518</td>\n",
       "      <td>25.481455</td>\n",
       "      <td>134.053313</td>\n",
       "      <td>70.733954</td>\n",
       "    </tr>\n",
       "    <tr>\n",
       "      <th>min</th>\n",
       "      <td>8.000000</td>\n",
       "      <td>0.000000</td>\n",
       "      <td>-1.000000</td>\n",
       "      <td>0.000000</td>\n",
       "    </tr>\n",
       "    <tr>\n",
       "      <th>25%</th>\n",
       "      <td>32.000000</td>\n",
       "      <td>0.000000</td>\n",
       "      <td>11.000000</td>\n",
       "      <td>20.000000</td>\n",
       "    </tr>\n",
       "    <tr>\n",
       "      <th>50%</th>\n",
       "      <td>36.000000</td>\n",
       "      <td>4.630000</td>\n",
       "      <td>26.500000</td>\n",
       "      <td>33.000000</td>\n",
       "    </tr>\n",
       "    <tr>\n",
       "      <th>75%</th>\n",
       "      <td>42.000000</td>\n",
       "      <td>17.235000</td>\n",
       "      <td>63.000000</td>\n",
       "      <td>69.000000</td>\n",
       "    </tr>\n",
       "    <tr>\n",
       "      <th>max</th>\n",
       "      <td>84.000000</td>\n",
       "      <td>210.210000</td>\n",
       "      <td>4580.000000</td>\n",
       "      <td>539.000000</td>\n",
       "    </tr>\n",
       "  </tbody>\n",
       "</table>\n",
       "</div>"
      ],
      "text/plain": [
       "               Age    Commision     Duration        Sales\n",
       "count  3000.000000  3000.000000  3000.000000  3000.000000\n",
       "mean     38.091000    14.529203    70.001333    60.249913\n",
       "std      10.463518    25.481455   134.053313    70.733954\n",
       "min       8.000000     0.000000    -1.000000     0.000000\n",
       "25%      32.000000     0.000000    11.000000    20.000000\n",
       "50%      36.000000     4.630000    26.500000    33.000000\n",
       "75%      42.000000    17.235000    63.000000    69.000000\n",
       "max      84.000000   210.210000  4580.000000   539.000000"
      ]
     },
     "execution_count": 113,
     "metadata": {},
     "output_type": "execute_result"
    }
   ],
   "source": [
    "df.describe()"
   ]
  },
  {
   "cell_type": "code",
   "execution_count": 4,
   "metadata": {
    "ExecuteTime": {
     "end_time": "2020-10-21T12:40:15.236258Z",
     "start_time": "2020-10-21T12:40:15.004250Z"
    }
   },
   "outputs": [
    {
     "name": "stdout",
     "output_type": "stream",
     "text": [
      "<class 'pandas.core.frame.DataFrame'>\n",
      "RangeIndex: 3000 entries, 0 to 2999\n",
      "Data columns (total 10 columns):\n",
      " #   Column        Non-Null Count  Dtype  \n",
      "---  ------        --------------  -----  \n",
      " 0   Age           3000 non-null   int64  \n",
      " 1   Agency_Code   3000 non-null   object \n",
      " 2   Type          3000 non-null   object \n",
      " 3   Claimed       3000 non-null   object \n",
      " 4   Commision     3000 non-null   float64\n",
      " 5   Channel       3000 non-null   object \n",
      " 6   Duration      3000 non-null   int64  \n",
      " 7   Sales         3000 non-null   float64\n",
      " 8   Product Name  3000 non-null   object \n",
      " 9   Destination   3000 non-null   object \n",
      "dtypes: float64(2), int64(2), object(6)\n",
      "memory usage: 234.5+ KB\n"
     ]
    }
   ],
   "source": [
    "df.info()"
   ]
  },
  {
   "cell_type": "markdown",
   "metadata": {},
   "source": [
    "### Geting unique counts of all Objects"
   ]
  },
  {
   "cell_type": "code",
   "execution_count": 5,
   "metadata": {
    "ExecuteTime": {
     "end_time": "2020-10-21T12:40:18.726482Z",
     "start_time": "2020-10-21T12:40:18.681401Z"
    },
    "scrolled": false
   },
   "outputs": [
    {
     "name": "stdout",
     "output_type": "stream",
     "text": [
      "     Agency_Code\n",
      "EPX         1365\n",
      "C2B          924\n",
      "CWT          472\n",
      "JZI          239\n",
      "\n",
      "\n",
      "               Type\n",
      "Travel Agency  1837\n",
      "Airlines       1163\n",
      "\n",
      "\n",
      "     Claimed\n",
      "No      2076\n",
      "Yes      924\n",
      "\n",
      "\n",
      "         Channel\n",
      "Online      2954\n",
      "Offline       46\n",
      "\n",
      "\n",
      "                   Product Name\n",
      "Customised Plan            1136\n",
      "Cancellation Plan           678\n",
      "Bronze Plan                 650\n",
      "Silver Plan                 427\n",
      "Gold Plan                   109\n",
      "\n",
      "\n",
      "          Destination\n",
      "ASIA             2465\n",
      "Americas          320\n",
      "EUROPE            215\n",
      "\n",
      "\n"
     ]
    }
   ],
   "source": [
    "for feature in df.columns:\n",
    "    if df[feature].dtype == 'object': \n",
    "        print(pd.DataFrame(df[feature].value_counts()))\n",
    "        print(\"\\n\")\n",
    "        "
   ]
  },
  {
   "cell_type": "markdown",
   "metadata": {},
   "source": [
    "### Checking for null  and duplicated values"
   ]
  },
  {
   "cell_type": "code",
   "execution_count": 6,
   "metadata": {
    "ExecuteTime": {
     "end_time": "2020-10-21T12:40:22.207623Z",
     "start_time": "2020-10-21T12:40:22.193957Z"
    }
   },
   "outputs": [
    {
     "data": {
      "text/plain": [
       "Age             0\n",
       "Agency_Code     0\n",
       "Type            0\n",
       "Claimed         0\n",
       "Commision       0\n",
       "Channel         0\n",
       "Duration        0\n",
       "Sales           0\n",
       "Product Name    0\n",
       "Destination     0\n",
       "dtype: int64"
      ]
     },
     "execution_count": 6,
     "metadata": {},
     "output_type": "execute_result"
    }
   ],
   "source": [
    "df.isnull().sum()"
   ]
  },
  {
   "cell_type": "code",
   "execution_count": 7,
   "metadata": {
    "ExecuteTime": {
     "end_time": "2020-10-21T12:40:23.666494Z",
     "start_time": "2020-10-21T12:40:23.538572Z"
    }
   },
   "outputs": [
    {
     "name": "stdout",
     "output_type": "stream",
     "text": [
      "Number of duplicate rows = 139\n"
     ]
    },
    {
     "data": {
      "text/html": [
       "<div>\n",
       "<style scoped>\n",
       "    .dataframe tbody tr th:only-of-type {\n",
       "        vertical-align: middle;\n",
       "    }\n",
       "\n",
       "    .dataframe tbody tr th {\n",
       "        vertical-align: top;\n",
       "    }\n",
       "\n",
       "    .dataframe thead th {\n",
       "        text-align: right;\n",
       "    }\n",
       "</style>\n",
       "<table border=\"1\" class=\"dataframe\">\n",
       "  <thead>\n",
       "    <tr style=\"text-align: right;\">\n",
       "      <th></th>\n",
       "      <th>Age</th>\n",
       "      <th>Agency_Code</th>\n",
       "      <th>Type</th>\n",
       "      <th>Claimed</th>\n",
       "      <th>Commision</th>\n",
       "      <th>Channel</th>\n",
       "      <th>Duration</th>\n",
       "      <th>Sales</th>\n",
       "      <th>Product Name</th>\n",
       "      <th>Destination</th>\n",
       "    </tr>\n",
       "  </thead>\n",
       "  <tbody>\n",
       "    <tr>\n",
       "      <th>63</th>\n",
       "      <td>30</td>\n",
       "      <td>C2B</td>\n",
       "      <td>Airlines</td>\n",
       "      <td>Yes</td>\n",
       "      <td>15.0</td>\n",
       "      <td>Online</td>\n",
       "      <td>27</td>\n",
       "      <td>60.0</td>\n",
       "      <td>Bronze Plan</td>\n",
       "      <td>ASIA</td>\n",
       "    </tr>\n",
       "    <tr>\n",
       "      <th>329</th>\n",
       "      <td>36</td>\n",
       "      <td>EPX</td>\n",
       "      <td>Travel Agency</td>\n",
       "      <td>No</td>\n",
       "      <td>0.0</td>\n",
       "      <td>Online</td>\n",
       "      <td>5</td>\n",
       "      <td>20.0</td>\n",
       "      <td>Customised Plan</td>\n",
       "      <td>ASIA</td>\n",
       "    </tr>\n",
       "    <tr>\n",
       "      <th>407</th>\n",
       "      <td>36</td>\n",
       "      <td>EPX</td>\n",
       "      <td>Travel Agency</td>\n",
       "      <td>No</td>\n",
       "      <td>0.0</td>\n",
       "      <td>Online</td>\n",
       "      <td>11</td>\n",
       "      <td>19.0</td>\n",
       "      <td>Cancellation Plan</td>\n",
       "      <td>ASIA</td>\n",
       "    </tr>\n",
       "    <tr>\n",
       "      <th>411</th>\n",
       "      <td>35</td>\n",
       "      <td>EPX</td>\n",
       "      <td>Travel Agency</td>\n",
       "      <td>No</td>\n",
       "      <td>0.0</td>\n",
       "      <td>Online</td>\n",
       "      <td>2</td>\n",
       "      <td>20.0</td>\n",
       "      <td>Customised Plan</td>\n",
       "      <td>ASIA</td>\n",
       "    </tr>\n",
       "    <tr>\n",
       "      <th>422</th>\n",
       "      <td>36</td>\n",
       "      <td>EPX</td>\n",
       "      <td>Travel Agency</td>\n",
       "      <td>No</td>\n",
       "      <td>0.0</td>\n",
       "      <td>Online</td>\n",
       "      <td>5</td>\n",
       "      <td>20.0</td>\n",
       "      <td>Customised Plan</td>\n",
       "      <td>ASIA</td>\n",
       "    </tr>\n",
       "    <tr>\n",
       "      <th>...</th>\n",
       "      <td>...</td>\n",
       "      <td>...</td>\n",
       "      <td>...</td>\n",
       "      <td>...</td>\n",
       "      <td>...</td>\n",
       "      <td>...</td>\n",
       "      <td>...</td>\n",
       "      <td>...</td>\n",
       "      <td>...</td>\n",
       "      <td>...</td>\n",
       "    </tr>\n",
       "    <tr>\n",
       "      <th>2940</th>\n",
       "      <td>36</td>\n",
       "      <td>EPX</td>\n",
       "      <td>Travel Agency</td>\n",
       "      <td>No</td>\n",
       "      <td>0.0</td>\n",
       "      <td>Online</td>\n",
       "      <td>8</td>\n",
       "      <td>10.0</td>\n",
       "      <td>Cancellation Plan</td>\n",
       "      <td>ASIA</td>\n",
       "    </tr>\n",
       "    <tr>\n",
       "      <th>2947</th>\n",
       "      <td>36</td>\n",
       "      <td>EPX</td>\n",
       "      <td>Travel Agency</td>\n",
       "      <td>No</td>\n",
       "      <td>0.0</td>\n",
       "      <td>Online</td>\n",
       "      <td>10</td>\n",
       "      <td>28.0</td>\n",
       "      <td>Customised Plan</td>\n",
       "      <td>ASIA</td>\n",
       "    </tr>\n",
       "    <tr>\n",
       "      <th>2952</th>\n",
       "      <td>36</td>\n",
       "      <td>EPX</td>\n",
       "      <td>Travel Agency</td>\n",
       "      <td>No</td>\n",
       "      <td>0.0</td>\n",
       "      <td>Online</td>\n",
       "      <td>2</td>\n",
       "      <td>10.0</td>\n",
       "      <td>Cancellation Plan</td>\n",
       "      <td>ASIA</td>\n",
       "    </tr>\n",
       "    <tr>\n",
       "      <th>2962</th>\n",
       "      <td>36</td>\n",
       "      <td>EPX</td>\n",
       "      <td>Travel Agency</td>\n",
       "      <td>No</td>\n",
       "      <td>0.0</td>\n",
       "      <td>Online</td>\n",
       "      <td>4</td>\n",
       "      <td>20.0</td>\n",
       "      <td>Customised Plan</td>\n",
       "      <td>ASIA</td>\n",
       "    </tr>\n",
       "    <tr>\n",
       "      <th>2984</th>\n",
       "      <td>36</td>\n",
       "      <td>EPX</td>\n",
       "      <td>Travel Agency</td>\n",
       "      <td>No</td>\n",
       "      <td>0.0</td>\n",
       "      <td>Online</td>\n",
       "      <td>1</td>\n",
       "      <td>20.0</td>\n",
       "      <td>Customised Plan</td>\n",
       "      <td>ASIA</td>\n",
       "    </tr>\n",
       "  </tbody>\n",
       "</table>\n",
       "<p>139 rows × 10 columns</p>\n",
       "</div>"
      ],
      "text/plain": [
       "      Age Agency_Code           Type Claimed  Commision Channel  Duration  \\\n",
       "63     30         C2B       Airlines     Yes       15.0  Online        27   \n",
       "329    36         EPX  Travel Agency      No        0.0  Online         5   \n",
       "407    36         EPX  Travel Agency      No        0.0  Online        11   \n",
       "411    35         EPX  Travel Agency      No        0.0  Online         2   \n",
       "422    36         EPX  Travel Agency      No        0.0  Online         5   \n",
       "...   ...         ...            ...     ...        ...     ...       ...   \n",
       "2940   36         EPX  Travel Agency      No        0.0  Online         8   \n",
       "2947   36         EPX  Travel Agency      No        0.0  Online        10   \n",
       "2952   36         EPX  Travel Agency      No        0.0  Online         2   \n",
       "2962   36         EPX  Travel Agency      No        0.0  Online         4   \n",
       "2984   36         EPX  Travel Agency      No        0.0  Online         1   \n",
       "\n",
       "      Sales       Product Name Destination  \n",
       "63     60.0        Bronze Plan        ASIA  \n",
       "329    20.0    Customised Plan        ASIA  \n",
       "407    19.0  Cancellation Plan        ASIA  \n",
       "411    20.0    Customised Plan        ASIA  \n",
       "422    20.0    Customised Plan        ASIA  \n",
       "...     ...                ...         ...  \n",
       "2940   10.0  Cancellation Plan        ASIA  \n",
       "2947   28.0    Customised Plan        ASIA  \n",
       "2952   10.0  Cancellation Plan        ASIA  \n",
       "2962   20.0    Customised Plan        ASIA  \n",
       "2984   20.0    Customised Plan        ASIA  \n",
       "\n",
       "[139 rows x 10 columns]"
      ]
     },
     "execution_count": 7,
     "metadata": {},
     "output_type": "execute_result"
    }
   ],
   "source": [
    "dups = df.duplicated()\n",
    "print('Number of duplicate rows = %d' % (dups.sum()))\n",
    "df[dups]"
   ]
  },
  {
   "cell_type": "code",
   "execution_count": 8,
   "metadata": {
    "ExecuteTime": {
     "end_time": "2020-10-21T12:40:25.633815Z",
     "start_time": "2020-10-21T12:40:25.614012Z"
    },
    "scrolled": true
   },
   "outputs": [],
   "source": [
    "df = df.drop_duplicates()"
   ]
  },
  {
   "cell_type": "code",
   "execution_count": 9,
   "metadata": {
    "ExecuteTime": {
     "end_time": "2020-10-21T12:40:27.239124Z",
     "start_time": "2020-10-21T12:40:27.058627Z"
    }
   },
   "outputs": [
    {
     "name": "stdout",
     "output_type": "stream",
     "text": [
      "Number of duplicate rows = 0\n"
     ]
    },
    {
     "data": {
      "text/html": [
       "<div>\n",
       "<style scoped>\n",
       "    .dataframe tbody tr th:only-of-type {\n",
       "        vertical-align: middle;\n",
       "    }\n",
       "\n",
       "    .dataframe tbody tr th {\n",
       "        vertical-align: top;\n",
       "    }\n",
       "\n",
       "    .dataframe thead th {\n",
       "        text-align: right;\n",
       "    }\n",
       "</style>\n",
       "<table border=\"1\" class=\"dataframe\">\n",
       "  <thead>\n",
       "    <tr style=\"text-align: right;\">\n",
       "      <th></th>\n",
       "      <th>Age</th>\n",
       "      <th>Agency_Code</th>\n",
       "      <th>Type</th>\n",
       "      <th>Claimed</th>\n",
       "      <th>Commision</th>\n",
       "      <th>Channel</th>\n",
       "      <th>Duration</th>\n",
       "      <th>Sales</th>\n",
       "      <th>Product Name</th>\n",
       "      <th>Destination</th>\n",
       "    </tr>\n",
       "  </thead>\n",
       "  <tbody>\n",
       "  </tbody>\n",
       "</table>\n",
       "</div>"
      ],
      "text/plain": [
       "Empty DataFrame\n",
       "Columns: [Age, Agency_Code, Type, Claimed, Commision, Channel, Duration, Sales, Product Name, Destination]\n",
       "Index: []"
      ]
     },
     "execution_count": 9,
     "metadata": {},
     "output_type": "execute_result"
    }
   ],
   "source": [
    "dups = df.duplicated()\n",
    "print('Number of duplicate rows = %d' % (dups.sum()))\n",
    "df[dups]"
   ]
  },
  {
   "cell_type": "markdown",
   "metadata": {},
   "source": [
    "### Checking for Outliers"
   ]
  },
  {
   "cell_type": "code",
   "execution_count": 11,
   "metadata": {
    "ExecuteTime": {
     "end_time": "2020-10-21T12:40:38.491630Z",
     "start_time": "2020-10-21T12:40:37.781049Z"
    }
   },
   "outputs": [
    {
     "data": {
      "text/plain": [
       "<AxesSubplot:>"
      ]
     },
     "execution_count": 11,
     "metadata": {},
     "output_type": "execute_result"
    },
    {
     "data": {
      "image/png": "[encoded data removed]",
      "text/plain": [
       "<Figure size 1440x720 with 1 Axes>"
      ]
     },
     "metadata": {
      "needs_background": "light"
     },
     "output_type": "display_data"
    }
   ],
   "source": [
    "# construct box plot for continuous variables\n",
    "plt.figure(figsize=(20,10))\n",
    "df.boxplot(vert=0)"
   ]
  },
  {
   "cell_type": "markdown",
   "metadata": {},
   "source": [
    "### Treating the Outliers"
   ]
  },
  {
   "cell_type": "code",
   "execution_count": 12,
   "metadata": {
    "ExecuteTime": {
     "end_time": "2020-10-21T12:40:42.308977Z",
     "start_time": "2020-10-21T12:40:42.288805Z"
    }
   },
   "outputs": [],
   "source": [
    "# Complete the function to calculate lower_range and upper_range\n",
    "def treat_outlier(col):\n",
    "    sorted(col)\n",
    "    Q1,Q3=np.percentile(col,[25,75])\n",
    "    IQR=Q3-Q1\n",
    "    lower_range= Q1-(1.5 * IQR)\n",
    "    upper_range= Q3+(1.5 * IQR)\n",
    "    return lower_range, upper_range"
   ]
  },
  {
   "cell_type": "code",
   "execution_count": 14,
   "metadata": {
    "ExecuteTime": {
     "end_time": "2020-10-21T12:41:25.119666Z",
     "start_time": "2020-10-21T12:41:25.089920Z"
    }
   },
   "outputs": [
    {
     "name": "stderr",
     "output_type": "stream",
     "text": [
      "C:\\Users\\Admin\\anaconda3\\lib\\site-packages\\ipykernel_launcher.py:3: SettingWithCopyWarning: \n",
      "A value is trying to be set on a copy of a slice from a DataFrame.\n",
      "Try using .loc[row_indexer,col_indexer] = value instead\n",
      "\n",
      "See the caveats in the documentation: https://pandas.pydata.org/pandas-docs/stable/user_guide/indexing.html#returning-a-view-versus-a-copy\n",
      "  This is separate from the ipykernel package so we can avoid doing imports until\n",
      "C:\\Users\\Admin\\anaconda3\\lib\\site-packages\\ipykernel_launcher.py:4: SettingWithCopyWarning: \n",
      "A value is trying to be set on a copy of a slice from a DataFrame.\n",
      "Try using .loc[row_indexer,col_indexer] = value instead\n",
      "\n",
      "See the caveats in the documentation: https://pandas.pydata.org/pandas-docs/stable/user_guide/indexing.html#returning-a-view-versus-a-copy\n",
      "  after removing the cwd from sys.path.\n",
      "C:\\Users\\Admin\\anaconda3\\lib\\site-packages\\ipykernel_launcher.py:3: SettingWithCopyWarning: \n",
      "A value is trying to be set on a copy of a slice from a DataFrame.\n",
      "Try using .loc[row_indexer,col_indexer] = value instead\n",
      "\n",
      "See the caveats in the documentation: https://pandas.pydata.org/pandas-docs/stable/user_guide/indexing.html#returning-a-view-versus-a-copy\n",
      "  This is separate from the ipykernel package so we can avoid doing imports until\n",
      "C:\\Users\\Admin\\anaconda3\\lib\\site-packages\\ipykernel_launcher.py:4: SettingWithCopyWarning: \n",
      "A value is trying to be set on a copy of a slice from a DataFrame.\n",
      "Try using .loc[row_indexer,col_indexer] = value instead\n",
      "\n",
      "See the caveats in the documentation: https://pandas.pydata.org/pandas-docs/stable/user_guide/indexing.html#returning-a-view-versus-a-copy\n",
      "  after removing the cwd from sys.path.\n",
      "C:\\Users\\Admin\\anaconda3\\lib\\site-packages\\ipykernel_launcher.py:3: SettingWithCopyWarning: \n",
      "A value is trying to be set on a copy of a slice from a DataFrame.\n",
      "Try using .loc[row_indexer,col_indexer] = value instead\n",
      "\n",
      "See the caveats in the documentation: https://pandas.pydata.org/pandas-docs/stable/user_guide/indexing.html#returning-a-view-versus-a-copy\n",
      "  This is separate from the ipykernel package so we can avoid doing imports until\n",
      "C:\\Users\\Admin\\anaconda3\\lib\\site-packages\\ipykernel_launcher.py:4: SettingWithCopyWarning: \n",
      "A value is trying to be set on a copy of a slice from a DataFrame.\n",
      "Try using .loc[row_indexer,col_indexer] = value instead\n",
      "\n",
      "See the caveats in the documentation: https://pandas.pydata.org/pandas-docs/stable/user_guide/indexing.html#returning-a-view-versus-a-copy\n",
      "  after removing the cwd from sys.path.\n",
      "C:\\Users\\Admin\\anaconda3\\lib\\site-packages\\ipykernel_launcher.py:3: SettingWithCopyWarning: \n",
      "A value is trying to be set on a copy of a slice from a DataFrame.\n",
      "Try using .loc[row_indexer,col_indexer] = value instead\n",
      "\n",
      "See the caveats in the documentation: https://pandas.pydata.org/pandas-docs/stable/user_guide/indexing.html#returning-a-view-versus-a-copy\n",
      "  This is separate from the ipykernel package so we can avoid doing imports until\n",
      "C:\\Users\\Admin\\anaconda3\\lib\\site-packages\\ipykernel_launcher.py:4: SettingWithCopyWarning: \n",
      "A value is trying to be set on a copy of a slice from a DataFrame.\n",
      "Try using .loc[row_indexer,col_indexer] = value instead\n",
      "\n",
      "See the caveats in the documentation: https://pandas.pydata.org/pandas-docs/stable/user_guide/indexing.html#returning-a-view-versus-a-copy\n",
      "  after removing the cwd from sys.path.\n"
     ]
    }
   ],
   "source": [
    "for feature in df[['Age', 'Sales', 'Duration', 'Commision']]: \n",
    "    lr,ur=treat_outlier(df[feature])\n",
    "    df[feature]=np.where(df[feature]>ur,ur,df[feature])\n",
    "    df[feature]=np.where(df[feature]<lr,lr,df[feature])"
   ]
  },
  {
   "cell_type": "code",
   "execution_count": 15,
   "metadata": {
    "ExecuteTime": {
     "end_time": "2020-10-21T12:41:35.632375Z",
     "start_time": "2020-10-21T12:41:35.313731Z"
    }
   },
   "outputs": [
    {
     "data": {
      "text/plain": [
       "<AxesSubplot:>"
      ]
     },
     "execution_count": 15,
     "metadata": {},
     "output_type": "execute_result"
    },
    {
     "data": {
      "image/png": "[encoded data removed]",
      "text/plain": [
       "<Figure size 1440x720 with 1 Axes>"
      ]
     },
     "metadata": {
      "needs_background": "light"
     },
     "output_type": "display_data"
    }
   ],
   "source": [
    "plt.figure(figsize=(20,10))\n",
    "df.boxplot(vert=0)"
   ]
  },
  {
   "cell_type": "code",
   "execution_count": 16,
   "metadata": {
    "ExecuteTime": {
     "end_time": "2020-10-21T12:41:48.053996Z",
     "start_time": "2020-10-21T12:41:41.973438Z"
    }
   },
   "outputs": [
    {
     "data": {
      "text/plain": [
       "<seaborn.axisgrid.PairGrid at 0x1412ac501c8>"
      ]
     },
     "execution_count": 16,
     "metadata": {},
     "output_type": "execute_result"
    },
    {
     "data": {
      "image/png": "[encoded data removed]",
      "text/plain": [
       "<Figure size 720x720 with 20 Axes>"
      ]
     },
     "metadata": {
      "needs_background": "light"
     },
     "output_type": "display_data"
    }
   ],
   "source": [
    "sns.pairplot(df[['Age', 'Sales', 'Duration', 'Commision']])"
   ]
  },
  {
   "cell_type": "code",
   "execution_count": 17,
   "metadata": {
    "ExecuteTime": {
     "end_time": "2020-10-21T12:41:58.421823Z",
     "start_time": "2020-10-21T12:41:57.876879Z"
    }
   },
   "outputs": [
    {
     "data": {
      "text/plain": [
       "<AxesSubplot:>"
      ]
     },
     "execution_count": 17,
     "metadata": {},
     "output_type": "execute_result"
    },
    {
     "data": {
      "image/png": "[encoded data removed]",
      "text/plain": [
       "<Figure size 432x288 with 2 Axes>"
      ]
     },
     "metadata": {
      "needs_background": "light"
     },
     "output_type": "display_data"
    }
   ],
   "source": [
    "sns.heatmap(df[['Age', 'Sales', 'Duration', 'Commision']].corr(),annot=True,cmap='magma',vmin=-0.25,vmax=1)\n",
    "# 0: No Relationship\n",
    "# 0-0.25: Insignificant Relationship\n",
    "# 0.25-0.5: Weak Relationship\n",
    "# 0.5-0.75: Strong Relationship\n",
    "# 0.75-1: Significant Relationship -- Multicollinearity"
   ]
  },
  {
   "cell_type": "markdown",
   "metadata": {},
   "source": [
    "### Converting the unique values in the independent variables into unique numerical codes"
   ]
  },
  {
   "cell_type": "code",
   "execution_count": 19,
   "metadata": {
    "ExecuteTime": {
     "end_time": "2020-10-21T12:42:41.200113Z",
     "start_time": "2020-10-21T12:42:41.151554Z"
    }
   },
   "outputs": [
    {
     "name": "stdout",
     "output_type": "stream",
     "text": [
      "\n",
      "\n",
      "Feature: Agency_Code\n",
      "['C2B', 'EPX', 'CWT', 'JZI']\n",
      "Categories (4, object): ['C2B', 'CWT', 'EPX', 'JZI']\n",
      "[0 2 1 3]\n",
      "\n",
      "\n",
      "Feature: Type\n",
      "['Airlines', 'Travel Agency']\n",
      "Categories (2, object): ['Airlines', 'Travel Agency']\n",
      "[0 1]\n",
      "\n",
      "\n",
      "Feature: Claimed\n",
      "['No', 'Yes']\n",
      "Categories (2, object): ['No', 'Yes']\n",
      "[0 1]\n",
      "\n",
      "\n",
      "Feature: Channel\n",
      "['Online', 'Offline']\n",
      "Categories (2, object): ['Offline', 'Online']\n",
      "[1 0]\n",
      "\n",
      "\n",
      "Feature: Product Name\n",
      "['Customised Plan', 'Cancellation Plan', 'Bronze Plan', 'Silver Plan', 'Gold Plan']\n",
      "Categories (5, object): ['Bronze Plan', 'Cancellation Plan', 'Customised Plan', 'Gold Plan', 'Silver Plan']\n",
      "[2 1 0 4 3]\n",
      "\n",
      "\n",
      "Feature: Destination\n",
      "['ASIA', 'Americas', 'EUROPE']\n",
      "Categories (3, object): ['ASIA', 'Americas', 'EUROPE']\n",
      "[0 1 2]\n"
     ]
    },
    {
     "name": "stderr",
     "output_type": "stream",
     "text": [
      "C:\\Users\\Admin\\anaconda3\\lib\\site-packages\\ipykernel_launcher.py:7: SettingWithCopyWarning: \n",
      "A value is trying to be set on a copy of a slice from a DataFrame.\n",
      "Try using .loc[row_indexer,col_indexer] = value instead\n",
      "\n",
      "See the caveats in the documentation: https://pandas.pydata.org/pandas-docs/stable/user_guide/indexing.html#returning-a-view-versus-a-copy\n",
      "  import sys\n"
     ]
    }
   ],
   "source": [
    "for feature in df.columns:\n",
    "    if df[feature].dtype == 'object':\n",
    "        print('\\n')\n",
    "        print('Feature:',feature)\n",
    "        print(pd.Categorical(df[feature].unique()))\n",
    "        print(pd.Categorical(df[feature].unique()).codes)\n",
    "        df[feature] = pd.Categorical(df[feature]).codes"
   ]
  },
  {
   "cell_type": "code",
   "execution_count": 20,
   "metadata": {
    "ExecuteTime": {
     "end_time": "2020-10-21T12:42:52.172927Z",
     "start_time": "2020-10-21T12:42:52.139727Z"
    }
   },
   "outputs": [
    {
     "data": {
      "text/html": [
       "<div>\n",
       "<style scoped>\n",
       "    .dataframe tbody tr th:only-of-type {\n",
       "        vertical-align: middle;\n",
       "    }\n",
       "\n",
       "    .dataframe tbody tr th {\n",
       "        vertical-align: top;\n",
       "    }\n",
       "\n",
       "    .dataframe thead th {\n",
       "        text-align: right;\n",
       "    }\n",
       "</style>\n",
       "<table border=\"1\" class=\"dataframe\">\n",
       "  <thead>\n",
       "    <tr style=\"text-align: right;\">\n",
       "      <th></th>\n",
       "      <th>Age</th>\n",
       "      <th>Agency_Code</th>\n",
       "      <th>Type</th>\n",
       "      <th>Claimed</th>\n",
       "      <th>Commision</th>\n",
       "      <th>Channel</th>\n",
       "      <th>Duration</th>\n",
       "      <th>Sales</th>\n",
       "      <th>Product Name</th>\n",
       "      <th>Destination</th>\n",
       "    </tr>\n",
       "  </thead>\n",
       "  <tbody>\n",
       "    <tr>\n",
       "      <th>0</th>\n",
       "      <td>48.0</td>\n",
       "      <td>0</td>\n",
       "      <td>0</td>\n",
       "      <td>0</td>\n",
       "      <td>0.70</td>\n",
       "      <td>1</td>\n",
       "      <td>7.0</td>\n",
       "      <td>2.51</td>\n",
       "      <td>2</td>\n",
       "      <td>0</td>\n",
       "    </tr>\n",
       "    <tr>\n",
       "      <th>1</th>\n",
       "      <td>36.0</td>\n",
       "      <td>2</td>\n",
       "      <td>1</td>\n",
       "      <td>0</td>\n",
       "      <td>0.00</td>\n",
       "      <td>1</td>\n",
       "      <td>34.0</td>\n",
       "      <td>20.00</td>\n",
       "      <td>2</td>\n",
       "      <td>0</td>\n",
       "    </tr>\n",
       "    <tr>\n",
       "      <th>2</th>\n",
       "      <td>39.0</td>\n",
       "      <td>1</td>\n",
       "      <td>1</td>\n",
       "      <td>0</td>\n",
       "      <td>5.94</td>\n",
       "      <td>1</td>\n",
       "      <td>3.0</td>\n",
       "      <td>9.90</td>\n",
       "      <td>2</td>\n",
       "      <td>1</td>\n",
       "    </tr>\n",
       "    <tr>\n",
       "      <th>3</th>\n",
       "      <td>36.0</td>\n",
       "      <td>2</td>\n",
       "      <td>1</td>\n",
       "      <td>0</td>\n",
       "      <td>0.00</td>\n",
       "      <td>1</td>\n",
       "      <td>4.0</td>\n",
       "      <td>26.00</td>\n",
       "      <td>1</td>\n",
       "      <td>0</td>\n",
       "    </tr>\n",
       "    <tr>\n",
       "      <th>4</th>\n",
       "      <td>33.0</td>\n",
       "      <td>3</td>\n",
       "      <td>0</td>\n",
       "      <td>0</td>\n",
       "      <td>6.30</td>\n",
       "      <td>1</td>\n",
       "      <td>53.0</td>\n",
       "      <td>18.00</td>\n",
       "      <td>0</td>\n",
       "      <td>0</td>\n",
       "    </tr>\n",
       "    <tr>\n",
       "      <th>...</th>\n",
       "      <td>...</td>\n",
       "      <td>...</td>\n",
       "      <td>...</td>\n",
       "      <td>...</td>\n",
       "      <td>...</td>\n",
       "      <td>...</td>\n",
       "      <td>...</td>\n",
       "      <td>...</td>\n",
       "      <td>...</td>\n",
       "      <td>...</td>\n",
       "    </tr>\n",
       "    <tr>\n",
       "      <th>2995</th>\n",
       "      <td>28.0</td>\n",
       "      <td>1</td>\n",
       "      <td>1</td>\n",
       "      <td>1</td>\n",
       "      <td>44.55</td>\n",
       "      <td>1</td>\n",
       "      <td>147.0</td>\n",
       "      <td>143.25</td>\n",
       "      <td>3</td>\n",
       "      <td>1</td>\n",
       "    </tr>\n",
       "    <tr>\n",
       "      <th>2996</th>\n",
       "      <td>35.0</td>\n",
       "      <td>0</td>\n",
       "      <td>0</td>\n",
       "      <td>0</td>\n",
       "      <td>13.50</td>\n",
       "      <td>1</td>\n",
       "      <td>5.0</td>\n",
       "      <td>54.00</td>\n",
       "      <td>3</td>\n",
       "      <td>0</td>\n",
       "    </tr>\n",
       "    <tr>\n",
       "      <th>2997</th>\n",
       "      <td>36.0</td>\n",
       "      <td>2</td>\n",
       "      <td>1</td>\n",
       "      <td>0</td>\n",
       "      <td>0.00</td>\n",
       "      <td>1</td>\n",
       "      <td>54.0</td>\n",
       "      <td>28.00</td>\n",
       "      <td>2</td>\n",
       "      <td>0</td>\n",
       "    </tr>\n",
       "    <tr>\n",
       "      <th>2998</th>\n",
       "      <td>34.0</td>\n",
       "      <td>0</td>\n",
       "      <td>0</td>\n",
       "      <td>1</td>\n",
       "      <td>7.64</td>\n",
       "      <td>1</td>\n",
       "      <td>39.0</td>\n",
       "      <td>30.55</td>\n",
       "      <td>0</td>\n",
       "      <td>0</td>\n",
       "    </tr>\n",
       "    <tr>\n",
       "      <th>2999</th>\n",
       "      <td>47.0</td>\n",
       "      <td>3</td>\n",
       "      <td>0</td>\n",
       "      <td>0</td>\n",
       "      <td>11.55</td>\n",
       "      <td>1</td>\n",
       "      <td>15.0</td>\n",
       "      <td>33.00</td>\n",
       "      <td>0</td>\n",
       "      <td>0</td>\n",
       "    </tr>\n",
       "  </tbody>\n",
       "</table>\n",
       "<p>2861 rows × 10 columns</p>\n",
       "</div>"
      ],
      "text/plain": [
       "       Age  Agency_Code  Type  Claimed  Commision  Channel  Duration   Sales  \\\n",
       "0     48.0            0     0        0       0.70        1       7.0    2.51   \n",
       "1     36.0            2     1        0       0.00        1      34.0   20.00   \n",
       "2     39.0            1     1        0       5.94        1       3.0    9.90   \n",
       "3     36.0            2     1        0       0.00        1       4.0   26.00   \n",
       "4     33.0            3     0        0       6.30        1      53.0   18.00   \n",
       "...    ...          ...   ...      ...        ...      ...       ...     ...   \n",
       "2995  28.0            1     1        1      44.55        1     147.0  143.25   \n",
       "2996  35.0            0     0        0      13.50        1       5.0   54.00   \n",
       "2997  36.0            2     1        0       0.00        1      54.0   28.00   \n",
       "2998  34.0            0     0        1       7.64        1      39.0   30.55   \n",
       "2999  47.0            3     0        0      11.55        1      15.0   33.00   \n",
       "\n",
       "      Product Name  Destination  \n",
       "0                2            0  \n",
       "1                2            0  \n",
       "2                2            1  \n",
       "3                1            0  \n",
       "4                0            0  \n",
       "...            ...          ...  \n",
       "2995             3            1  \n",
       "2996             3            0  \n",
       "2997             2            0  \n",
       "2998             0            0  \n",
       "2999             0            0  \n",
       "\n",
       "[2861 rows x 10 columns]"
      ]
     },
     "execution_count": 20,
     "metadata": {},
     "output_type": "execute_result"
    }
   ],
   "source": [
    "df"
   ]
  },
  {
   "cell_type": "markdown",
   "metadata": {},
   "source": [
    "### Proportion of 1s and 0s"
   ]
  },
  {
   "cell_type": "code",
   "execution_count": 21,
   "metadata": {
    "ExecuteTime": {
     "end_time": "2020-10-21T12:43:01.895624Z",
     "start_time": "2020-10-21T12:43:01.830566Z"
    }
   },
   "outputs": [
    {
     "data": {
      "text/plain": [
       "0    0.680531\n",
       "1    0.319469\n",
       "Name: Claimed, dtype: float64"
      ]
     },
     "execution_count": 21,
     "metadata": {},
     "output_type": "execute_result"
    }
   ],
   "source": [
    "df['Claimed'].value_counts(normalize=True)"
   ]
  },
  {
   "cell_type": "markdown",
   "metadata": {},
   "source": [
    "## Solution: 2.2"
   ]
  },
  {
   "cell_type": "markdown",
   "metadata": {},
   "source": [
    "### Extracting the target column into separate vectors for training set and test set"
   ]
  },
  {
   "cell_type": "code",
   "execution_count": 22,
   "metadata": {
    "ExecuteTime": {
     "end_time": "2020-10-21T12:43:11.171257Z",
     "start_time": "2020-10-21T12:43:11.157736Z"
    }
   },
   "outputs": [],
   "source": [
    "X = df.drop([\"Claimed\"], axis=1)\n",
    "\n",
    "y = df.pop(\"Claimed\")"
   ]
  },
  {
   "cell_type": "markdown",
   "metadata": {},
   "source": [
    "### Splitting data into training and test set"
   ]
  },
  {
   "cell_type": "code",
   "execution_count": 23,
   "metadata": {
    "ExecuteTime": {
     "end_time": "2020-10-21T12:43:15.249976Z",
     "start_time": "2020-10-21T12:43:14.684871Z"
    }
   },
   "outputs": [],
   "source": [
    "from sklearn.model_selection import train_test_split\n",
    "\n",
    "X_train, X_test, train_labels, test_labels = train_test_split(X, y, test_size=.30, random_state=0)"
   ]
  },
  {
   "cell_type": "markdown",
   "metadata": {},
   "source": [
    "### Checking the dimensions of the training and test data"
   ]
  },
  {
   "cell_type": "code",
   "execution_count": 24,
   "metadata": {
    "ExecuteTime": {
     "end_time": "2020-10-21T12:43:22.397846Z",
     "start_time": "2020-10-21T12:43:22.384354Z"
    }
   },
   "outputs": [
    {
     "name": "stdout",
     "output_type": "stream",
     "text": [
      "X_train (2002, 9)\n",
      "X_test (859, 9)\n",
      "train_labels (2002,)\n",
      "test_labels (859,)\n",
      "Total Obs 2861\n"
     ]
    }
   ],
   "source": [
    "print('X_train',X_train.shape)\n",
    "print('X_test',X_test.shape)\n",
    "print('train_labels',train_labels.shape)\n",
    "print('test_labels',test_labels.shape)\n",
    "print('Total Obs',X_train.shape[0] + X_test.shape[0])"
   ]
  },
  {
   "cell_type": "markdown",
   "metadata": {},
   "source": [
    "## Decision Tree Classifier"
   ]
  },
  {
   "cell_type": "code",
   "execution_count": 25,
   "metadata": {
    "ExecuteTime": {
     "end_time": "2020-10-21T12:43:30.950247Z",
     "start_time": "2020-10-21T12:43:29.905726Z"
    }
   },
   "outputs": [],
   "source": [
    "from sklearn.tree import DecisionTreeClassifier"
   ]
  },
  {
   "cell_type": "code",
   "execution_count": 26,
   "metadata": {
    "ExecuteTime": {
     "end_time": "2020-10-21T12:43:31.725553Z",
     "start_time": "2020-10-21T12:43:31.718796Z"
    }
   },
   "outputs": [],
   "source": [
    "# Initialise a Decision Tree Classifier\n",
    "dt_model = DecisionTreeClassifier(criterion = 'gini') #entropy"
   ]
  },
  {
   "cell_type": "code",
   "execution_count": 27,
   "metadata": {
    "ExecuteTime": {
     "end_time": "2020-10-21T12:43:40.508272Z",
     "start_time": "2020-10-21T12:43:40.487721Z"
    }
   },
   "outputs": [
    {
     "data": {
      "text/plain": [
       "DecisionTreeClassifier(ccp_alpha=0.0, class_weight=None, criterion='gini',\n",
       "                       max_depth=None, max_features=None, max_leaf_nodes=None,\n",
       "                       min_impurity_decrease=0.0, min_impurity_split=None,\n",
       "                       min_samples_leaf=1, min_samples_split=2,\n",
       "                       min_weight_fraction_leaf=0.0, presort='deprecated',\n",
       "                       random_state=None, splitter='best')"
      ]
     },
     "execution_count": 27,
     "metadata": {},
     "output_type": "execute_result"
    }
   ],
   "source": [
    "# Fit the model\n",
    "dt_model.fit(X_train, train_labels)"
   ]
  },
  {
   "cell_type": "code",
   "execution_count": 35,
   "metadata": {
    "ExecuteTime": {
     "end_time": "2020-10-21T16:58:35.803086Z",
     "start_time": "2020-10-21T16:58:35.589618Z"
    }
   },
   "outputs": [],
   "source": [
    "from sklearn import tree\n",
    "\n",
    "train_char_label = ['No', 'Yes']\n",
    "Insurance_Tree_File = open('Insurance_Tree_File.dot','w')\n",
    "dot_data = tree.export_graphviz(dt_model, \n",
    "                                out_file=Insurance_Tree_File, \n",
    "                                feature_names = list(X_train), \n",
    "                                class_names = list(train_char_label))\n",
    "\n",
    "Insurance_Tree_File.close()"
   ]
  },
  {
   "cell_type": "markdown",
   "metadata": {},
   "source": [
    "### Variable Importance"
   ]
  },
  {
   "cell_type": "code",
   "execution_count": 36,
   "metadata": {
    "ExecuteTime": {
     "end_time": "2020-10-21T16:58:49.151311Z",
     "start_time": "2020-10-21T16:58:49.128946Z"
    }
   },
   "outputs": [
    {
     "name": "stdout",
     "output_type": "stream",
     "text": [
      "                   Imp\n",
      "Sales         0.238779\n",
      "Duration      0.236948\n",
      "Agency_Code   0.196651\n",
      "Age           0.184508\n",
      "Commision     0.083063\n",
      "Destination   0.025573\n",
      "Product Name  0.023539\n",
      "Channel       0.009486\n",
      "Type          0.001454\n"
     ]
    }
   ],
   "source": [
    "print (pd.DataFrame(dt_model.feature_importances_, columns = [\"Imp\"], index = X_train.columns).sort_values('Imp',ascending=False))"
   ]
  },
  {
   "cell_type": "markdown",
   "metadata": {},
   "source": [
    "### Predicting Test Data"
   ]
  },
  {
   "cell_type": "code",
   "execution_count": 31,
   "metadata": {
    "ExecuteTime": {
     "end_time": "2020-10-21T12:56:52.630363Z",
     "start_time": "2020-10-21T12:56:52.610708Z"
    }
   },
   "outputs": [],
   "source": [
    "y_predict = dt_model.predict(X_test)"
   ]
  },
  {
   "cell_type": "code",
   "execution_count": 32,
   "metadata": {
    "ExecuteTime": {
     "end_time": "2020-10-21T12:56:53.203476Z",
     "start_time": "2020-10-21T12:56:53.195343Z"
    }
   },
   "outputs": [],
   "source": [
    "from sklearn.metrics import classification_report,confusion_matrix"
   ]
  },
  {
   "cell_type": "code",
   "execution_count": 34,
   "metadata": {
    "ExecuteTime": {
     "end_time": "2020-10-21T13:04:22.201081Z",
     "start_time": "2020-10-21T13:04:22.182916Z"
    }
   },
   "outputs": [
    {
     "data": {
      "text/plain": [
       "array([[446, 123],\n",
       "       [146, 144]], dtype=int64)"
      ]
     },
     "execution_count": 34,
     "metadata": {},
     "output_type": "execute_result"
    }
   ],
   "source": [
    "confusion_matrix(test_labels, y_predict)"
   ]
  },
  {
   "cell_type": "code",
   "execution_count": 37,
   "metadata": {},
   "outputs": [
    {
     "name": "stdout",
     "output_type": "stream",
     "text": [
      "              precision    recall  f1-score   support\n",
      "\n",
      "           0       0.78      0.81      0.79       612\n",
      "           1       0.56      0.51      0.53       288\n",
      "\n",
      "    accuracy                           0.71       900\n",
      "   macro avg       0.67      0.66      0.66       900\n",
      "weighted avg       0.71      0.71      0.71       900\n",
      "\n"
     ]
    }
   ],
   "source": [
    "print(classification_report(test_labels, y_predict))"
   ]
  },
  {
   "cell_type": "markdown",
   "metadata": {},
   "source": [
    "### Regularising the Decision Tree Adding Tuning Parameters/"
   ]
  },
  {
   "cell_type": "markdown",
   "metadata": {},
   "source": [
    "### Using Grid Search"
   ]
  },
  {
   "cell_type": "code",
   "execution_count": 37,
   "metadata": {
    "ExecuteTime": {
     "end_time": "2020-10-22T04:16:17.699851Z",
     "start_time": "2020-10-22T04:16:17.680902Z"
    }
   },
   "outputs": [],
   "source": [
    "from sklearn.model_selection import GridSearchCV\n",
    "\n",
    "param_grid = {\n",
    "    \"criterion\":['gini'],\n",
    "    'max_depth': [5, 10, 15, 20],\n",
    "    'min_samples_leaf': [15,30,60,100],\n",
    "    'min_samples_split':[150,200,250,300]\n",
    "}\n",
    "dt_model = DecisionTreeClassifier()\n",
    "\n",
    "grid_search = GridSearchCV(estimator = dt_model, param_grid=param_grid,cv =10)"
   ]
  },
  {
   "cell_type": "code",
   "execution_count": 38,
   "metadata": {
    "ExecuteTime": {
     "end_time": "2020-10-22T04:16:25.052948Z",
     "start_time": "2020-10-22T04:16:21.301470Z"
    }
   },
   "outputs": [
    {
     "data": {
      "text/plain": [
       "GridSearchCV(cv=10, error_score=nan,\n",
       "             estimator=DecisionTreeClassifier(ccp_alpha=0.0, class_weight=None,\n",
       "                                              criterion='gini', max_depth=None,\n",
       "                                              max_features=None,\n",
       "                                              max_leaf_nodes=None,\n",
       "                                              min_impurity_decrease=0.0,\n",
       "                                              min_impurity_split=None,\n",
       "                                              min_samples_leaf=1,\n",
       "                                              min_samples_split=2,\n",
       "                                              min_weight_fraction_leaf=0.0,\n",
       "                                              presort='deprecated',\n",
       "                                              random_state=None,\n",
       "                                              splitter='best'),\n",
       "             iid='deprecated', n_jobs=None,\n",
       "             param_grid={'criterion': ['gini'], 'max_depth': [5, 10, 15, 20],\n",
       "                         'min_samples_leaf': [15, 30, 60, 100],\n",
       "                         'min_samples_split': [150, 200, 250, 300]},\n",
       "             pre_dispatch='2*n_jobs', refit=True, return_train_score=False,\n",
       "             scoring=None, verbose=0)"
      ]
     },
     "execution_count": 38,
     "metadata": {},
     "output_type": "execute_result"
    }
   ],
   "source": [
    "grid_search.fit(X_train,train_labels)"
   ]
  },
  {
   "cell_type": "code",
   "execution_count": 39,
   "metadata": {
    "ExecuteTime": {
     "end_time": "2020-10-22T04:16:38.956790Z",
     "start_time": "2020-10-22T04:16:38.950811Z"
    }
   },
   "outputs": [
    {
     "name": "stdout",
     "output_type": "stream",
     "text": [
      "{'criterion': 'gini', 'max_depth': 10, 'min_samples_leaf': 15, 'min_samples_split': 250}\n"
     ]
    }
   ],
   "source": [
    "print(grid_search.best_params_)"
   ]
  },
  {
   "cell_type": "code",
   "execution_count": 40,
   "metadata": {
    "ExecuteTime": {
     "end_time": "2020-10-22T04:16:51.035255Z",
     "start_time": "2020-10-22T04:16:51.026318Z"
    }
   },
   "outputs": [
    {
     "data": {
      "text/plain": [
       "DecisionTreeClassifier(ccp_alpha=0.0, class_weight=None, criterion='gini',\n",
       "                       max_depth=10, max_features=None, max_leaf_nodes=None,\n",
       "                       min_impurity_decrease=0.0, min_impurity_split=None,\n",
       "                       min_samples_leaf=15, min_samples_split=250,\n",
       "                       min_weight_fraction_leaf=0.0, presort='deprecated',\n",
       "                       random_state=None, splitter='best')"
      ]
     },
     "execution_count": 40,
     "metadata": {},
     "output_type": "execute_result"
    }
   ],
   "source": [
    "best_grid = grid_search.best_estimator_\n",
    "best_grid"
   ]
  },
  {
   "cell_type": "markdown",
   "metadata": {},
   "source": [
    "### Generating New Tree"
   ]
  },
  {
   "cell_type": "code",
   "execution_count": 41,
   "metadata": {
    "ExecuteTime": {
     "end_time": "2020-10-22T04:31:40.650296Z",
     "start_time": "2020-10-22T04:31:40.635295Z"
    }
   },
   "outputs": [],
   "source": [
    "from sklearn import tree\n",
    "\n",
    "train_char_label = ['No', 'Yes']\n",
    "Insurance_tree_regularized = open('Regularized_Insurance_tree_file.dot','w')\n",
    "dot_data = tree.export_graphviz(best_grid, \n",
    "                                out_file= Insurance_tree_regularized , \n",
    "                                feature_names = list(X_train), \n",
    "                                class_names = list(train_char_label))\n",
    "\n",
    "Insurance_tree_regularized.close()\n",
    "dot_data"
   ]
  },
  {
   "cell_type": "markdown",
   "metadata": {},
   "source": [
    "http://webgraphviz.com/"
   ]
  },
  {
   "cell_type": "markdown",
   "metadata": {},
   "source": [
    "### Variable Importance"
   ]
  },
  {
   "cell_type": "code",
   "execution_count": 42,
   "metadata": {
    "ExecuteTime": {
     "end_time": "2020-10-22T04:31:54.561524Z",
     "start_time": "2020-10-22T04:31:54.549557Z"
    }
   },
   "outputs": [
    {
     "name": "stdout",
     "output_type": "stream",
     "text": [
      "                   Imp\n",
      "Agency_Code   0.609553\n",
      "Sales         0.293022\n",
      "Product Name  0.034838\n",
      "Duration      0.028678\n",
      "Commision     0.023513\n",
      "Age           0.005642\n",
      "Channel       0.004753\n",
      "Type          0.000000\n",
      "Destination   0.000000\n"
     ]
    }
   ],
   "source": [
    "print (pd.DataFrame(best_grid.feature_importances_, columns = [\"Imp\"], index = X_train.columns).sort_values('Imp',ascending=False))"
   ]
  },
  {
   "cell_type": "markdown",
   "metadata": {},
   "source": [
    "### Predicting on Training and Test dataset"
   ]
  },
  {
   "cell_type": "code",
   "execution_count": 43,
   "metadata": {
    "ExecuteTime": {
     "end_time": "2020-10-22T04:32:37.390533Z",
     "start_time": "2020-10-22T04:32:37.380570Z"
    }
   },
   "outputs": [],
   "source": [
    "ytrain_predict = best_grid.predict(X_train)\n",
    "ytest_predict = best_grid.predict(X_test)"
   ]
  },
  {
   "cell_type": "code",
   "execution_count": 44,
   "metadata": {
    "ExecuteTime": {
     "end_time": "2020-10-22T04:32:48.743010Z",
     "start_time": "2020-10-22T04:32:48.737025Z"
    }
   },
   "outputs": [
    {
     "name": "stdout",
     "output_type": "stream",
     "text": [
      "ytrain_predict (2002,)\n",
      "ytest_predict (859,)\n"
     ]
    }
   ],
   "source": [
    "print('ytrain_predict',ytrain_predict.shape)\n",
    "print('ytest_predict',ytest_predict.shape)"
   ]
  },
  {
   "cell_type": "code",
   "execution_count": 45,
   "metadata": {
    "ExecuteTime": {
     "end_time": "2020-10-22T04:32:53.118720Z",
     "start_time": "2020-10-22T04:32:53.086805Z"
    }
   },
   "outputs": [
    {
     "data": {
      "text/plain": [
       "array([1, 0, 1, 0, 1, 0, 0, 0, 0, 0, 0, 1, 1, 0, 0, 0, 0, 1, 0, 0, 0, 1,\n",
       "       1, 0, 0, 1, 0, 0, 0, 1, 1, 1, 1, 0, 1, 1, 0, 0, 0, 1, 0, 0, 0, 0,\n",
       "       0, 1, 1, 0, 1, 0, 0, 0, 1, 0, 0, 0, 0, 0, 0, 1, 0, 0, 1, 1, 0, 1,\n",
       "       0, 0, 0, 0, 0, 0, 0, 0, 1, 0, 0, 0, 0, 0, 0, 0, 1, 0, 0, 1, 0, 0,\n",
       "       0, 1, 0, 0, 1, 0, 0, 0, 1, 1, 0, 0, 0, 0, 1, 0, 1, 1, 0, 1, 0, 0,\n",
       "       0, 1, 0, 0, 0, 0, 0, 0, 1, 0, 0, 1, 0, 0, 0, 0, 0, 1, 0, 1, 0, 0,\n",
       "       1, 0, 0, 0, 0, 1, 0, 0, 1, 0, 1, 1, 1, 1, 0, 0, 0, 0, 0, 0, 0, 0,\n",
       "       1, 0, 0, 0, 0, 0, 0, 0, 0, 0, 1, 0, 0, 1, 0, 0, 1, 1, 1, 0, 0, 0,\n",
       "       0, 0, 0, 0, 0, 0, 0, 0, 0, 0, 0, 0, 0, 1, 1, 0, 0, 0, 0, 0, 0, 0,\n",
       "       0, 0, 0, 1, 0, 0, 0, 1, 0, 0, 0, 0, 0, 0, 1, 1, 0, 0, 1, 0, 0, 1,\n",
       "       1, 1, 1, 0, 0, 0, 1, 0, 1, 1, 0, 0, 1, 0, 1, 0, 1, 0, 0, 1, 0, 0,\n",
       "       0, 0, 0, 0, 1, 0, 1, 1, 0, 0, 0, 1, 0, 1, 0, 0, 1, 1, 0, 0, 0, 0,\n",
       "       0, 1, 1, 1, 0, 0, 0, 0, 0, 1, 0, 0, 1, 0, 1, 1, 0, 0, 0, 0, 0, 1,\n",
       "       0, 0, 0, 0, 1, 1, 0, 0, 0, 1, 1, 0, 0, 1, 1, 0, 0, 0, 0, 0, 0, 0,\n",
       "       0, 0, 0, 0, 0, 0, 1, 0, 1, 1, 0, 0, 0, 1, 0, 0, 0, 1, 0, 1, 0, 0,\n",
       "       0, 1, 0, 0, 0, 1, 0, 0, 0, 0, 0, 0, 0, 0, 0, 1, 0, 0, 0, 0, 0, 0,\n",
       "       0, 0, 0, 0, 0, 0, 1, 0, 0, 0, 0, 0, 1, 0, 1, 0, 0, 0, 0, 0, 1, 0,\n",
       "       0, 0, 0, 1, 0, 0, 0, 0, 0, 0, 0, 0, 0, 0, 1, 0, 0, 1, 0, 0, 0, 0,\n",
       "       1, 0, 0, 0, 0, 0, 0, 1, 0, 0, 0, 0, 1, 0, 1, 0, 0, 1, 0, 0, 0, 0,\n",
       "       1, 1, 1, 0, 0, 0, 0, 0, 0, 0, 1, 0, 0, 0, 0, 1, 0, 1, 1, 0, 0, 1,\n",
       "       0, 1, 0, 1, 0, 0, 0, 0, 0, 0, 0, 1, 0, 0, 0, 0, 0, 0, 1, 0, 1, 0,\n",
       "       0, 0, 0, 0, 0, 1, 1, 1, 1, 0, 1, 1, 1, 0, 1, 0, 0, 0, 0, 1, 0, 0,\n",
       "       0, 0, 0, 0, 0, 0, 1, 0, 0, 0, 0, 0, 0, 1, 1, 0, 0, 0, 1, 0, 0, 0,\n",
       "       0, 1, 1, 0, 0, 0, 0, 1, 0, 0, 0, 0, 0, 1, 0, 0, 0, 0, 0, 1, 0, 0,\n",
       "       1, 0, 0, 0, 1, 0, 0, 0, 1, 0, 1, 1, 0, 0, 0, 0, 0, 0, 0, 1, 0, 0,\n",
       "       0, 0, 0, 1, 0, 0, 1, 0, 0, 0, 0, 1, 0, 0, 1, 1, 1, 1, 1, 0, 0, 0,\n",
       "       0, 0, 0, 0, 0, 0, 0, 0, 0, 1, 0, 0, 0, 0, 1, 0, 0, 0, 0, 0, 0, 0,\n",
       "       1, 0, 0, 0, 0, 0, 1, 0, 0, 0, 0, 0, 0, 1, 0, 0, 0, 0, 0, 0, 0, 0,\n",
       "       0, 0, 1, 0, 0, 0, 0, 1, 0, 1, 0, 0, 0, 1, 1, 0, 0, 0, 0, 1, 1, 1,\n",
       "       0, 1, 0, 0, 0, 0, 1, 0, 1, 0, 0, 0, 0, 0, 0, 0, 1, 0, 1, 1, 0, 0,\n",
       "       1, 0, 0, 0, 0, 0, 0, 0, 0, 0, 0, 1, 0, 0, 0, 0, 0, 1, 0, 0, 0, 0,\n",
       "       1, 0, 0, 0, 0, 0, 0, 0, 0, 1, 1, 0, 0, 0, 1, 0, 0, 0, 0, 1, 1, 1,\n",
       "       0, 0, 0, 1, 0, 0, 0, 0, 0, 0, 0, 0, 1, 0, 1, 0, 0, 0, 0, 0, 1, 0,\n",
       "       0, 1, 0, 1, 0, 0, 0, 0, 0, 0, 1, 0, 0, 1, 0, 1, 0, 0, 0, 0, 0, 1,\n",
       "       1, 0, 0, 0, 1, 0, 1, 0, 0, 0, 0, 0, 1, 1, 0, 1, 0, 0, 1, 1, 1, 1,\n",
       "       0, 1, 1, 0, 1, 1, 0, 0, 0, 0, 0, 0, 0, 0, 0, 0, 0, 0, 1, 0, 0, 1,\n",
       "       0, 1, 0, 0, 0, 1, 0, 0, 0, 1, 0, 0, 0, 0, 1, 0, 0, 0, 1, 0, 1, 1,\n",
       "       0, 0, 0, 0, 1, 0, 0, 0, 0, 1, 1, 0, 1, 0, 1, 0, 0, 0, 0, 0, 0, 0,\n",
       "       0, 0, 0, 0, 1, 0, 0, 1, 0, 1, 1, 0, 0, 0, 1, 0, 0, 0, 0, 1, 0, 0,\n",
       "       1], dtype=int8)"
      ]
     },
     "execution_count": 45,
     "metadata": {},
     "output_type": "execute_result"
    }
   ],
   "source": [
    "ytest_predict"
   ]
  },
  {
   "cell_type": "markdown",
   "metadata": {},
   "source": [
    "### Getting the Predicted Probabilities"
   ]
  },
  {
   "cell_type": "code",
   "execution_count": 46,
   "metadata": {
    "ExecuteTime": {
     "end_time": "2020-10-22T04:33:10.562800Z",
     "start_time": "2020-10-22T04:33:10.509937Z"
    }
   },
   "outputs": [
    {
     "data": {
      "text/plain": [
       "array([[0.30630631, 0.69369369],\n",
       "       [0.86184211, 0.13815789],\n",
       "       [0.30630631, 0.69369369],\n",
       "       ...,\n",
       "       [0.68444444, 0.31555556],\n",
       "       [0.86184211, 0.13815789],\n",
       "       [0.41393443, 0.58606557]])"
      ]
     },
     "execution_count": 46,
     "metadata": {},
     "output_type": "execute_result"
    }
   ],
   "source": [
    "ytest_predict_prob=best_grid.predict_proba(X_test)\n",
    "ytest_predict_prob"
   ]
  },
  {
   "cell_type": "code",
   "execution_count": 47,
   "metadata": {
    "ExecuteTime": {
     "end_time": "2020-10-22T04:33:21.792148Z",
     "start_time": "2020-10-22T04:33:21.778225Z"
    }
   },
   "outputs": [
    {
     "data": {
      "text/html": [
       "<div>\n",
       "<style scoped>\n",
       "    .dataframe tbody tr th:only-of-type {\n",
       "        vertical-align: middle;\n",
       "    }\n",
       "\n",
       "    .dataframe tbody tr th {\n",
       "        vertical-align: top;\n",
       "    }\n",
       "\n",
       "    .dataframe thead th {\n",
       "        text-align: right;\n",
       "    }\n",
       "</style>\n",
       "<table border=\"1\" class=\"dataframe\">\n",
       "  <thead>\n",
       "    <tr style=\"text-align: right;\">\n",
       "      <th></th>\n",
       "      <th>0</th>\n",
       "      <th>1</th>\n",
       "    </tr>\n",
       "  </thead>\n",
       "  <tbody>\n",
       "    <tr>\n",
       "      <th>0</th>\n",
       "      <td>0.306306</td>\n",
       "      <td>0.693694</td>\n",
       "    </tr>\n",
       "    <tr>\n",
       "      <th>1</th>\n",
       "      <td>0.861842</td>\n",
       "      <td>0.138158</td>\n",
       "    </tr>\n",
       "    <tr>\n",
       "      <th>2</th>\n",
       "      <td>0.306306</td>\n",
       "      <td>0.693694</td>\n",
       "    </tr>\n",
       "    <tr>\n",
       "      <th>3</th>\n",
       "      <td>0.684444</td>\n",
       "      <td>0.315556</td>\n",
       "    </tr>\n",
       "    <tr>\n",
       "      <th>4</th>\n",
       "      <td>0.413934</td>\n",
       "      <td>0.586066</td>\n",
       "    </tr>\n",
       "    <tr>\n",
       "      <th>...</th>\n",
       "      <td>...</td>\n",
       "      <td>...</td>\n",
       "    </tr>\n",
       "    <tr>\n",
       "      <th>854</th>\n",
       "      <td>0.702703</td>\n",
       "      <td>0.297297</td>\n",
       "    </tr>\n",
       "    <tr>\n",
       "      <th>855</th>\n",
       "      <td>0.413934</td>\n",
       "      <td>0.586066</td>\n",
       "    </tr>\n",
       "    <tr>\n",
       "      <th>856</th>\n",
       "      <td>0.684444</td>\n",
       "      <td>0.315556</td>\n",
       "    </tr>\n",
       "    <tr>\n",
       "      <th>857</th>\n",
       "      <td>0.861842</td>\n",
       "      <td>0.138158</td>\n",
       "    </tr>\n",
       "    <tr>\n",
       "      <th>858</th>\n",
       "      <td>0.413934</td>\n",
       "      <td>0.586066</td>\n",
       "    </tr>\n",
       "  </tbody>\n",
       "</table>\n",
       "<p>859 rows × 2 columns</p>\n",
       "</div>"
      ],
      "text/plain": [
       "            0         1\n",
       "0    0.306306  0.693694\n",
       "1    0.861842  0.138158\n",
       "2    0.306306  0.693694\n",
       "3    0.684444  0.315556\n",
       "4    0.413934  0.586066\n",
       "..        ...       ...\n",
       "854  0.702703  0.297297\n",
       "855  0.413934  0.586066\n",
       "856  0.684444  0.315556\n",
       "857  0.861842  0.138158\n",
       "858  0.413934  0.586066\n",
       "\n",
       "[859 rows x 2 columns]"
      ]
     },
     "execution_count": 47,
     "metadata": {},
     "output_type": "execute_result"
    }
   ],
   "source": [
    "pd.DataFrame(ytest_predict_prob)"
   ]
  },
  {
   "cell_type": "markdown",
   "metadata": {},
   "source": [
    "### Model Evaluation using AUC-ROC Curve"
   ]
  },
  {
   "cell_type": "markdown",
   "metadata": {},
   "source": [
    "### AUC and ROC for the training data"
   ]
  },
  {
   "cell_type": "code",
   "execution_count": 48,
   "metadata": {
    "ExecuteTime": {
     "end_time": "2020-10-22T04:33:42.619443Z",
     "start_time": "2020-10-22T04:33:41.817087Z"
    }
   },
   "outputs": [
    {
     "name": "stdout",
     "output_type": "stream",
     "text": [
      "AUC: 0.824\n"
     ]
    },
    {
     "data": {
      "image/png": "[encoded data removed]",
      "text/plain": [
       "<Figure size 432x288 with 1 Axes>"
      ]
     },
     "metadata": {
      "needs_background": "light"
     },
     "output_type": "display_data"
    }
   ],
   "source": [
    "# predict probabilities\n",
    "probs = best_grid.predict_proba(X_train)\n",
    "# keep probabilities for the positive outcome only\n",
    "probs = probs[:, 1]\n",
    "# calculate AUC\n",
    "from sklearn.metrics import roc_auc_score\n",
    "cart_train_auc = roc_auc_score(train_labels, probs)\n",
    "print('AUC: %.3f' % cart_train_auc)\n",
    "# calculate roc curve\n",
    "from sklearn.metrics import roc_curve\n",
    "cart_train_fpr, cart_train_tpr, thresholds = roc_curve(train_labels, probs)\n",
    "plt.plot([0, 1], [0, 1], linestyle='--')\n",
    "# plot the roc curve for the model\n",
    "plt.plot(cart_train_fpr, cart_train_tpr, marker='.')\n",
    "# show the plot\n",
    "plt.show()"
   ]
  },
  {
   "cell_type": "markdown",
   "metadata": {},
   "source": [
    "### AUC and ROC for the test data"
   ]
  },
  {
   "cell_type": "code",
   "execution_count": 49,
   "metadata": {
    "ExecuteTime": {
     "end_time": "2020-10-22T04:33:47.425303Z",
     "start_time": "2020-10-22T04:33:47.233002Z"
    },
    "scrolled": true
   },
   "outputs": [
    {
     "name": "stdout",
     "output_type": "stream",
     "text": [
      "AUC: 0.771\n"
     ]
    },
    {
     "data": {
      "image/png": "[encoded data removed]",
      "text/plain": [
       "<Figure size 432x288 with 1 Axes>"
      ]
     },
     "metadata": {
      "needs_background": "light"
     },
     "output_type": "display_data"
    }
   ],
   "source": [
    "# predict probabilities\n",
    "probs = best_grid.predict_proba(X_test)\n",
    "# keep probabilities for the positive outcome only\n",
    "probs = probs[:, 1]\n",
    "# calculate AUC\n",
    "from sklearn.metrics import roc_auc_score\n",
    "cart_test_auc = roc_auc_score(test_labels, probs)\n",
    "print('AUC: %.3f' % cart_test_auc)\n",
    "# calculate roc curve\n",
    "from sklearn.metrics import roc_curve\n",
    "cart_test_fpr, cart_test_tpr, thresholds = roc_curve(test_labels, probs)\n",
    "plt.plot([0, 1], [0, 1], linestyle='--')\n",
    "# plot the roc curve for the model\n",
    "plt.plot(cart_test_fpr, cart_test_tpr, marker='.')\n",
    "# show the plot\n",
    "plt.show()"
   ]
  },
  {
   "cell_type": "code",
   "execution_count": 50,
   "metadata": {
    "ExecuteTime": {
     "end_time": "2020-10-22T04:33:52.541554Z",
     "start_time": "2020-10-22T04:33:52.536567Z"
    }
   },
   "outputs": [],
   "source": [
    "from sklearn.metrics import classification_report,confusion_matrix"
   ]
  },
  {
   "cell_type": "markdown",
   "metadata": {},
   "source": [
    "## Confusion Matrix for the training data"
   ]
  },
  {
   "cell_type": "code",
   "execution_count": 51,
   "metadata": {
    "ExecuteTime": {
     "end_time": "2020-10-22T04:33:58.801583Z",
     "start_time": "2020-10-22T04:33:58.788580Z"
    }
   },
   "outputs": [
    {
     "data": {
      "text/plain": [
       "array([[1213,  165],\n",
       "       [ 267,  357]], dtype=int64)"
      ]
     },
     "execution_count": 51,
     "metadata": {},
     "output_type": "execute_result"
    }
   ],
   "source": [
    "confusion_matrix(train_labels, ytrain_predict)"
   ]
  },
  {
   "cell_type": "code",
   "execution_count": 52,
   "metadata": {
    "ExecuteTime": {
     "end_time": "2020-10-22T04:34:10.805672Z",
     "start_time": "2020-10-22T04:34:10.799687Z"
    }
   },
   "outputs": [
    {
     "data": {
      "text/plain": [
       "0.7842157842157842"
      ]
     },
     "execution_count": 52,
     "metadata": {},
     "output_type": "execute_result"
    }
   ],
   "source": [
    "#Train Data Accuracy\n",
    "best_grid.score(X_train,train_labels)"
   ]
  },
  {
   "cell_type": "code",
   "execution_count": 53,
   "metadata": {
    "ExecuteTime": {
     "end_time": "2020-10-22T04:34:15.659688Z",
     "start_time": "2020-10-22T04:34:15.652707Z"
    }
   },
   "outputs": [
    {
     "data": {
      "text/plain": [
       "0.7842157842157842"
      ]
     },
     "execution_count": 53,
     "metadata": {},
     "output_type": "execute_result"
    }
   ],
   "source": [
    "#Train Data Accuracy\n",
    "cart_train_acc=best_grid.score(X_train,train_labels)\n",
    "cart_train_acc"
   ]
  },
  {
   "cell_type": "code",
   "execution_count": 54,
   "metadata": {
    "ExecuteTime": {
     "end_time": "2020-10-22T04:34:21.843735Z",
     "start_time": "2020-10-22T04:34:21.761925Z"
    },
    "scrolled": true
   },
   "outputs": [
    {
     "name": "stdout",
     "output_type": "stream",
     "text": [
      "              precision    recall  f1-score   support\n",
      "\n",
      "           0       0.82      0.88      0.85      1378\n",
      "           1       0.68      0.57      0.62       624\n",
      "\n",
      "    accuracy                           0.78      2002\n",
      "   macro avg       0.75      0.73      0.74      2002\n",
      "weighted avg       0.78      0.78      0.78      2002\n",
      "\n"
     ]
    }
   ],
   "source": [
    "print(classification_report(train_labels, ytrain_predict))"
   ]
  },
  {
   "cell_type": "code",
   "execution_count": 55,
   "metadata": {
    "ExecuteTime": {
     "end_time": "2020-10-22T04:38:50.382167Z",
     "start_time": "2020-10-22T04:38:50.250651Z"
    }
   },
   "outputs": [
    {
     "name": "stdout",
     "output_type": "stream",
     "text": [
      "cart_train_precision  0.68\n",
      "cart_train_recall  0.57\n",
      "cart_train_f1  0.62\n"
     ]
    }
   ],
   "source": [
    "cart_metrics = classification_report(train_labels,ytrain_predict,output_dict=True)\n",
    "df = pd.DataFrame(cart_metrics).transpose()\n",
    "df\n",
    "cart_train_precision = round(df.loc[\"1\"][0],2)\n",
    "cart_train_recall = round(df.loc[\"1\"][1],2)\n",
    "cart_train_f1 = round(df.loc[\"1\"][2],2)\n",
    "print ('cart_train_precision ',cart_train_precision)\n",
    "print ('cart_train_recall ',cart_train_recall)\n",
    "print ('cart_train_f1 ',cart_train_f1)"
   ]
  },
  {
   "cell_type": "markdown",
   "metadata": {},
   "source": [
    "## Confusion Matrix for test data"
   ]
  },
  {
   "cell_type": "code",
   "execution_count": 56,
   "metadata": {
    "ExecuteTime": {
     "end_time": "2020-10-22T04:38:59.724919Z",
     "start_time": "2020-10-22T04:38:59.712997Z"
    }
   },
   "outputs": [
    {
     "data": {
      "text/plain": [
       "array([[492,  77],\n",
       "       [135, 155]], dtype=int64)"
      ]
     },
     "execution_count": 56,
     "metadata": {},
     "output_type": "execute_result"
    }
   ],
   "source": [
    "confusion_matrix(test_labels, ytest_predict)"
   ]
  },
  {
   "cell_type": "code",
   "execution_count": 57,
   "metadata": {
    "ExecuteTime": {
     "end_time": "2020-10-22T04:39:00.583264Z",
     "start_time": "2020-10-22T04:39:00.573254Z"
    }
   },
   "outputs": [
    {
     "data": {
      "text/plain": [
       "0.7532013969732246"
      ]
     },
     "execution_count": 57,
     "metadata": {},
     "output_type": "execute_result"
    }
   ],
   "source": [
    "best_grid.score(X_test,test_labels) "
   ]
  },
  {
   "cell_type": "code",
   "execution_count": 58,
   "metadata": {
    "ExecuteTime": {
     "end_time": "2020-10-22T04:39:02.420518Z",
     "start_time": "2020-10-22T04:39:02.408539Z"
    }
   },
   "outputs": [
    {
     "data": {
      "text/plain": [
       "0.7532013969732246"
      ]
     },
     "execution_count": 58,
     "metadata": {},
     "output_type": "execute_result"
    }
   ],
   "source": [
    "#Test Data Accuracy\n",
    "cart_test_acc=best_grid.score(X_test,test_labels)\n",
    "cart_test_acc"
   ]
  },
  {
   "cell_type": "code",
   "execution_count": 59,
   "metadata": {
    "ExecuteTime": {
     "end_time": "2020-10-22T04:39:04.082844Z",
     "start_time": "2020-10-22T04:39:04.072836Z"
    }
   },
   "outputs": [
    {
     "name": "stdout",
     "output_type": "stream",
     "text": [
      "              precision    recall  f1-score   support\n",
      "\n",
      "           0       0.78      0.86      0.82       569\n",
      "           1       0.67      0.53      0.59       290\n",
      "\n",
      "    accuracy                           0.75       859\n",
      "   macro avg       0.73      0.70      0.71       859\n",
      "weighted avg       0.75      0.75      0.75       859\n",
      "\n"
     ]
    }
   ],
   "source": [
    "print(classification_report(test_labels, ytest_predict))"
   ]
  },
  {
   "cell_type": "code",
   "execution_count": 60,
   "metadata": {
    "ExecuteTime": {
     "end_time": "2020-10-22T04:39:34.227861Z",
     "start_time": "2020-10-22T04:39:34.205919Z"
    }
   },
   "outputs": [
    {
     "name": "stdout",
     "output_type": "stream",
     "text": [
      "cart_train_precision  0.68\n",
      "cart_train_recall  0.57\n",
      "cart_train_f1  0.62\n"
     ]
    }
   ],
   "source": [
    "cart_metrics = classification_report(test_labels,ytest_predict,output_dict=True)\n",
    "df = pd.DataFrame(cart_metrics).transpose()\n",
    "df\n",
    "cart_test_precision = round(df.loc[\"1\"][0],2)\n",
    "cart_test_recall = round(df.loc[\"1\"][1],2)\n",
    "cart_test_f1 = round(df.loc[\"1\"][2],2)\n",
    "print ('cart_train_precision ',cart_train_precision)\n",
    "print ('cart_train_recall ',cart_train_recall)\n",
    "print ('cart_train_f1 ',cart_train_f1)"
   ]
  },
  {
   "cell_type": "markdown",
   "metadata": {},
   "source": [
    "## Cart Conclusion\n",
    "\n",
    "### Train Data:\n",
    "AUC: 82.4%\n",
    "Accuracy: 78%\n",
    "Precision: 68%\n",
    "f1-Score: 62%\n",
    "\n",
    "### Test Data:\n",
    "AUC: 77.1%\n",
    "Accuracy: 75%\n",
    "Precision: 67%\n",
    "f1-Score: 59%\n",
    "\n",
    "Training and Test set results have minor differences, and with average overall measures, The model can be considered as a good model.\n",
    "\n",
    "Agency_Code is the most important variable for predicting Claim Status."
   ]
  },
  {
   "cell_type": "markdown",
   "metadata": {},
   "source": [
    "## Random Forest Classifier"
   ]
  },
  {
   "cell_type": "code",
   "execution_count": 62,
   "metadata": {
    "ExecuteTime": {
     "end_time": "2020-10-22T05:49:12.066825Z",
     "start_time": "2020-10-22T05:49:11.661425Z"
    }
   },
   "outputs": [],
   "source": [
    "from sklearn.ensemble import RandomForestClassifier"
   ]
  },
  {
   "cell_type": "code",
   "execution_count": 66,
   "metadata": {
    "ExecuteTime": {
     "end_time": "2020-10-22T05:50:12.375264Z",
     "start_time": "2020-10-22T05:50:12.366326Z"
    }
   },
   "outputs": [],
   "source": [
    "param_grid = {\n",
    "    'oob_score': [True],\n",
    "    'max_depth': [10,15,20],\n",
    "    'max_features': [3,4,5],\n",
    "    'min_samples_leaf': [20,30,50],\n",
    "    'min_samples_split': [60,90,150], \n",
    "    'n_estimators': [301,501]\n",
    "}\n",
    "\n",
    "rfcl = RandomForestClassifier(random_state=1)\n",
    "\n",
    "grid_search = GridSearchCV(estimator = rfcl, param_grid = param_grid, cv = 3)"
   ]
  },
  {
   "cell_type": "code",
   "execution_count": 67,
   "metadata": {
    "ExecuteTime": {
     "end_time": "2020-10-22T06:00:16.786342Z",
     "start_time": "2020-10-22T05:52:46.556036Z"
    }
   },
   "outputs": [
    {
     "data": {
      "text/plain": [
       "GridSearchCV(cv=3, error_score=nan,\n",
       "             estimator=RandomForestClassifier(bootstrap=True, ccp_alpha=0.0,\n",
       "                                              class_weight=None,\n",
       "                                              criterion='gini', max_depth=None,\n",
       "                                              max_features='auto',\n",
       "                                              max_leaf_nodes=None,\n",
       "                                              max_samples=None,\n",
       "                                              min_impurity_decrease=0.0,\n",
       "                                              min_impurity_split=None,\n",
       "                                              min_samples_leaf=1,\n",
       "                                              min_samples_split=2,\n",
       "                                              min_weight_fraction_leaf=0.0,\n",
       "                                              n_estimators=100, n_jobs=None,\n",
       "                                              oob_score=False, random_state=1,\n",
       "                                              verbose=0, warm_start=False),\n",
       "             iid='deprecated', n_jobs=None,\n",
       "             param_grid={'max_depth': [10, 15, 20], 'max_features': [3, 4, 5],\n",
       "                         'min_samples_leaf': [20, 30, 50],\n",
       "                         'min_samples_split': [60, 90, 150],\n",
       "                         'n_estimators': [301, 501], 'oob_score': [True]},\n",
       "             pre_dispatch='2*n_jobs', refit=True, return_train_score=False,\n",
       "             scoring=None, verbose=0)"
      ]
     },
     "execution_count": 67,
     "metadata": {},
     "output_type": "execute_result"
    }
   ],
   "source": [
    "grid_search.fit(X_train, train_labels)"
   ]
  },
  {
   "cell_type": "code",
   "execution_count": 68,
   "metadata": {
    "ExecuteTime": {
     "end_time": "2020-10-22T06:00:17.136363Z",
     "start_time": "2020-10-22T06:00:17.130379Z"
    }
   },
   "outputs": [
    {
     "data": {
      "text/plain": [
       "{'max_depth': 10,\n",
       " 'max_features': 4,\n",
       " 'min_samples_leaf': 20,\n",
       " 'min_samples_split': 60,\n",
       " 'n_estimators': 301,\n",
       " 'oob_score': True}"
      ]
     },
     "execution_count": 68,
     "metadata": {},
     "output_type": "execute_result"
    }
   ],
   "source": [
    "grid_search.best_params_"
   ]
  },
  {
   "cell_type": "code",
   "execution_count": 69,
   "metadata": {
    "ExecuteTime": {
     "end_time": "2020-10-22T06:58:54.413884Z",
     "start_time": "2020-10-22T06:58:54.409891Z"
    }
   },
   "outputs": [],
   "source": [
    "best_grid = grid_search.best_estimator_"
   ]
  },
  {
   "cell_type": "code",
   "execution_count": 70,
   "metadata": {
    "ExecuteTime": {
     "end_time": "2020-10-22T06:58:55.187147Z",
     "start_time": "2020-10-22T06:58:55.180167Z"
    }
   },
   "outputs": [
    {
     "data": {
      "text/plain": [
       "RandomForestClassifier(bootstrap=True, ccp_alpha=0.0, class_weight=None,\n",
       "                       criterion='gini', max_depth=10, max_features=4,\n",
       "                       max_leaf_nodes=None, max_samples=None,\n",
       "                       min_impurity_decrease=0.0, min_impurity_split=None,\n",
       "                       min_samples_leaf=20, min_samples_split=60,\n",
       "                       min_weight_fraction_leaf=0.0, n_estimators=301,\n",
       "                       n_jobs=None, oob_score=True, random_state=1, verbose=0,\n",
       "                       warm_start=False)"
      ]
     },
     "execution_count": 70,
     "metadata": {},
     "output_type": "execute_result"
    }
   ],
   "source": [
    "best_grid"
   ]
  },
  {
   "cell_type": "code",
   "execution_count": 71,
   "metadata": {
    "ExecuteTime": {
     "end_time": "2020-10-22T06:58:56.669386Z",
     "start_time": "2020-10-22T06:58:56.662368Z"
    }
   },
   "outputs": [
    {
     "data": {
      "text/plain": [
       "0.7822177822177823"
      ]
     },
     "execution_count": 71,
     "metadata": {},
     "output_type": "execute_result"
    }
   ],
   "source": [
    "best_grid.oob_score_"
   ]
  },
  {
   "cell_type": "code",
   "execution_count": 72,
   "metadata": {
    "ExecuteTime": {
     "end_time": "2020-10-22T07:00:14.938898Z",
     "start_time": "2020-10-22T07:00:14.891025Z"
    }
   },
   "outputs": [
    {
     "name": "stdout",
     "output_type": "stream",
     "text": [
      "                   Imp\n",
      "Agency_Code   0.313521\n",
      "Product Name  0.220025\n",
      "Sales         0.184755\n",
      "Commision     0.099328\n",
      "Duration      0.072109\n",
      "Type          0.057193\n",
      "Age           0.041712\n",
      "Destination   0.009604\n",
      "Channel       0.001754\n"
     ]
    }
   ],
   "source": [
    "print (pd.DataFrame(best_grid.feature_importances_, columns = [\"Imp\"], index = X_train.columns).sort_values('Imp',ascending=False))"
   ]
  },
  {
   "cell_type": "markdown",
   "metadata": {},
   "source": [
    "## Predicting the Training and Testing data"
   ]
  },
  {
   "cell_type": "code",
   "execution_count": 73,
   "metadata": {
    "ExecuteTime": {
     "end_time": "2020-10-22T08:00:19.320730Z",
     "start_time": "2020-10-22T08:00:19.159092Z"
    }
   },
   "outputs": [],
   "source": [
    "ytrain_predict = best_grid.predict(X_train)\n",
    "ytest_predict = best_grid.predict(X_test)"
   ]
  },
  {
   "cell_type": "markdown",
   "metadata": {},
   "source": [
    "### Confusion Matrix for train and data"
   ]
  },
  {
   "cell_type": "code",
   "execution_count": 76,
   "metadata": {
    "ExecuteTime": {
     "end_time": "2020-10-22T08:01:53.824229Z",
     "start_time": "2020-10-22T08:01:53.818245Z"
    }
   },
   "outputs": [],
   "source": [
    "from sklearn.metrics import confusion_matrix,classification_report"
   ]
  },
  {
   "cell_type": "code",
   "execution_count": 77,
   "metadata": {
    "ExecuteTime": {
     "end_time": "2020-10-22T08:01:55.280356Z",
     "start_time": "2020-10-22T08:01:55.268391Z"
    },
    "scrolled": false
   },
   "outputs": [
    {
     "data": {
      "text/plain": [
       "array([[1233,  145],\n",
       "       [ 256,  368]], dtype=int64)"
      ]
     },
     "execution_count": 77,
     "metadata": {},
     "output_type": "execute_result"
    }
   ],
   "source": [
    "confusion_matrix(train_labels,ytrain_predict)"
   ]
  },
  {
   "cell_type": "code",
   "execution_count": 78,
   "metadata": {
    "ExecuteTime": {
     "end_time": "2020-10-22T08:02:33.255733Z",
     "start_time": "2020-10-22T08:02:33.151017Z"
    }
   },
   "outputs": [
    {
     "data": {
      "text/plain": [
       "0.7997002997002997"
      ]
     },
     "execution_count": 78,
     "metadata": {},
     "output_type": "execute_result"
    }
   ],
   "source": [
    "rf_train_acc=best_grid.score(X_train,train_labels) \n",
    "rf_train_acc"
   ]
  },
  {
   "cell_type": "markdown",
   "metadata": {},
   "source": [
    "### Confusion Matrix for test data"
   ]
  },
  {
   "cell_type": "code",
   "execution_count": 79,
   "metadata": {
    "ExecuteTime": {
     "end_time": "2020-10-22T12:18:40.780941Z",
     "start_time": "2020-10-22T12:18:40.767647Z"
    },
    "scrolled": false
   },
   "outputs": [
    {
     "data": {
      "text/plain": [
       "array([[498,  71],\n",
       "       [134, 156]], dtype=int64)"
      ]
     },
     "execution_count": 79,
     "metadata": {},
     "output_type": "execute_result"
    }
   ],
   "source": [
    "confusion_matrix(test_labels,ytest_predict)"
   ]
  },
  {
   "cell_type": "code",
   "execution_count": 80,
   "metadata": {
    "ExecuteTime": {
     "end_time": "2020-10-22T12:18:44.857139Z",
     "start_time": "2020-10-22T12:18:44.747823Z"
    }
   },
   "outputs": [
    {
     "data": {
      "text/plain": [
       "0.7613504074505238"
      ]
     },
     "execution_count": 80,
     "metadata": {},
     "output_type": "execute_result"
    }
   ],
   "source": [
    "rf_test_acc=best_grid.score(X_test,test_labels)\n",
    "rf_test_acc"
   ]
  },
  {
   "cell_type": "markdown",
   "metadata": {},
   "source": [
    "### Classification Report for train data"
   ]
  },
  {
   "cell_type": "code",
   "execution_count": 81,
   "metadata": {
    "ExecuteTime": {
     "end_time": "2020-10-22T12:18:53.577317Z",
     "start_time": "2020-10-22T12:18:53.559956Z"
    },
    "scrolled": true
   },
   "outputs": [
    {
     "name": "stdout",
     "output_type": "stream",
     "text": [
      "              precision    recall  f1-score   support\n",
      "\n",
      "           0       0.83      0.89      0.86      1378\n",
      "           1       0.72      0.59      0.65       624\n",
      "\n",
      "    accuracy                           0.80      2002\n",
      "   macro avg       0.77      0.74      0.75      2002\n",
      "weighted avg       0.79      0.80      0.79      2002\n",
      "\n"
     ]
    }
   ],
   "source": [
    "print(classification_report(train_labels,ytrain_predict))"
   ]
  },
  {
   "cell_type": "code",
   "execution_count": 82,
   "metadata": {
    "ExecuteTime": {
     "end_time": "2020-10-22T12:19:14.569619Z",
     "start_time": "2020-10-22T12:19:14.433856Z"
    }
   },
   "outputs": [
    {
     "name": "stdout",
     "output_type": "stream",
     "text": [
      "rf_train_precision  0.72\n",
      "rf_train_recall  0.59\n",
      "rf_train_f1  0.65\n"
     ]
    }
   ],
   "source": [
    "rf_metrics = classification_report(train_labels,ytrain_predict,output_dict=True)\n",
    "df1 = pd.DataFrame(rf_metrics).transpose()\n",
    "df1\n",
    "rf_train_precision = round(df1.loc[\"1\"][0],2)\n",
    "rf_train_recall = round(df1.loc[\"1\"][1],2)\n",
    "rf_train_f1 = round(df1.loc[\"1\"][2],2)\n",
    "print ('rf_train_precision ',rf_train_precision)\n",
    "print ('rf_train_recall ',rf_train_recall)\n",
    "print ('rf_train_f1 ',rf_train_f1)"
   ]
  },
  {
   "cell_type": "markdown",
   "metadata": {},
   "source": [
    "### Classification Report for test data"
   ]
  },
  {
   "cell_type": "code",
   "execution_count": 83,
   "metadata": {
    "ExecuteTime": {
     "end_time": "2020-10-22T12:19:47.466141Z",
     "start_time": "2020-10-22T12:19:47.450731Z"
    },
    "scrolled": false
   },
   "outputs": [
    {
     "name": "stdout",
     "output_type": "stream",
     "text": [
      "              precision    recall  f1-score   support\n",
      "\n",
      "           0       0.79      0.88      0.83       569\n",
      "           1       0.69      0.54      0.60       290\n",
      "\n",
      "    accuracy                           0.76       859\n",
      "   macro avg       0.74      0.71      0.72       859\n",
      "weighted avg       0.75      0.76      0.75       859\n",
      "\n"
     ]
    }
   ],
   "source": [
    "print(classification_report(test_labels,ytest_predict))"
   ]
  },
  {
   "cell_type": "code",
   "execution_count": 84,
   "metadata": {
    "ExecuteTime": {
     "end_time": "2020-10-22T12:20:16.373153Z",
     "start_time": "2020-10-22T12:20:16.341687Z"
    }
   },
   "outputs": [
    {
     "name": "stdout",
     "output_type": "stream",
     "text": [
      "rf_test_precision  0.69\n",
      "rf_test_recall  0.54\n",
      "rf_test_f1  0.6\n"
     ]
    }
   ],
   "source": [
    "rf_metrics = classification_report(test_labels,ytest_predict,output_dict=True)\n",
    "df1 = pd.DataFrame(rf_metrics).transpose()\n",
    "df1\n",
    "rf_test_precision = round(df1.loc[\"1\"][0],2)\n",
    "rf_test_recall = round(df1.loc[\"1\"][1],2)\n",
    "rf_test_f1 = round(df1.loc[\"1\"][2],2)\n",
    "print ('rf_test_precision ',rf_test_precision)\n",
    "print ('rf_test_recall ',rf_test_recall)\n",
    "print ('rf_test_f1 ',rf_test_f1)"
   ]
  },
  {
   "cell_type": "markdown",
   "metadata": {},
   "source": [
    "### AUC and ROC for the training data"
   ]
  },
  {
   "cell_type": "code",
   "execution_count": 85,
   "metadata": {
    "ExecuteTime": {
     "end_time": "2020-10-22T12:20:29.396236Z",
     "start_time": "2020-10-22T12:20:28.791163Z"
    }
   },
   "outputs": [
    {
     "name": "stdout",
     "output_type": "stream",
     "text": [
      "AUC: 0.851\n"
     ]
    },
    {
     "data": {
      "image/png": "[encoded data removed]",
      "text/plain": [
       "<Figure size 432x288 with 1 Axes>"
      ]
     },
     "metadata": {
      "needs_background": "light"
     },
     "output_type": "display_data"
    }
   ],
   "source": [
    "# AUC and ROC for the training data\n",
    "\n",
    "# predict probabilities\n",
    "probs = best_grid.predict_proba(X_train)\n",
    "# keep probabilities for the positive outcome only\n",
    "probs = probs[:, 1]\n",
    "# calculate AUC\n",
    "from sklearn.metrics import roc_auc_score\n",
    "rf_train_auc = roc_auc_score(train_labels, probs)\n",
    "print('AUC: %.3f' % rf_train_auc)\n",
    "# calculate roc curve\n",
    "from sklearn.metrics import roc_curve\n",
    "rf_train_fpr, rf_train_tpr, thresholds = roc_curve(train_labels, probs)\n",
    "plt.plot([0, 1], [0, 1], linestyle='--')\n",
    "# plot the roc curve for the model\n",
    "plt.plot(rf_train_fpr, rf_train_tpr, marker='.')\n",
    "# show the plot\n",
    "plt.show()"
   ]
  },
  {
   "cell_type": "markdown",
   "metadata": {},
   "source": [
    "### AUC and ROC for the test data"
   ]
  },
  {
   "cell_type": "code",
   "execution_count": 86,
   "metadata": {
    "ExecuteTime": {
     "end_time": "2020-10-22T12:20:33.629603Z",
     "start_time": "2020-10-22T12:20:33.302085Z"
    }
   },
   "outputs": [
    {
     "name": "stdout",
     "output_type": "stream",
     "text": [
      "AUC: 0.798\n"
     ]
    },
    {
     "data": {
      "image/png": "[encoded data removed]",
      "text/plain": [
       "<Figure size 432x288 with 1 Axes>"
      ]
     },
     "metadata": {
      "needs_background": "light"
     },
     "output_type": "display_data"
    }
   ],
   "source": [
    "# AUC and ROC for the test data\n",
    "\n",
    "\n",
    "# predict probabilities\n",
    "probs = best_grid.predict_proba(X_test)\n",
    "# keep probabilities for the positive outcome only\n",
    "probs = probs[:, 1]\n",
    "# calculate AUC\n",
    "from sklearn.metrics import roc_auc_score\n",
    "rf_test_auc = roc_auc_score(test_labels, probs)\n",
    "print('AUC: %.3f' % rf_test_auc)\n",
    "# calculate roc curve\n",
    "from sklearn.metrics import roc_curve\n",
    "rf_test_fpr, rf_test_tpr, thresholds = roc_curve(test_labels, probs)\n",
    "plt.plot([0, 1], [0, 1], linestyle='--')\n",
    "# plot the roc curve for the model\n",
    "plt.plot(rf_test_fpr, rf_test_tpr, marker='.')\n",
    "# show the plot\n",
    "plt.show()"
   ]
  },
  {
   "cell_type": "markdown",
   "metadata": {},
   "source": [
    "### Building Neural Network Model"
   ]
  },
  {
   "cell_type": "code",
   "execution_count": 87,
   "metadata": {
    "ExecuteTime": {
     "end_time": "2020-10-22T12:59:03.001519Z",
     "start_time": "2020-10-22T12:59:02.985409Z"
    }
   },
   "outputs": [],
   "source": [
    "from sklearn.preprocessing import StandardScaler \n",
    "#Initialize an object for StandardScaler\n",
    "sc = StandardScaler()"
   ]
  },
  {
   "cell_type": "code",
   "execution_count": 88,
   "metadata": {
    "ExecuteTime": {
     "end_time": "2020-10-22T12:59:04.190617Z",
     "start_time": "2020-10-22T12:59:04.119876Z"
    }
   },
   "outputs": [
    {
     "data": {
      "text/plain": [
       "array([[-0.19158362,  0.7144367 ,  0.82092207, ..., -0.96653588,\n",
       "        -0.52656514, -0.44760203],\n",
       "       [-0.19158362,  0.7144367 ,  0.82092207, ..., -0.82602536,\n",
       "        -0.52656514, -0.44760203],\n",
       "       [-0.60378182,  0.7144367 ,  0.82092207, ..., -0.73235168,\n",
       "         0.25896646, -0.44760203],\n",
       "       ...,\n",
       "       [-1.11902955, -1.27762775, -1.21814243, ...,  0.5416104 ,\n",
       "         1.83002967, -0.44760203],\n",
       "       [-0.19158362,  0.7144367 ,  0.82092207, ..., -0.94311746,\n",
       "        -0.52656514, -0.44760203],\n",
       "       [-0.19158362,  0.7144367 ,  0.82092207, ...,  0.8366825 ,\n",
       "         0.25896646, -0.44760203]])"
      ]
     },
     "execution_count": 88,
     "metadata": {},
     "output_type": "execute_result"
    }
   ],
   "source": [
    "X_train = sc.fit_transform(X_train)\n",
    "X_train"
   ]
  },
  {
   "cell_type": "code",
   "execution_count": 89,
   "metadata": {
    "ExecuteTime": {
     "end_time": "2020-10-22T12:59:06.299292Z",
     "start_time": "2020-10-22T12:59:06.284985Z"
    },
    "scrolled": true
   },
   "outputs": [
    {
     "data": {
      "text/plain": [
       "array([[ 0.63281276, -1.27762775, -1.21814243, ...,  2.15396865,\n",
       "        -1.31209675, -0.44760203],\n",
       "       [ 0.83891185, -0.28159552,  0.82092207, ..., -0.96887773,\n",
       "         0.25896646,  1.25600874],\n",
       "       [ 0.22061457, -1.27762775, -1.21814243, ...,  0.70788118,\n",
       "         1.83002967, -0.44760203],\n",
       "       ...,\n",
       "       [-0.19158362,  0.7144367 ,  0.82092207, ..., -0.24056485,\n",
       "         0.25896646, -0.44760203],\n",
       "       [-0.19158362,  0.7144367 ,  0.82092207, ..., -0.70893326,\n",
       "         0.25896646, -0.44760203],\n",
       "       [-1.01598001, -1.27762775, -1.21814243, ..., -0.76747931,\n",
       "         1.83002967, -0.44760203]])"
      ]
     },
     "execution_count": 89,
     "metadata": {},
     "output_type": "execute_result"
    }
   ],
   "source": [
    "# Apply the transformation on the test data\n",
    "X_test = sc.transform(X_test)\n",
    "X_test"
   ]
  },
  {
   "cell_type": "code",
   "execution_count": 90,
   "metadata": {
    "ExecuteTime": {
     "end_time": "2020-10-22T12:59:12.518917Z",
     "start_time": "2020-10-22T12:59:12.222309Z"
    }
   },
   "outputs": [],
   "source": [
    "from sklearn.neural_network import MLPClassifier"
   ]
  },
  {
   "cell_type": "code",
   "execution_count": 91,
   "metadata": {
    "ExecuteTime": {
     "end_time": "2020-10-22T14:15:42.537036Z",
     "start_time": "2020-10-22T14:15:42.511299Z"
    }
   },
   "outputs": [],
   "source": [
    "param_grid = {\n",
    "    'hidden_layer_sizes': [100,200,300],\n",
    "    'max_iter': [2500,3000,5000],\n",
    "    'solver': ['adam','sgd'],\n",
    "    'verbose': [True],\n",
    "    'tol': [0.01]\n",
    "}\n",
    "\n",
    "clf = MLPClassifier()\n",
    "\n",
    "grid_search = GridSearchCV(estimator = clf, param_grid = param_grid, cv = 10)"
   ]
  },
  {
   "cell_type": "code",
   "execution_count": 92,
   "metadata": {
    "ExecuteTime": {
     "end_time": "2020-10-22T14:18:48.861788Z",
     "start_time": "2020-10-22T14:16:57.946605Z"
    }
   },
   "outputs": [
    {
     "name": "stdout",
     "output_type": "stream",
     "text": [
      "Iteration 1, loss = 0.62839427\n",
      "Iteration 2, loss = 0.56887053\n",
      "Iteration 3, loss = 0.53752878\n",
      "Iteration 4, loss = 0.51968681\n",
      "Iteration 5, loss = 0.50959498\n",
      "Iteration 6, loss = 0.50659118\n",
      "Iteration 7, loss = 0.50510060\n",
      "Iteration 8, loss = 0.50439346\n",
      "Iteration 9, loss = 0.50190814\n",
      "Iteration 10, loss = 0.49961377\n",
      "Iteration 11, loss = 0.49736538\n",
      "Iteration 12, loss = 0.49659136\n",
      "Iteration 13, loss = 0.49638544\n",
      "Iteration 14, loss = 0.49577111\n",
      "Iteration 15, loss = 0.49470682\n",
      "Iteration 16, loss = 0.49376084\n",
      "Training loss did not improve more than tol=0.010000 for 10 consecutive epochs. Stopping.\n",
      "Iteration 1, loss = 0.72898770\n",
      "Iteration 2, loss = 0.65058866\n",
      "Iteration 3, loss = 0.60006938\n",
      "Iteration 4, loss = 0.56631969\n",
      "Iteration 5, loss = 0.54119855\n",
      "Iteration 6, loss = 0.52269817\n",
      "Iteration 7, loss = 0.51038890\n",
      "Iteration 8, loss = 0.50290474\n",
      "Iteration 9, loss = 0.49920972\n",
      "Iteration 10, loss = 0.49808035\n",
      "Iteration 11, loss = 0.49702491\n",
      "Iteration 12, loss = 0.49684913\n",
      "Iteration 13, loss = 0.49558079\n",
      "Iteration 14, loss = 0.49336484\n",
      "Iteration 15, loss = 0.49172035\n",
      "Iteration 16, loss = 0.49098198\n",
      "Iteration 17, loss = 0.49075372\n",
      "Iteration 18, loss = 0.49045375\n",
      "Training loss did not improve more than tol=0.010000 for 10 consecutive epochs. Stopping.\n",
      "Iteration 1, loss = 0.62283962\n",
      "Iteration 2, loss = 0.56595736\n",
      "Iteration 3, loss = 0.53387565\n",
      "Iteration 4, loss = 0.51377578\n",
      "Iteration 5, loss = 0.50472959\n",
      "Iteration 6, loss = 0.50149099\n",
      "Iteration 7, loss = 0.49907376\n",
      "Iteration 8, loss = 0.49712548\n",
      "Iteration 9, loss = 0.49541178\n",
      "Iteration 10, loss = 0.49381809\n",
      "Iteration 11, loss = 0.49240308\n",
      "Iteration 12, loss = 0.49133740\n",
      "Iteration 13, loss = 0.49065992\n",
      "Iteration 14, loss = 0.49046488\n",
      "Iteration 15, loss = 0.49025283\n",
      "Training loss did not improve more than tol=0.010000 for 10 consecutive epochs. Stopping.\n",
      "Iteration 1, loss = 0.73894914\n",
      "Iteration 2, loss = 0.64338585\n",
      "Iteration 3, loss = 0.58714183\n",
      "Iteration 4, loss = 0.55245975\n",
      "Iteration 5, loss = 0.53092735\n",
      "Iteration 6, loss = 0.51801776\n",
      "Iteration 7, loss = 0.50954642\n",
      "Iteration 8, loss = 0.50421506\n",
      "Iteration 9, loss = 0.50110222\n",
      "Iteration 10, loss = 0.49937929\n",
      "Iteration 11, loss = 0.49709394\n",
      "Iteration 12, loss = 0.49507671\n",
      "Iteration 13, loss = 0.49368743\n",
      "Iteration 14, loss = 0.49212376\n",
      "Iteration 15, loss = 0.49146432\n",
      "Iteration 16, loss = 0.49123296\n",
      "Iteration 17, loss = 0.49064274\n",
      "Training loss did not improve more than tol=0.010000 for 10 consecutive epochs. Stopping.\n",
      "Iteration 1, loss = 0.66941415\n",
      "Iteration 2, loss = 0.60855994\n",
      "Iteration 3, loss = 0.56678435\n",
      "Iteration 4, loss = 0.53910763\n",
      "Iteration 5, loss = 0.52016969\n",
      "Iteration 6, loss = 0.50792311\n",
      "Iteration 7, loss = 0.50020434\n",
      "Iteration 8, loss = 0.49552530\n",
      "Iteration 9, loss = 0.49279481\n",
      "Iteration 10, loss = 0.49097163\n",
      "Iteration 11, loss = 0.48816576\n",
      "Iteration 12, loss = 0.48662818\n",
      "Iteration 13, loss = 0.48516706\n",
      "Iteration 14, loss = 0.48478639\n",
      "Iteration 15, loss = 0.48376562\n",
      "Iteration 16, loss = 0.48423718\n",
      "Iteration 17, loss = 0.48352070\n",
      "Training loss did not improve more than tol=0.010000 for 10 consecutive epochs. Stopping.\n",
      "Iteration 1, loss = 0.65659677\n",
      "Iteration 2, loss = 0.58567392\n",
      "Iteration 3, loss = 0.54333882\n",
      "Iteration 4, loss = 0.52216364\n",
      "Iteration 5, loss = 0.51038994\n",
      "Iteration 6, loss = 0.50483387\n",
      "Iteration 7, loss = 0.50262771\n",
      "Iteration 8, loss = 0.50055585\n",
      "Iteration 9, loss = 0.49820890\n",
      "Iteration 10, loss = 0.49686280\n",
      "Iteration 11, loss = 0.49550920\n",
      "Iteration 12, loss = 0.49529083\n",
      "Iteration 13, loss = 0.49557247\n",
      "Iteration 14, loss = 0.49510199\n",
      "Iteration 15, loss = 0.49435787\n",
      "Iteration 16, loss = 0.49247129\n",
      "Training loss did not improve more than tol=0.010000 for 10 consecutive epochs. Stopping.\n",
      "Iteration 1, loss = 0.78857978\n",
      "Iteration 2, loss = 0.68500288\n",
      "Iteration 3, loss = 0.61778098\n",
      "Iteration 4, loss = 0.57453270\n",
      "Iteration 5, loss = 0.54951863\n",
      "Iteration 6, loss = 0.53810209\n",
      "Iteration 7, loss = 0.52854731\n",
      "Iteration 8, loss = 0.52145066\n",
      "Iteration 9, loss = 0.51709533\n",
      "Iteration 10, loss = 0.51409423\n",
      "Iteration 11, loss = 0.51024557\n",
      "Iteration 12, loss = 0.50691754\n",
      "Iteration 13, loss = 0.50549135\n",
      "Iteration 14, loss = 0.50375466\n",
      "Iteration 15, loss = 0.50197567\n",
      "Iteration 16, loss = 0.50055004\n",
      "Iteration 17, loss = 0.49951957\n",
      "Training loss did not improve more than tol=0.010000 for 10 consecutive epochs. Stopping.\n",
      "Iteration 1, loss = 0.74236704\n",
      "Iteration 2, loss = 0.64941893\n",
      "Iteration 3, loss = 0.59034662\n",
      "Iteration 4, loss = 0.55203378\n",
      "Iteration 5, loss = 0.52799277\n",
      "Iteration 6, loss = 0.51574127\n",
      "Iteration 7, loss = 0.50897507\n",
      "Iteration 8, loss = 0.50466781\n",
      "Iteration 9, loss = 0.50134846\n",
      "Iteration 10, loss = 0.49891653\n",
      "Iteration 11, loss = 0.49749224\n",
      "Iteration 12, loss = 0.49622487\n",
      "Iteration 13, loss = 0.49521751\n",
      "Iteration 14, loss = 0.49532250\n",
      "Iteration 15, loss = 0.49487039\n",
      "Iteration 16, loss = 0.49443994\n",
      "Iteration 17, loss = 0.49491106\n",
      "Training loss did not improve more than tol=0.010000 for 10 consecutive epochs. Stopping.\n",
      "Iteration 1, loss = 0.59392010\n",
      "Iteration 2, loss = 0.54712736\n",
      "Iteration 3, loss = 0.52499336\n",
      "Iteration 4, loss = 0.51689610\n",
      "Iteration 5, loss = 0.51268365\n",
      "Iteration 6, loss = 0.50768832\n",
      "Iteration 7, loss = 0.50562879\n",
      "Iteration 8, loss = 0.50591442\n",
      "Iteration 9, loss = 0.50495453\n",
      "Iteration 10, loss = 0.50227421\n",
      "Iteration 11, loss = 0.50009694\n",
      "Iteration 12, loss = 0.49991257\n",
      "Iteration 13, loss = 0.50012306\n",
      "Iteration 14, loss = 0.49859481\n",
      "Training loss did not improve more than tol=0.010000 for 10 consecutive epochs. Stopping.\n",
      "Iteration 1, loss = 0.70848105\n",
      "Iteration 2, loss = 0.63076515\n",
      "Iteration 3, loss = 0.58073044\n",
      "Iteration 4, loss = 0.54740336\n",
      "Iteration 5, loss = 0.52575246\n",
      "Iteration 6, loss = 0.51211834\n",
      "Iteration 7, loss = 0.50544752\n",
      "Iteration 8, loss = 0.50223929\n",
      "Iteration 9, loss = 0.50038102\n",
      "Iteration 10, loss = 0.49768466\n",
      "Iteration 11, loss = 0.49366987\n",
      "Iteration 12, loss = 0.49141613\n",
      "Iteration 13, loss = 0.49005739\n",
      "Iteration 14, loss = 0.48932520\n",
      "Iteration 15, loss = 0.48865700\n",
      "Iteration 16, loss = 0.48819125\n",
      "Iteration 17, loss = 0.48750229\n",
      "Training loss did not improve more than tol=0.010000 for 10 consecutive epochs. Stopping.\n",
      "Iteration 1, loss = 0.68092476\n",
      "Iteration 2, loss = 0.67027759\n",
      "Iteration 3, loss = 0.65382444\n",
      "Iteration 4, loss = 0.63498621\n",
      "Iteration 5, loss = 0.61958228\n",
      "Iteration 6, loss = 0.60603516\n",
      "Iteration 7, loss = 0.59412321\n",
      "Iteration 8, loss = 0.58408437\n",
      "Iteration 9, loss = 0.57494113\n",
      "Iteration 10, loss = 0.56703949\n",
      "Iteration 11, loss = 0.56248647\n",
      "Iteration 12, loss = 0.55844901\n",
      "Iteration 13, loss = 0.55382535\n",
      "Iteration 14, loss = 0.54919993\n",
      "Iteration 15, loss = 0.54478034\n",
      "Iteration 16, loss = 0.54213917\n",
      "Iteration 17, loss = 0.54123938\n",
      "Iteration 18, loss = 0.53931632\n",
      "Iteration 19, loss = 0.53630697\n",
      "Training loss did not improve more than tol=0.010000 for 10 consecutive epochs. Stopping.\n",
      "Iteration 1, loss = 0.80354070\n",
      "Iteration 2, loss = 0.77505353\n",
      "Iteration 3, loss = 0.73775902\n",
      "Iteration 4, loss = 0.70212921\n",
      "Iteration 5, loss = 0.67450938\n",
      "Iteration 6, loss = 0.65242797\n",
      "Iteration 7, loss = 0.63401912\n",
      "Iteration 8, loss = 0.61999564\n",
      "Iteration 9, loss = 0.60634784\n",
      "Iteration 10, loss = 0.59430452\n",
      "Iteration 11, loss = 0.58339121\n",
      "Iteration 12, loss = 0.57373510\n",
      "Iteration 13, loss = 0.56553465\n",
      "Iteration 14, loss = 0.55818284\n",
      "Iteration 15, loss = 0.55244587\n",
      "Iteration 16, loss = 0.54708022\n",
      "Iteration 17, loss = 0.54218495\n",
      "Iteration 18, loss = 0.53766782\n",
      "Iteration 19, loss = 0.53346007\n",
      "Iteration 20, loss = 0.53011650\n",
      "Iteration 21, loss = 0.52769370\n",
      "Iteration 22, loss = 0.52551474\n",
      "Training loss did not improve more than tol=0.010000 for 10 consecutive epochs. Stopping.\n",
      "Iteration 1, loss = 0.71923809\n",
      "Iteration 2, loss = 0.69764861\n",
      "Iteration 3, loss = 0.67270233\n",
      "Iteration 4, loss = 0.64840382\n",
      "Iteration 5, loss = 0.62851178\n",
      "Iteration 6, loss = 0.61264047\n",
      "Iteration 7, loss = 0.59870830\n",
      "Iteration 8, loss = 0.58586905\n",
      "Iteration 9, loss = 0.57535674\n",
      "Iteration 10, loss = 0.56652209\n",
      "Iteration 11, loss = 0.55973879\n",
      "Iteration 12, loss = 0.55443553\n",
      "Iteration 13, loss = 0.54918143\n",
      "Iteration 14, loss = 0.54396459\n",
      "Iteration 15, loss = 0.53904309\n",
      "Iteration 16, loss = 0.53486393\n",
      "Iteration 17, loss = 0.53116582\n",
      "Iteration 18, loss = 0.52774068\n",
      "Iteration 19, loss = 0.52539140\n",
      "Iteration 20, loss = 0.52309591\n",
      "Training loss did not improve more than tol=0.010000 for 10 consecutive epochs. Stopping.\n",
      "Iteration 1, loss = 0.76124088\n",
      "Iteration 2, loss = 0.73385623\n",
      "Iteration 3, loss = 0.70051109\n",
      "Iteration 4, loss = 0.67058074\n",
      "Iteration 5, loss = 0.64489659\n",
      "Iteration 6, loss = 0.62581939\n"
     ]
    },
    {
     "name": "stdout",
     "output_type": "stream",
     "text": [
      "Iteration 7, loss = 0.60926458\n",
      "Iteration 8, loss = 0.59543703\n",
      "Iteration 9, loss = 0.58464112\n",
      "Iteration 10, loss = 0.57514578\n",
      "Iteration 11, loss = 0.56724206\n",
      "Iteration 12, loss = 0.55991704\n",
      "Iteration 13, loss = 0.55344998\n",
      "Iteration 14, loss = 0.54735631\n",
      "Iteration 15, loss = 0.54186294\n",
      "Iteration 16, loss = 0.53802745\n",
      "Iteration 17, loss = 0.53406899\n",
      "Iteration 18, loss = 0.53041985\n",
      "Iteration 19, loss = 0.52684053\n",
      "Iteration 20, loss = 0.52353789\n",
      "Training loss did not improve more than tol=0.010000 for 10 consecutive epochs. Stopping.\n",
      "Iteration 1, loss = 0.72595528\n",
      "Iteration 2, loss = 0.70620428\n",
      "Iteration 3, loss = 0.68193778\n",
      "Iteration 4, loss = 0.65925852\n",
      "Iteration 5, loss = 0.63831914\n",
      "Iteration 6, loss = 0.62051288\n",
      "Iteration 7, loss = 0.60496583\n",
      "Iteration 8, loss = 0.59022075\n",
      "Iteration 9, loss = 0.57828445\n",
      "Iteration 10, loss = 0.56856526\n",
      "Iteration 11, loss = 0.55993783\n",
      "Iteration 12, loss = 0.55282361\n",
      "Iteration 13, loss = 0.54588342\n",
      "Iteration 14, loss = 0.54057463\n",
      "Iteration 15, loss = 0.53540820\n",
      "Iteration 16, loss = 0.53090347\n",
      "Iteration 17, loss = 0.52865262\n",
      "Iteration 18, loss = 0.52598371\n",
      "Iteration 19, loss = 0.52276190\n",
      "Iteration 20, loss = 0.51971407\n",
      "Training loss did not improve more than tol=0.010000 for 10 consecutive epochs. Stopping.\n",
      "Iteration 1, loss = 0.67493458\n",
      "Iteration 2, loss = 0.65883160\n",
      "Iteration 3, loss = 0.63894659\n",
      "Iteration 4, loss = 0.61958885\n",
      "Iteration 5, loss = 0.60294237\n",
      "Iteration 6, loss = 0.58768484\n",
      "Iteration 7, loss = 0.57538594\n",
      "Iteration 8, loss = 0.56727929\n",
      "Iteration 9, loss = 0.56040925\n",
      "Iteration 10, loss = 0.55330958\n",
      "Iteration 11, loss = 0.54597036\n",
      "Iteration 12, loss = 0.54021041\n",
      "Iteration 13, loss = 0.53496591\n",
      "Iteration 14, loss = 0.53122458\n",
      "Iteration 15, loss = 0.52774182\n",
      "Iteration 16, loss = 0.52418569\n",
      "Iteration 17, loss = 0.52097434\n",
      "Iteration 18, loss = 0.51886442\n",
      "Training loss did not improve more than tol=0.010000 for 10 consecutive epochs. Stopping.\n",
      "Iteration 1, loss = 0.69488968\n",
      "Iteration 2, loss = 0.68347656\n",
      "Iteration 3, loss = 0.66842606\n",
      "Iteration 4, loss = 0.65359395\n",
      "Iteration 5, loss = 0.63837185\n",
      "Iteration 6, loss = 0.62306305\n",
      "Iteration 7, loss = 0.61004923\n",
      "Iteration 8, loss = 0.59992865\n",
      "Iteration 9, loss = 0.59139805\n",
      "Iteration 10, loss = 0.58284631\n",
      "Iteration 11, loss = 0.57583920\n",
      "Iteration 12, loss = 0.56967436\n",
      "Iteration 13, loss = 0.56379389\n",
      "Iteration 14, loss = 0.55841337\n",
      "Iteration 15, loss = 0.55347235\n",
      "Iteration 16, loss = 0.54958629\n",
      "Iteration 17, loss = 0.54605416\n",
      "Iteration 18, loss = 0.54335319\n",
      "Iteration 19, loss = 0.54064698\n",
      "Training loss did not improve more than tol=0.010000 for 10 consecutive epochs. Stopping.\n",
      "Iteration 1, loss = 0.63469108\n",
      "Iteration 2, loss = 0.62284589\n",
      "Iteration 3, loss = 0.61082780\n",
      "Iteration 4, loss = 0.59884551\n",
      "Iteration 5, loss = 0.58688988\n",
      "Iteration 6, loss = 0.57586710\n",
      "Iteration 7, loss = 0.56605452\n",
      "Iteration 8, loss = 0.55976544\n",
      "Iteration 9, loss = 0.55428472\n",
      "Iteration 10, loss = 0.54813086\n",
      "Iteration 11, loss = 0.54213850\n",
      "Iteration 12, loss = 0.53693280\n",
      "Iteration 13, loss = 0.53323911\n",
      "Iteration 14, loss = 0.53048936\n",
      "Iteration 15, loss = 0.52763192\n",
      "Iteration 16, loss = 0.52520812\n",
      "Iteration 17, loss = 0.52279623\n",
      "Training loss did not improve more than tol=0.010000 for 10 consecutive epochs. Stopping.\n",
      "Iteration 1, loss = 0.66715532\n",
      "Iteration 2, loss = 0.65601927\n",
      "Iteration 3, loss = 0.64340580\n",
      "Iteration 4, loss = 0.63015452\n",
      "Iteration 5, loss = 0.61745444\n",
      "Iteration 6, loss = 0.60641538\n",
      "Iteration 7, loss = 0.59691864\n",
      "Iteration 8, loss = 0.58938594\n",
      "Iteration 9, loss = 0.58191826\n",
      "Iteration 10, loss = 0.57509633\n",
      "Iteration 11, loss = 0.56750043\n",
      "Iteration 12, loss = 0.56068279\n",
      "Iteration 13, loss = 0.55540462\n",
      "Iteration 14, loss = 0.55095213\n",
      "Iteration 15, loss = 0.54696344\n",
      "Iteration 16, loss = 0.54327396\n",
      "Iteration 17, loss = 0.53953650\n",
      "Training loss did not improve more than tol=0.010000 for 10 consecutive epochs. Stopping.\n",
      "Iteration 1, loss = 0.71610113\n",
      "Iteration 2, loss = 0.69569439\n",
      "Iteration 3, loss = 0.66946284\n",
      "Iteration 4, loss = 0.64671830\n",
      "Iteration 5, loss = 0.62854883\n",
      "Iteration 6, loss = 0.61195905\n",
      "Iteration 7, loss = 0.59655054\n",
      "Iteration 8, loss = 0.58323391\n",
      "Iteration 9, loss = 0.57186652\n",
      "Iteration 10, loss = 0.56177856\n",
      "Iteration 11, loss = 0.55302028\n",
      "Iteration 12, loss = 0.54488538\n",
      "Iteration 13, loss = 0.53956087\n",
      "Iteration 14, loss = 0.53482304\n",
      "Iteration 15, loss = 0.53019544\n",
      "Iteration 16, loss = 0.52606169\n",
      "Iteration 17, loss = 0.52277310\n",
      "Iteration 18, loss = 0.52032175\n",
      "Iteration 19, loss = 0.51817019\n",
      "Iteration 20, loss = 0.51583215\n",
      "Iteration 21, loss = 0.51351056\n",
      "Training loss did not improve more than tol=0.010000 for 10 consecutive epochs. Stopping.\n",
      "Iteration 1, loss = 0.67773939\n",
      "Iteration 2, loss = 0.60971003\n",
      "Iteration 3, loss = 0.56606723\n",
      "Iteration 4, loss = 0.53302319\n",
      "Iteration 5, loss = 0.51308896\n",
      "Iteration 6, loss = 0.50295095\n",
      "Iteration 7, loss = 0.49726534\n",
      "Iteration 8, loss = 0.49528280\n",
      "Iteration 9, loss = 0.49483275\n",
      "Iteration 10, loss = 0.49456163\n",
      "Iteration 11, loss = 0.49370033\n",
      "Iteration 12, loss = 0.49176561\n",
      "Iteration 13, loss = 0.49109325\n",
      "Iteration 14, loss = 0.49106033\n",
      "Iteration 15, loss = 0.49070914\n",
      "Iteration 16, loss = 0.49035321\n",
      "Iteration 17, loss = 0.48932638\n",
      "Training loss did not improve more than tol=0.010000 for 10 consecutive epochs. Stopping.\n",
      "Iteration 1, loss = 0.63276118\n",
      "Iteration 2, loss = 0.58132963\n",
      "Iteration 3, loss = 0.55025379\n",
      "Iteration 4, loss = 0.53684433\n",
      "Iteration 5, loss = 0.52826250\n",
      "Iteration 6, loss = 0.52122878\n",
      "Iteration 7, loss = 0.51939679\n",
      "Iteration 8, loss = 0.51714128\n",
      "Iteration 9, loss = 0.51351577\n",
      "Iteration 10, loss = 0.51021240\n",
      "Iteration 11, loss = 0.50595588\n",
      "Iteration 12, loss = 0.50087046\n",
      "Iteration 13, loss = 0.49855761\n",
      "Iteration 14, loss = 0.49724934\n",
      "Iteration 15, loss = 0.49609966\n",
      "Training loss did not improve more than tol=0.010000 for 10 consecutive epochs. Stopping.\n",
      "Iteration 1, loss = 0.67267485\n",
      "Iteration 2, loss = 0.61032799\n",
      "Iteration 3, loss = 0.57088755\n",
      "Iteration 4, loss = 0.54643564\n",
      "Iteration 5, loss = 0.52975142\n",
      "Iteration 6, loss = 0.51949560\n",
      "Iteration 7, loss = 0.51128333\n",
      "Iteration 8, loss = 0.50582866\n",
      "Iteration 9, loss = 0.50364003\n",
      "Iteration 10, loss = 0.50125653\n",
      "Iteration 11, loss = 0.49815864\n",
      "Iteration 12, loss = 0.49688554\n",
      "Iteration 13, loss = 0.49675863\n",
      "Iteration 14, loss = 0.49572373\n",
      "Iteration 15, loss = 0.49444677\n",
      "Iteration 16, loss = 0.49307820\n",
      "Iteration 17, loss = 0.49204318\n",
      "Training loss did not improve more than tol=0.010000 for 10 consecutive epochs. Stopping.\n",
      "Iteration 1, loss = 0.68179232\n",
      "Iteration 2, loss = 0.61285487\n",
      "Iteration 3, loss = 0.56751776\n",
      "Iteration 4, loss = 0.53856725\n",
      "Iteration 5, loss = 0.52093607\n",
      "Iteration 6, loss = 0.51129226\n",
      "Iteration 7, loss = 0.50506749\n",
      "Iteration 8, loss = 0.50055904\n",
      "Iteration 9, loss = 0.49796513\n",
      "Iteration 10, loss = 0.49627598\n",
      "Iteration 11, loss = 0.49471080\n",
      "Iteration 12, loss = 0.49343162\n",
      "Iteration 13, loss = 0.49376080\n",
      "Iteration 14, loss = 0.49263009\n",
      "Iteration 15, loss = 0.49109432\n",
      "Iteration 16, loss = 0.49056036\n",
      "Training loss did not improve more than tol=0.010000 for 10 consecutive epochs. Stopping.\n",
      "Iteration 1, loss = 0.64779824\n",
      "Iteration 2, loss = 0.57629400\n",
      "Iteration 3, loss = 0.53703523\n",
      "Iteration 4, loss = 0.51555922\n",
      "Iteration 5, loss = 0.50333224\n",
      "Iteration 6, loss = 0.49770878\n",
      "Iteration 7, loss = 0.49400285\n",
      "Iteration 8, loss = 0.49188172\n",
      "Iteration 9, loss = 0.49066978\n",
      "Iteration 10, loss = 0.48978657\n",
      "Iteration 11, loss = 0.48803217\n",
      "Iteration 12, loss = 0.48668140\n",
      "Iteration 13, loss = 0.48516556\n",
      "Iteration 14, loss = 0.48436347\n",
      "Iteration 15, loss = 0.48395005\n",
      "Iteration 16, loss = 0.48378157\n",
      "Training loss did not improve more than tol=0.010000 for 10 consecutive epochs. Stopping.\n",
      "Iteration 1, loss = 0.63699336\n",
      "Iteration 2, loss = 0.58509880\n",
      "Iteration 3, loss = 0.55159401\n",
      "Iteration 4, loss = 0.53021456\n",
      "Iteration 5, loss = 0.51585706\n",
      "Iteration 6, loss = 0.50866174\n",
      "Iteration 7, loss = 0.50468443\n",
      "Iteration 8, loss = 0.50048629\n",
      "Iteration 9, loss = 0.49767813\n",
      "Iteration 10, loss = 0.49574105\n",
      "Iteration 11, loss = 0.49433907\n",
      "Iteration 12, loss = 0.49292406\n",
      "Iteration 13, loss = 0.49243672\n",
      "Iteration 14, loss = 0.49179278\n",
      "Iteration 15, loss = 0.49154189\n",
      "Iteration 16, loss = 0.49312453\n",
      "Training loss did not improve more than tol=0.010000 for 10 consecutive epochs. Stopping.\n",
      "Iteration 1, loss = 0.71988945\n",
      "Iteration 2, loss = 0.64102402\n",
      "Iteration 3, loss = 0.59315312\n",
      "Iteration 4, loss = 0.56242604\n",
      "Iteration 5, loss = 0.54224280\n",
      "Iteration 6, loss = 0.52885364\n",
      "Iteration 7, loss = 0.51899535\n"
     ]
    },
    {
     "name": "stdout",
     "output_type": "stream",
     "text": [
      "Iteration 8, loss = 0.51121531\n",
      "Iteration 9, loss = 0.50616896\n",
      "Iteration 10, loss = 0.50322374\n",
      "Iteration 11, loss = 0.50145873\n",
      "Iteration 12, loss = 0.49996494\n",
      "Iteration 13, loss = 0.49901577\n",
      "Iteration 14, loss = 0.49814808\n",
      "Iteration 15, loss = 0.49599267\n",
      "Iteration 16, loss = 0.49545789\n",
      "Iteration 17, loss = 0.49530814\n",
      "Training loss did not improve more than tol=0.010000 for 10 consecutive epochs. Stopping.\n",
      "Iteration 1, loss = 0.74810360\n",
      "Iteration 2, loss = 0.66089032\n",
      "Iteration 3, loss = 0.60717190\n",
      "Iteration 4, loss = 0.56896011\n",
      "Iteration 5, loss = 0.54398048\n",
      "Iteration 6, loss = 0.52627962\n",
      "Iteration 7, loss = 0.51436503\n",
      "Iteration 8, loss = 0.50793159\n",
      "Iteration 9, loss = 0.50479800\n",
      "Iteration 10, loss = 0.50186566\n",
      "Iteration 11, loss = 0.49913425\n",
      "Iteration 12, loss = 0.49731458\n",
      "Iteration 13, loss = 0.49592231\n",
      "Iteration 14, loss = 0.49516579\n",
      "Iteration 15, loss = 0.49475819\n",
      "Iteration 16, loss = 0.49396497\n",
      "Iteration 17, loss = 0.49359942\n",
      "Iteration 18, loss = 0.49357313\n",
      "Training loss did not improve more than tol=0.010000 for 10 consecutive epochs. Stopping.\n",
      "Iteration 1, loss = 0.68224828\n",
      "Iteration 2, loss = 0.61806043\n",
      "Iteration 3, loss = 0.57755162\n",
      "Iteration 4, loss = 0.55131496\n",
      "Iteration 5, loss = 0.53280194\n",
      "Iteration 6, loss = 0.52076013\n",
      "Iteration 7, loss = 0.51450584\n",
      "Iteration 8, loss = 0.51012026\n",
      "Iteration 9, loss = 0.50539957\n",
      "Iteration 10, loss = 0.50221764\n",
      "Iteration 11, loss = 0.49947892\n",
      "Iteration 12, loss = 0.49770621\n",
      "Iteration 13, loss = 0.49612110\n",
      "Iteration 14, loss = 0.49504743\n",
      "Iteration 15, loss = 0.49467499\n",
      "Iteration 16, loss = 0.49481870\n",
      "Iteration 17, loss = 0.49453551\n",
      "Training loss did not improve more than tol=0.010000 for 10 consecutive epochs. Stopping.\n",
      "Iteration 1, loss = 0.63906106\n",
      "Iteration 2, loss = 0.57497017\n",
      "Iteration 3, loss = 0.53935464\n",
      "Iteration 4, loss = 0.52152870\n",
      "Iteration 5, loss = 0.51225217\n",
      "Iteration 6, loss = 0.50600216\n",
      "Iteration 7, loss = 0.50061436\n",
      "Iteration 8, loss = 0.49686402\n",
      "Iteration 9, loss = 0.49518848\n",
      "Iteration 10, loss = 0.49476607\n",
      "Iteration 11, loss = 0.49361215\n",
      "Iteration 12, loss = 0.49194301\n",
      "Iteration 13, loss = 0.49044517\n",
      "Iteration 14, loss = 0.48967769\n",
      "Iteration 15, loss = 0.48869631\n",
      "Training loss did not improve more than tol=0.010000 for 10 consecutive epochs. Stopping.\n",
      "Iteration 1, loss = 0.75973645\n",
      "Iteration 2, loss = 0.74204632\n",
      "Iteration 3, loss = 0.71704408\n",
      "Iteration 4, loss = 0.69074579\n",
      "Iteration 5, loss = 0.66837629\n",
      "Iteration 6, loss = 0.64713628\n",
      "Iteration 7, loss = 0.62906476\n",
      "Iteration 8, loss = 0.61268385\n",
      "Iteration 9, loss = 0.60016837\n",
      "Iteration 10, loss = 0.59084280\n",
      "Iteration 11, loss = 0.58152022\n",
      "Iteration 12, loss = 0.57224409\n",
      "Iteration 13, loss = 0.56357518\n",
      "Iteration 14, loss = 0.55542067\n",
      "Iteration 15, loss = 0.54885202\n",
      "Iteration 16, loss = 0.54397398\n",
      "Iteration 17, loss = 0.54056055\n",
      "Iteration 18, loss = 0.53839330\n",
      "Iteration 19, loss = 0.53510535\n",
      "Iteration 20, loss = 0.53115617\n",
      "Training loss did not improve more than tol=0.010000 for 10 consecutive epochs. Stopping.\n",
      "Iteration 1, loss = 0.74173933\n",
      "Iteration 2, loss = 0.72123207\n",
      "Iteration 3, loss = 0.69419598\n",
      "Iteration 4, loss = 0.66698267\n",
      "Iteration 5, loss = 0.64511698\n",
      "Iteration 6, loss = 0.63033324\n",
      "Iteration 7, loss = 0.61692930\n",
      "Iteration 8, loss = 0.60468109\n",
      "Iteration 9, loss = 0.59361899\n",
      "Iteration 10, loss = 0.58160629\n",
      "Iteration 11, loss = 0.57154367\n",
      "Iteration 12, loss = 0.56305199\n",
      "Iteration 13, loss = 0.55574634\n",
      "Iteration 14, loss = 0.55000217\n",
      "Iteration 15, loss = 0.54483368\n",
      "Iteration 16, loss = 0.54013307\n",
      "Iteration 17, loss = 0.53579522\n",
      "Iteration 18, loss = 0.53221707\n",
      "Iteration 19, loss = 0.52822879\n",
      "Iteration 20, loss = 0.52562959\n",
      "Iteration 21, loss = 0.52322074\n",
      "Iteration 22, loss = 0.52089610\n",
      "Training loss did not improve more than tol=0.010000 for 10 consecutive epochs. Stopping.\n",
      "Iteration 1, loss = 0.71968884\n",
      "Iteration 2, loss = 0.70412947\n",
      "Iteration 3, loss = 0.68096380\n",
      "Iteration 4, loss = 0.65893421\n",
      "Iteration 5, loss = 0.63986446\n",
      "Iteration 6, loss = 0.62414108\n",
      "Iteration 7, loss = 0.61060823\n",
      "Iteration 8, loss = 0.59814999\n",
      "Iteration 9, loss = 0.58764280\n",
      "Iteration 10, loss = 0.57902130\n",
      "Iteration 11, loss = 0.57189487\n",
      "Iteration 12, loss = 0.56526937\n",
      "Iteration 13, loss = 0.55937667\n",
      "Iteration 14, loss = 0.55310225\n",
      "Iteration 15, loss = 0.54804944\n",
      "Iteration 16, loss = 0.54362862\n",
      "Iteration 17, loss = 0.53890266\n",
      "Iteration 18, loss = 0.53467485\n",
      "Iteration 19, loss = 0.53128695\n",
      "Iteration 20, loss = 0.52822275\n",
      "Training loss did not improve more than tol=0.010000 for 10 consecutive epochs. Stopping.\n",
      "Iteration 1, loss = 0.72789166\n",
      "Iteration 2, loss = 0.70838180\n",
      "Iteration 3, loss = 0.68300242\n",
      "Iteration 4, loss = 0.65611067\n",
      "Iteration 5, loss = 0.63438919\n",
      "Iteration 6, loss = 0.61634377\n",
      "Iteration 7, loss = 0.60198786\n",
      "Iteration 8, loss = 0.59033642\n",
      "Iteration 9, loss = 0.58017095\n",
      "Iteration 10, loss = 0.57029358\n",
      "Iteration 11, loss = 0.56180585\n",
      "Iteration 12, loss = 0.55488760\n",
      "Iteration 13, loss = 0.54897793\n",
      "Iteration 14, loss = 0.54483300\n",
      "Iteration 15, loss = 0.54118646\n",
      "Iteration 16, loss = 0.53782550\n",
      "Iteration 17, loss = 0.53494756\n",
      "Iteration 18, loss = 0.53213626\n",
      "Iteration 19, loss = 0.52894982\n",
      "Iteration 20, loss = 0.52604207\n",
      "Training loss did not improve more than tol=0.010000 for 10 consecutive epochs. Stopping.\n",
      "Iteration 1, loss = 0.69708546\n",
      "Iteration 2, loss = 0.67849737\n",
      "Iteration 3, loss = 0.65644706\n",
      "Iteration 4, loss = 0.63537288\n",
      "Iteration 5, loss = 0.61620676\n",
      "Iteration 6, loss = 0.59970646\n",
      "Iteration 7, loss = 0.58613043\n",
      "Iteration 8, loss = 0.57425272\n",
      "Iteration 9, loss = 0.56414083\n",
      "Iteration 10, loss = 0.55586303\n",
      "Iteration 11, loss = 0.54913149\n",
      "Iteration 12, loss = 0.54326661\n",
      "Iteration 13, loss = 0.53842857\n",
      "Iteration 14, loss = 0.53422894\n",
      "Iteration 15, loss = 0.53014055\n",
      "Iteration 16, loss = 0.52689576\n",
      "Iteration 17, loss = 0.52359871\n",
      "Iteration 18, loss = 0.52052641\n",
      "Iteration 19, loss = 0.51780435\n",
      "Iteration 20, loss = 0.51529996\n",
      "Training loss did not improve more than tol=0.010000 for 10 consecutive epochs. Stopping.\n",
      "Iteration 1, loss = 0.80377418\n",
      "Iteration 2, loss = 0.77237411\n",
      "Iteration 3, loss = 0.73472177\n",
      "Iteration 4, loss = 0.70014432\n",
      "Iteration 5, loss = 0.66935485\n",
      "Iteration 6, loss = 0.64264008\n",
      "Iteration 7, loss = 0.62186266\n",
      "Iteration 8, loss = 0.60617644\n",
      "Iteration 9, loss = 0.59203498\n",
      "Iteration 10, loss = 0.58068125\n",
      "Iteration 11, loss = 0.57180859\n",
      "Iteration 12, loss = 0.56347526\n",
      "Iteration 13, loss = 0.55515486\n",
      "Iteration 14, loss = 0.54830866\n",
      "Iteration 15, loss = 0.54224637\n",
      "Iteration 16, loss = 0.53692709\n",
      "Iteration 17, loss = 0.53246122\n",
      "Iteration 18, loss = 0.52852188\n",
      "Iteration 19, loss = 0.52477568\n",
      "Iteration 20, loss = 0.52190304\n",
      "Iteration 21, loss = 0.51950916\n",
      "Training loss did not improve more than tol=0.010000 for 10 consecutive epochs. Stopping.\n",
      "Iteration 1, loss = 0.81670780\n",
      "Iteration 2, loss = 0.78359071\n",
      "Iteration 3, loss = 0.74276543\n",
      "Iteration 4, loss = 0.70542962\n",
      "Iteration 5, loss = 0.67713364\n",
      "Iteration 6, loss = 0.65449044\n",
      "Iteration 7, loss = 0.63391687\n",
      "Iteration 8, loss = 0.61855267\n",
      "Iteration 9, loss = 0.60470068\n",
      "Iteration 10, loss = 0.59203742\n",
      "Iteration 11, loss = 0.58111213\n",
      "Iteration 12, loss = 0.57218272\n",
      "Iteration 13, loss = 0.56487117\n",
      "Iteration 14, loss = 0.55781542\n",
      "Iteration 15, loss = 0.55188190\n",
      "Iteration 16, loss = 0.54708302\n",
      "Iteration 17, loss = 0.54314539\n",
      "Iteration 18, loss = 0.53948639\n",
      "Iteration 19, loss = 0.53617731\n",
      "Iteration 20, loss = 0.53315292\n",
      "Iteration 21, loss = 0.53056877\n",
      "Iteration 22, loss = 0.52851756\n",
      "Training loss did not improve more than tol=0.010000 for 10 consecutive epochs. Stopping.\n",
      "Iteration 1, loss = 0.63622742\n",
      "Iteration 2, loss = 0.62755326\n",
      "Iteration 3, loss = 0.61493714\n",
      "Iteration 4, loss = 0.60342730\n",
      "Iteration 5, loss = 0.59336246\n",
      "Iteration 6, loss = 0.58405674\n",
      "Iteration 7, loss = 0.57545417\n",
      "Iteration 8, loss = 0.56739694\n",
      "Iteration 9, loss = 0.56012630\n",
      "Iteration 10, loss = 0.55405957\n",
      "Iteration 11, loss = 0.54947742\n",
      "Iteration 12, loss = 0.54510519\n",
      "Iteration 13, loss = 0.54099443\n",
      "Iteration 14, loss = 0.53664344\n",
      "Iteration 15, loss = 0.53342456\n",
      "Iteration 16, loss = 0.53035211\n",
      "Training loss did not improve more than tol=0.010000 for 10 consecutive epochs. Stopping.\n",
      "Iteration 1, loss = 0.74646909\n",
      "Iteration 2, loss = 0.72019341\n",
      "Iteration 3, loss = 0.69073983\n",
      "Iteration 4, loss = 0.66255281\n",
      "Iteration 5, loss = 0.63777462\n",
      "Iteration 6, loss = 0.61656954\n",
      "Iteration 7, loss = 0.59867714\n",
      "Iteration 8, loss = 0.58623126\n"
     ]
    },
    {
     "name": "stdout",
     "output_type": "stream",
     "text": [
      "Iteration 9, loss = 0.57715058\n",
      "Iteration 10, loss = 0.56810809\n",
      "Iteration 11, loss = 0.55915602\n",
      "Iteration 12, loss = 0.55141215\n",
      "Iteration 13, loss = 0.54480543\n",
      "Iteration 14, loss = 0.53912281\n",
      "Iteration 15, loss = 0.53463990\n",
      "Iteration 16, loss = 0.53162656\n",
      "Iteration 17, loss = 0.52920688\n",
      "Iteration 18, loss = 0.52670822\n",
      "Iteration 19, loss = 0.52406168\n",
      "Training loss did not improve more than tol=0.010000 for 10 consecutive epochs. Stopping.\n",
      "Iteration 1, loss = 0.61449865\n",
      "Iteration 2, loss = 0.60650833\n",
      "Iteration 3, loss = 0.59631009\n",
      "Iteration 4, loss = 0.58586809\n",
      "Iteration 5, loss = 0.57530508\n",
      "Iteration 6, loss = 0.56608138\n",
      "Iteration 7, loss = 0.55730990\n",
      "Iteration 8, loss = 0.54982815\n",
      "Iteration 9, loss = 0.54380643\n",
      "Iteration 10, loss = 0.53853761\n",
      "Iteration 11, loss = 0.53355717\n",
      "Iteration 12, loss = 0.52934113\n",
      "Iteration 13, loss = 0.52544767\n",
      "Iteration 14, loss = 0.52231439\n",
      "Iteration 15, loss = 0.52010435\n",
      "Iteration 16, loss = 0.51822760\n",
      "Training loss did not improve more than tol=0.010000 for 10 consecutive epochs. Stopping.\n",
      "Iteration 1, loss = 0.80471493\n",
      "Iteration 2, loss = 0.70907674\n",
      "Iteration 3, loss = 0.64313316\n",
      "Iteration 4, loss = 0.59752179\n",
      "Iteration 5, loss = 0.56527998\n",
      "Iteration 6, loss = 0.54209543\n",
      "Iteration 7, loss = 0.52556395\n",
      "Iteration 8, loss = 0.51425370\n",
      "Iteration 9, loss = 0.50664435\n",
      "Iteration 10, loss = 0.50335405\n",
      "Iteration 11, loss = 0.50104419\n",
      "Iteration 12, loss = 0.49957117\n",
      "Iteration 13, loss = 0.49810205\n",
      "Iteration 14, loss = 0.49630069\n",
      "Iteration 15, loss = 0.49504895\n",
      "Iteration 16, loss = 0.49431651\n",
      "Iteration 17, loss = 0.49447214\n",
      "Iteration 18, loss = 0.49454599\n",
      "Iteration 19, loss = 0.49426038\n",
      "Training loss did not improve more than tol=0.010000 for 10 consecutive epochs. Stopping.\n",
      "Iteration 1, loss = 0.73280245\n",
      "Iteration 2, loss = 0.64438194\n",
      "Iteration 3, loss = 0.59490148\n",
      "Iteration 4, loss = 0.57063262\n",
      "Iteration 5, loss = 0.55162747\n",
      "Iteration 6, loss = 0.53624650\n",
      "Iteration 7, loss = 0.52564400\n",
      "Iteration 8, loss = 0.51536575\n",
      "Iteration 9, loss = 0.50829012\n",
      "Iteration 10, loss = 0.50234010\n",
      "Iteration 11, loss = 0.49752468\n",
      "Iteration 12, loss = 0.49512192\n",
      "Iteration 13, loss = 0.49273743\n",
      "Iteration 14, loss = 0.49179748\n",
      "Iteration 15, loss = 0.49187954\n",
      "Iteration 16, loss = 0.49078771\n",
      "Iteration 17, loss = 0.49105544\n",
      "Iteration 18, loss = 0.49174038\n",
      "Iteration 19, loss = 0.49070168\n",
      "Training loss did not improve more than tol=0.010000 for 10 consecutive epochs. Stopping.\n",
      "Iteration 1, loss = 0.67011751\n",
      "Iteration 2, loss = 0.59948856\n",
      "Iteration 3, loss = 0.55376553\n",
      "Iteration 4, loss = 0.52838297\n",
      "Iteration 5, loss = 0.51383768\n",
      "Iteration 6, loss = 0.50503470\n",
      "Iteration 7, loss = 0.50002430\n",
      "Iteration 8, loss = 0.49765401\n",
      "Iteration 9, loss = 0.49535392\n",
      "Iteration 10, loss = 0.49374465\n",
      "Iteration 11, loss = 0.49215951\n",
      "Iteration 12, loss = 0.49099984\n",
      "Iteration 13, loss = 0.49026452\n",
      "Iteration 14, loss = 0.48994309\n",
      "Iteration 15, loss = 0.49045940\n",
      "Iteration 16, loss = 0.48966345\n",
      "Training loss did not improve more than tol=0.010000 for 10 consecutive epochs. Stopping.\n",
      "Iteration 1, loss = 0.81109819\n",
      "Iteration 2, loss = 0.70837866\n",
      "Iteration 3, loss = 0.63722916\n",
      "Iteration 4, loss = 0.58353476\n",
      "Iteration 5, loss = 0.54973419\n",
      "Iteration 6, loss = 0.53060811\n",
      "Iteration 7, loss = 0.51727259\n",
      "Iteration 8, loss = 0.50825729\n",
      "Iteration 9, loss = 0.50361475\n",
      "Iteration 10, loss = 0.49998683\n",
      "Iteration 11, loss = 0.49825733\n",
      "Iteration 12, loss = 0.49724125\n",
      "Iteration 13, loss = 0.49622599\n",
      "Iteration 14, loss = 0.49475054\n",
      "Iteration 15, loss = 0.49400193\n",
      "Iteration 16, loss = 0.49303841\n",
      "Iteration 17, loss = 0.49273894\n",
      "Iteration 18, loss = 0.49351535\n",
      "Training loss did not improve more than tol=0.010000 for 10 consecutive epochs. Stopping.\n",
      "Iteration 1, loss = 0.67784802\n",
      "Iteration 2, loss = 0.61733525\n",
      "Iteration 3, loss = 0.57602325\n",
      "Iteration 4, loss = 0.54645877\n",
      "Iteration 5, loss = 0.52693347\n",
      "Iteration 6, loss = 0.51235653\n",
      "Iteration 7, loss = 0.50145967\n",
      "Iteration 8, loss = 0.49387273\n",
      "Iteration 9, loss = 0.48959953\n",
      "Iteration 10, loss = 0.48786835\n",
      "Iteration 11, loss = 0.48675070\n",
      "Iteration 12, loss = 0.48482060\n",
      "Iteration 13, loss = 0.48397922\n",
      "Iteration 14, loss = 0.48277700\n",
      "Iteration 15, loss = 0.48119092\n",
      "Iteration 16, loss = 0.48017588\n",
      "Iteration 17, loss = 0.48000124\n",
      "Iteration 18, loss = 0.47969361\n",
      "Training loss did not improve more than tol=0.010000 for 10 consecutive epochs. Stopping.\n",
      "Iteration 1, loss = 0.71923407\n",
      "Iteration 2, loss = 0.63159604\n",
      "Iteration 3, loss = 0.58091592\n",
      "Iteration 4, loss = 0.54703593\n",
      "Iteration 5, loss = 0.52519887\n",
      "Iteration 6, loss = 0.51337928\n",
      "Iteration 7, loss = 0.50623630\n",
      "Iteration 8, loss = 0.50135418\n",
      "Iteration 9, loss = 0.49797205\n",
      "Iteration 10, loss = 0.49553303\n",
      "Iteration 11, loss = 0.49376258\n",
      "Iteration 12, loss = 0.49239784\n",
      "Iteration 13, loss = 0.49191589\n",
      "Iteration 14, loss = 0.49170451\n",
      "Iteration 15, loss = 0.49029807\n",
      "Iteration 16, loss = 0.49005743\n",
      "Iteration 17, loss = 0.48929600\n",
      "Training loss did not improve more than tol=0.010000 for 10 consecutive epochs. Stopping.\n",
      "Iteration 1, loss = 0.67103748\n",
      "Iteration 2, loss = 0.60378604\n",
      "Iteration 3, loss = 0.56477671\n",
      "Iteration 4, loss = 0.54217706\n",
      "Iteration 5, loss = 0.52966997\n",
      "Iteration 6, loss = 0.52134417\n",
      "Iteration 7, loss = 0.51456930\n",
      "Iteration 8, loss = 0.50876762\n",
      "Iteration 9, loss = 0.50390201\n",
      "Iteration 10, loss = 0.50044292\n",
      "Iteration 11, loss = 0.49938963\n",
      "Iteration 12, loss = 0.49872678\n",
      "Iteration 13, loss = 0.49890730\n",
      "Iteration 14, loss = 0.49914847\n",
      "Iteration 15, loss = 0.49884574\n",
      "Iteration 16, loss = 0.49954414\n",
      "Training loss did not improve more than tol=0.010000 for 10 consecutive epochs. Stopping.\n",
      "Iteration 1, loss = 0.68441783\n",
      "Iteration 2, loss = 0.60931426\n",
      "Iteration 3, loss = 0.56315482\n",
      "Iteration 4, loss = 0.53498346\n",
      "Iteration 5, loss = 0.51985377\n",
      "Iteration 6, loss = 0.51183936\n",
      "Iteration 7, loss = 0.50834063\n",
      "Iteration 8, loss = 0.50643773\n",
      "Iteration 9, loss = 0.50491861\n",
      "Iteration 10, loss = 0.50244432\n",
      "Iteration 11, loss = 0.50003646\n",
      "Iteration 12, loss = 0.49783392\n",
      "Iteration 13, loss = 0.49717213\n",
      "Iteration 14, loss = 0.49646091\n",
      "Iteration 15, loss = 0.49571704\n",
      "Iteration 16, loss = 0.49590159\n",
      "Training loss did not improve more than tol=0.010000 for 10 consecutive epochs. Stopping.\n",
      "Iteration 1, loss = 0.63431663\n",
      "Iteration 2, loss = 0.57561818\n",
      "Iteration 3, loss = 0.54305226\n",
      "Iteration 4, loss = 0.52601735\n",
      "Iteration 5, loss = 0.51519737\n",
      "Iteration 6, loss = 0.50716023\n",
      "Iteration 7, loss = 0.50162602\n",
      "Iteration 8, loss = 0.49898217\n",
      "Iteration 9, loss = 0.49828175\n",
      "Iteration 10, loss = 0.49682793\n",
      "Iteration 11, loss = 0.49655891\n",
      "Iteration 12, loss = 0.49632187\n",
      "Iteration 13, loss = 0.49593298\n",
      "Iteration 14, loss = 0.49616871\n",
      "Iteration 15, loss = 0.49575736\n",
      "Iteration 16, loss = 0.49432392\n",
      "Training loss did not improve more than tol=0.010000 for 10 consecutive epochs. Stopping.\n",
      "Iteration 1, loss = 0.81775229\n",
      "Iteration 2, loss = 0.70915748\n",
      "Iteration 3, loss = 0.63395265\n",
      "Iteration 4, loss = 0.58166598\n",
      "Iteration 5, loss = 0.54785197\n",
      "Iteration 6, loss = 0.52830419\n",
      "Iteration 7, loss = 0.51537895\n",
      "Iteration 8, loss = 0.50578293\n",
      "Iteration 9, loss = 0.50053571\n",
      "Iteration 10, loss = 0.49753695\n",
      "Iteration 11, loss = 0.49491401\n",
      "Iteration 12, loss = 0.49277079\n",
      "Iteration 13, loss = 0.49159080\n",
      "Iteration 14, loss = 0.49068126\n",
      "Iteration 15, loss = 0.48991107\n",
      "Iteration 16, loss = 0.48870090\n",
      "Iteration 17, loss = 0.48748728\n",
      "Iteration 18, loss = 0.48697922\n",
      "Training loss did not improve more than tol=0.010000 for 10 consecutive epochs. Stopping.\n",
      "Iteration 1, loss = 0.70557849\n",
      "Iteration 2, loss = 0.68838052\n",
      "Iteration 3, loss = 0.66442369\n",
      "Iteration 4, loss = 0.63932146\n",
      "Iteration 5, loss = 0.61871027\n",
      "Iteration 6, loss = 0.60097080\n",
      "Iteration 7, loss = 0.58690735\n",
      "Iteration 8, loss = 0.57559535\n",
      "Iteration 9, loss = 0.56654918\n",
      "Iteration 10, loss = 0.55915318\n",
      "Iteration 11, loss = 0.55267340\n",
      "Iteration 12, loss = 0.54704251\n",
      "Iteration 13, loss = 0.54182548\n",
      "Iteration 14, loss = 0.53735847\n",
      "Iteration 15, loss = 0.53414120\n",
      "Iteration 16, loss = 0.53100373\n",
      "Iteration 17, loss = 0.52805628\n",
      "Iteration 18, loss = 0.52522120\n",
      "Iteration 19, loss = 0.52280622\n",
      "Training loss did not improve more than tol=0.010000 for 10 consecutive epochs. Stopping.\n",
      "Iteration 1, loss = 0.61232727\n",
      "Iteration 2, loss = 0.60178123\n",
      "Iteration 3, loss = 0.58851739\n",
      "Iteration 4, loss = 0.57681460\n",
      "Iteration 5, loss = 0.56696960\n",
      "Iteration 6, loss = 0.55795564\n",
      "Iteration 7, loss = 0.54986062\n",
      "Iteration 8, loss = 0.54450395\n"
     ]
    },
    {
     "name": "stdout",
     "output_type": "stream",
     "text": [
      "Iteration 9, loss = 0.53943966\n",
      "Iteration 10, loss = 0.53683340\n",
      "Iteration 11, loss = 0.53357219\n",
      "Iteration 12, loss = 0.53080356\n",
      "Iteration 13, loss = 0.52802997\n",
      "Iteration 14, loss = 0.52556281\n",
      "Iteration 15, loss = 0.52260140\n",
      "Training loss did not improve more than tol=0.010000 for 10 consecutive epochs. Stopping.\n",
      "Iteration 1, loss = 0.70264508\n",
      "Iteration 2, loss = 0.68618668\n",
      "Iteration 3, loss = 0.66798129\n",
      "Iteration 4, loss = 0.64979195\n",
      "Iteration 5, loss = 0.63313265\n",
      "Iteration 6, loss = 0.61956973\n",
      "Iteration 7, loss = 0.60609811\n",
      "Iteration 8, loss = 0.59356729\n",
      "Iteration 9, loss = 0.58419299\n",
      "Iteration 10, loss = 0.57784650\n",
      "Iteration 11, loss = 0.57089319\n",
      "Iteration 12, loss = 0.56316043\n",
      "Iteration 13, loss = 0.55584692\n",
      "Iteration 14, loss = 0.54916789\n",
      "Iteration 15, loss = 0.54372484\n",
      "Iteration 16, loss = 0.53874650\n",
      "Iteration 17, loss = 0.53402003\n",
      "Iteration 18, loss = 0.52989976\n",
      "Iteration 19, loss = 0.52570411\n",
      "Training loss did not improve more than tol=0.010000 for 10 consecutive epochs. Stopping.\n",
      "Iteration 1, loss = 0.83174805\n",
      "Iteration 2, loss = 0.79286516\n",
      "Iteration 3, loss = 0.74677652\n",
      "Iteration 4, loss = 0.70510013\n",
      "Iteration 5, loss = 0.67068246\n",
      "Iteration 6, loss = 0.64319486\n",
      "Iteration 7, loss = 0.62278460\n",
      "Iteration 8, loss = 0.60887210\n",
      "Iteration 9, loss = 0.59749209\n",
      "Iteration 10, loss = 0.58609309\n",
      "Iteration 11, loss = 0.57688309\n",
      "Iteration 12, loss = 0.56826203\n",
      "Iteration 13, loss = 0.56109352\n",
      "Iteration 14, loss = 0.55478646\n",
      "Iteration 15, loss = 0.54833608\n",
      "Iteration 16, loss = 0.54256838\n",
      "Iteration 17, loss = 0.53840394\n",
      "Iteration 18, loss = 0.53459391\n",
      "Iteration 19, loss = 0.53149355\n",
      "Iteration 20, loss = 0.52853367\n",
      "Iteration 21, loss = 0.52659620\n",
      "Training loss did not improve more than tol=0.010000 for 10 consecutive epochs. Stopping.\n",
      "Iteration 1, loss = 0.66657151\n",
      "Iteration 2, loss = 0.65275750\n",
      "Iteration 3, loss = 0.63538758\n",
      "Iteration 4, loss = 0.61870806\n",
      "Iteration 5, loss = 0.60429467\n",
      "Iteration 6, loss = 0.59111508\n",
      "Iteration 7, loss = 0.58014140\n",
      "Iteration 8, loss = 0.56994799\n",
      "Iteration 9, loss = 0.56121736\n",
      "Iteration 10, loss = 0.55449766\n",
      "Iteration 11, loss = 0.54897934\n",
      "Iteration 12, loss = 0.54357398\n",
      "Iteration 13, loss = 0.53849804\n",
      "Iteration 14, loss = 0.53483754\n",
      "Iteration 15, loss = 0.53108638\n",
      "Iteration 16, loss = 0.52767177\n",
      "Iteration 17, loss = 0.52426152\n",
      "Iteration 18, loss = 0.52133226\n",
      "Iteration 19, loss = 0.51853873\n",
      "Training loss did not improve more than tol=0.010000 for 10 consecutive epochs. Stopping.\n",
      "Iteration 1, loss = 0.77006183\n",
      "Iteration 2, loss = 0.74075266\n",
      "Iteration 3, loss = 0.70490735\n",
      "Iteration 4, loss = 0.67490546\n",
      "Iteration 5, loss = 0.65127122\n",
      "Iteration 6, loss = 0.62969038\n",
      "Iteration 7, loss = 0.61092402\n",
      "Iteration 8, loss = 0.59444688\n",
      "Iteration 9, loss = 0.58092651\n",
      "Iteration 10, loss = 0.56980129\n",
      "Iteration 11, loss = 0.56098098\n",
      "Iteration 12, loss = 0.55420940\n",
      "Iteration 13, loss = 0.54876104\n",
      "Iteration 14, loss = 0.54294011\n",
      "Iteration 15, loss = 0.53786871\n",
      "Iteration 16, loss = 0.53407304\n",
      "Iteration 17, loss = 0.52997522\n",
      "Iteration 18, loss = 0.52597964\n",
      "Iteration 19, loss = 0.52223119\n",
      "Iteration 20, loss = 0.51896068\n",
      "Iteration 21, loss = 0.51592521\n",
      "Training loss did not improve more than tol=0.010000 for 10 consecutive epochs. Stopping.\n",
      "Iteration 1, loss = 0.69802695\n",
      "Iteration 2, loss = 0.68078294\n",
      "Iteration 3, loss = 0.65761424\n",
      "Iteration 4, loss = 0.63663296\n",
      "Iteration 5, loss = 0.61937719\n",
      "Iteration 6, loss = 0.60379064\n",
      "Iteration 7, loss = 0.58970724\n",
      "Iteration 8, loss = 0.57787838\n",
      "Iteration 9, loss = 0.56883924\n",
      "Iteration 10, loss = 0.56150175\n",
      "Iteration 11, loss = 0.55428845\n",
      "Iteration 12, loss = 0.54785903\n",
      "Iteration 13, loss = 0.54271243\n",
      "Iteration 14, loss = 0.53805789\n",
      "Iteration 15, loss = 0.53499069\n",
      "Iteration 16, loss = 0.53262613\n",
      "Iteration 17, loss = 0.53077184\n",
      "Iteration 18, loss = 0.52839296\n",
      "Iteration 19, loss = 0.52565215\n",
      "Training loss did not improve more than tol=0.010000 for 10 consecutive epochs. Stopping.\n",
      "Iteration 1, loss = 0.68520081\n",
      "Iteration 2, loss = 0.66756291\n",
      "Iteration 3, loss = 0.64522546\n",
      "Iteration 4, loss = 0.62414002\n",
      "Iteration 5, loss = 0.60688468\n",
      "Iteration 6, loss = 0.59345308\n",
      "Iteration 7, loss = 0.58377967\n",
      "Iteration 8, loss = 0.57496538\n",
      "Iteration 9, loss = 0.56715563\n",
      "Iteration 10, loss = 0.56046560\n",
      "Iteration 11, loss = 0.55392473\n",
      "Iteration 12, loss = 0.54827230\n",
      "Iteration 13, loss = 0.54344474\n",
      "Iteration 14, loss = 0.53962495\n",
      "Iteration 15, loss = 0.53700898\n",
      "Iteration 16, loss = 0.53415008\n",
      "Iteration 17, loss = 0.53129140\n",
      "Training loss did not improve more than tol=0.010000 for 10 consecutive epochs. Stopping.\n",
      "Iteration 1, loss = 0.66355272\n",
      "Iteration 2, loss = 0.64875258\n",
      "Iteration 3, loss = 0.63004132\n",
      "Iteration 4, loss = 0.61238330\n",
      "Iteration 5, loss = 0.59728966\n",
      "Iteration 6, loss = 0.58575790\n",
      "Iteration 7, loss = 0.57698563\n",
      "Iteration 8, loss = 0.56955162\n",
      "Iteration 9, loss = 0.56194162\n",
      "Iteration 10, loss = 0.55540671\n",
      "Iteration 11, loss = 0.54914693\n",
      "Iteration 12, loss = 0.54363278\n",
      "Iteration 13, loss = 0.53942490\n",
      "Iteration 14, loss = 0.53552616\n",
      "Iteration 15, loss = 0.53195622\n",
      "Iteration 16, loss = 0.52895078\n",
      "Iteration 17, loss = 0.52613557\n",
      "Training loss did not improve more than tol=0.010000 for 10 consecutive epochs. Stopping.\n",
      "Iteration 1, loss = 0.70106334\n",
      "Iteration 2, loss = 0.68573926\n",
      "Iteration 3, loss = 0.66669604\n",
      "Iteration 4, loss = 0.64701094\n",
      "Iteration 5, loss = 0.62962751\n",
      "Iteration 6, loss = 0.61360945\n",
      "Iteration 7, loss = 0.60053204\n",
      "Iteration 8, loss = 0.58899816\n",
      "Iteration 9, loss = 0.57941600\n",
      "Iteration 10, loss = 0.57183024\n",
      "Iteration 11, loss = 0.56456248\n",
      "Iteration 12, loss = 0.55869262\n",
      "Iteration 13, loss = 0.55342608\n",
      "Iteration 14, loss = 0.54835216\n",
      "Iteration 15, loss = 0.54328145\n",
      "Iteration 16, loss = 0.53835148\n",
      "Iteration 17, loss = 0.53413604\n",
      "Iteration 18, loss = 0.53079984\n",
      "Iteration 19, loss = 0.52786827\n",
      "Training loss did not improve more than tol=0.010000 for 10 consecutive epochs. Stopping.\n",
      "Iteration 1, loss = 0.64873814\n",
      "Iteration 2, loss = 0.56141232\n",
      "Iteration 3, loss = 0.52490369\n",
      "Iteration 4, loss = 0.50931709\n",
      "Iteration 5, loss = 0.50178553\n",
      "Iteration 6, loss = 0.49811280\n",
      "Iteration 7, loss = 0.49597551\n",
      "Iteration 8, loss = 0.49501336\n",
      "Iteration 9, loss = 0.49332334\n",
      "Iteration 10, loss = 0.49236694\n",
      "Iteration 11, loss = 0.49300728\n",
      "Iteration 12, loss = 0.49368118\n",
      "Iteration 13, loss = 0.49268573\n",
      "Iteration 14, loss = 0.49204612\n",
      "Iteration 15, loss = 0.49155435\n",
      "Training loss did not improve more than tol=0.010000 for 10 consecutive epochs. Stopping.\n",
      "Iteration 1, loss = 0.67640321\n",
      "Iteration 2, loss = 0.57712328\n",
      "Iteration 3, loss = 0.52991830\n",
      "Iteration 4, loss = 0.50932572\n",
      "Iteration 5, loss = 0.50066791\n",
      "Iteration 6, loss = 0.49678946\n",
      "Iteration 7, loss = 0.49482051\n",
      "Iteration 8, loss = 0.49305558\n",
      "Iteration 9, loss = 0.49162779\n",
      "Iteration 10, loss = 0.49145782\n",
      "Iteration 11, loss = 0.49062780\n",
      "Iteration 12, loss = 0.49145724\n",
      "Iteration 13, loss = 0.49104560\n",
      "Iteration 14, loss = 0.49181141\n",
      "Iteration 15, loss = 0.49078206\n",
      "Training loss did not improve more than tol=0.010000 for 10 consecutive epochs. Stopping.\n",
      "Iteration 1, loss = 0.61373400\n",
      "Iteration 2, loss = 0.55042814\n",
      "Iteration 3, loss = 0.52279677\n",
      "Iteration 4, loss = 0.51258649\n",
      "Iteration 5, loss = 0.50525435\n",
      "Iteration 6, loss = 0.49906649\n",
      "Iteration 7, loss = 0.49599918\n",
      "Iteration 8, loss = 0.49409323\n",
      "Iteration 9, loss = 0.49297592\n",
      "Iteration 10, loss = 0.49149440\n",
      "Iteration 11, loss = 0.48995628\n",
      "Iteration 12, loss = 0.48881763\n",
      "Iteration 13, loss = 0.48810039\n",
      "Iteration 14, loss = 0.48771125\n",
      "Iteration 15, loss = 0.48920112\n",
      "Training loss did not improve more than tol=0.010000 for 10 consecutive epochs. Stopping.\n",
      "Iteration 1, loss = 0.65025800\n",
      "Iteration 2, loss = 0.56892938\n",
      "Iteration 3, loss = 0.52960016\n",
      "Iteration 4, loss = 0.51004358\n",
      "Iteration 5, loss = 0.50043365\n",
      "Iteration 6, loss = 0.49560027\n",
      "Iteration 7, loss = 0.49334243\n",
      "Iteration 8, loss = 0.49270057\n",
      "Iteration 9, loss = 0.49200797\n",
      "Iteration 10, loss = 0.49123677\n",
      "Iteration 11, loss = 0.48968326\n",
      "Iteration 12, loss = 0.48797674\n",
      "Iteration 13, loss = 0.49057639\n",
      "Iteration 14, loss = 0.48728839\n",
      "Iteration 15, loss = 0.48492790\n",
      "Training loss did not improve more than tol=0.010000 for 10 consecutive epochs. Stopping.\n",
      "Iteration 1, loss = 0.63554622\n",
      "Iteration 2, loss = 0.55257579\n",
      "Iteration 3, loss = 0.51240099\n",
      "Iteration 4, loss = 0.49743959\n",
      "Iteration 5, loss = 0.49049211\n",
      "Iteration 6, loss = 0.48739597\n"
     ]
    },
    {
     "name": "stdout",
     "output_type": "stream",
     "text": [
      "Iteration 7, loss = 0.48490049\n",
      "Iteration 8, loss = 0.48314574\n",
      "Iteration 9, loss = 0.48210571\n",
      "Iteration 10, loss = 0.48235648\n",
      "Iteration 11, loss = 0.48083723\n",
      "Iteration 12, loss = 0.48005990\n",
      "Iteration 13, loss = 0.47945599\n",
      "Iteration 14, loss = 0.47912803\n",
      "Iteration 15, loss = 0.47883753\n",
      "Training loss did not improve more than tol=0.010000 for 10 consecutive epochs. Stopping.\n",
      "Iteration 1, loss = 0.65922741\n",
      "Iteration 2, loss = 0.57650889\n",
      "Iteration 3, loss = 0.53608710\n",
      "Iteration 4, loss = 0.51499450\n",
      "Iteration 5, loss = 0.50315425\n",
      "Iteration 6, loss = 0.49818005\n",
      "Iteration 7, loss = 0.49593314\n",
      "Iteration 8, loss = 0.49448052\n",
      "Iteration 9, loss = 0.49330540\n",
      "Iteration 10, loss = 0.49227926\n",
      "Iteration 11, loss = 0.49147864\n",
      "Iteration 12, loss = 0.49109372\n",
      "Iteration 13, loss = 0.49083266\n",
      "Iteration 14, loss = 0.49204705\n",
      "Iteration 15, loss = 0.49246088\n",
      "Iteration 16, loss = 0.49149903\n",
      "Training loss did not improve more than tol=0.010000 for 10 consecutive epochs. Stopping.\n",
      "Iteration 1, loss = 0.66684838\n",
      "Iteration 2, loss = 0.58148155\n",
      "Iteration 3, loss = 0.54072713\n",
      "Iteration 4, loss = 0.52041406\n",
      "Iteration 5, loss = 0.50857417\n",
      "Iteration 6, loss = 0.50105058\n",
      "Iteration 7, loss = 0.49768764\n",
      "Iteration 8, loss = 0.49695853\n",
      "Iteration 9, loss = 0.49733453\n",
      "Iteration 10, loss = 0.49652005\n",
      "Iteration 11, loss = 0.49477047\n",
      "Iteration 12, loss = 0.49421642\n",
      "Iteration 13, loss = 0.49409306\n",
      "Iteration 14, loss = 0.49446275\n",
      "Iteration 15, loss = 0.49425263\n",
      "Iteration 16, loss = 0.49392536\n",
      "Training loss did not improve more than tol=0.010000 for 10 consecutive epochs. Stopping.\n",
      "Iteration 1, loss = 0.63723372\n",
      "Iteration 2, loss = 0.56640958\n",
      "Iteration 3, loss = 0.53442735\n",
      "Iteration 4, loss = 0.51793970\n",
      "Iteration 5, loss = 0.50924378\n",
      "Iteration 6, loss = 0.50454132\n",
      "Iteration 7, loss = 0.50005899\n",
      "Iteration 8, loss = 0.49792424\n",
      "Iteration 9, loss = 0.49568413\n",
      "Iteration 10, loss = 0.49373325\n",
      "Iteration 11, loss = 0.49270982\n",
      "Iteration 12, loss = 0.49216350\n",
      "Iteration 13, loss = 0.49129209\n",
      "Iteration 14, loss = 0.49096374\n",
      "Iteration 15, loss = 0.49177202\n",
      "Training loss did not improve more than tol=0.010000 for 10 consecutive epochs. Stopping.\n",
      "Iteration 1, loss = 0.68903098\n",
      "Iteration 2, loss = 0.59215483\n",
      "Iteration 3, loss = 0.54826618\n",
      "Iteration 4, loss = 0.52475658\n",
      "Iteration 5, loss = 0.51194340\n",
      "Iteration 6, loss = 0.50493574\n",
      "Iteration 7, loss = 0.50097494\n",
      "Iteration 8, loss = 0.49749734\n",
      "Iteration 9, loss = 0.49570618\n",
      "Iteration 10, loss = 0.49434703\n",
      "Iteration 11, loss = 0.49400664\n",
      "Iteration 12, loss = 0.49374774\n",
      "Iteration 13, loss = 0.49228304\n",
      "Iteration 14, loss = 0.49174686\n",
      "Iteration 15, loss = 0.49159174\n",
      "Iteration 16, loss = 0.49090702\n",
      "Training loss did not improve more than tol=0.010000 for 10 consecutive epochs. Stopping.\n",
      "Iteration 1, loss = 0.65305851\n",
      "Iteration 2, loss = 0.56507982\n",
      "Iteration 3, loss = 0.52304099\n",
      "Iteration 4, loss = 0.50608200\n",
      "Iteration 5, loss = 0.49786780\n",
      "Iteration 6, loss = 0.49463629\n",
      "Iteration 7, loss = 0.49209220\n",
      "Iteration 8, loss = 0.49049390\n",
      "Iteration 9, loss = 0.48929375\n",
      "Iteration 10, loss = 0.48923018\n",
      "Iteration 11, loss = 0.48833952\n",
      "Iteration 12, loss = 0.48748572\n",
      "Iteration 13, loss = 0.48636808\n",
      "Iteration 14, loss = 0.48692135\n",
      "Iteration 15, loss = 0.48626694\n",
      "Training loss did not improve more than tol=0.010000 for 10 consecutive epochs. Stopping.\n",
      "Iteration 1, loss = 0.71008851\n",
      "Iteration 2, loss = 0.69025872\n",
      "Iteration 3, loss = 0.66287583\n",
      "Iteration 4, loss = 0.63448224\n",
      "Iteration 5, loss = 0.61197979\n",
      "Iteration 6, loss = 0.59602654\n",
      "Iteration 7, loss = 0.58210207\n",
      "Iteration 8, loss = 0.57022991\n",
      "Iteration 9, loss = 0.55988138\n",
      "Iteration 10, loss = 0.55197351\n",
      "Iteration 11, loss = 0.54539990\n",
      "Iteration 12, loss = 0.54029200\n",
      "Iteration 13, loss = 0.53524008\n",
      "Iteration 14, loss = 0.53054095\n",
      "Iteration 15, loss = 0.52644020\n",
      "Iteration 16, loss = 0.52256742\n",
      "Iteration 17, loss = 0.51952509\n",
      "Iteration 18, loss = 0.51693413\n",
      "Iteration 19, loss = 0.51475239\n",
      "Iteration 20, loss = 0.51252542\n",
      "Training loss did not improve more than tol=0.010000 for 10 consecutive epochs. Stopping.\n",
      "Iteration 1, loss = 0.71731845\n",
      "Iteration 2, loss = 0.70008622\n",
      "Iteration 3, loss = 0.67581679\n",
      "Iteration 4, loss = 0.65434186\n",
      "Iteration 5, loss = 0.63428203\n",
      "Iteration 6, loss = 0.61424620\n",
      "Iteration 7, loss = 0.59647011\n",
      "Iteration 8, loss = 0.58185800\n",
      "Iteration 9, loss = 0.56933432\n",
      "Iteration 10, loss = 0.55970660\n",
      "Iteration 11, loss = 0.55164970\n",
      "Iteration 12, loss = 0.54523813\n",
      "Iteration 13, loss = 0.53970222\n",
      "Iteration 14, loss = 0.53451869\n",
      "Iteration 15, loss = 0.52997694\n",
      "Iteration 16, loss = 0.52622632\n",
      "Iteration 17, loss = 0.52273375\n",
      "Iteration 18, loss = 0.52015180\n",
      "Iteration 19, loss = 0.51771663\n",
      "Iteration 20, loss = 0.51586405\n",
      "Training loss did not improve more than tol=0.010000 for 10 consecutive epochs. Stopping.\n",
      "Iteration 1, loss = 0.67209157\n",
      "Iteration 2, loss = 0.65769389\n",
      "Iteration 3, loss = 0.63844311\n",
      "Iteration 4, loss = 0.62048116\n",
      "Iteration 5, loss = 0.60392750\n",
      "Iteration 6, loss = 0.58812628\n",
      "Iteration 7, loss = 0.57547243\n",
      "Iteration 8, loss = 0.56497054\n",
      "Iteration 9, loss = 0.55615989\n",
      "Iteration 10, loss = 0.54826919\n",
      "Iteration 11, loss = 0.54137576\n",
      "Iteration 12, loss = 0.53613175\n",
      "Iteration 13, loss = 0.53175032\n",
      "Iteration 14, loss = 0.52755063\n",
      "Iteration 15, loss = 0.52352990\n",
      "Iteration 16, loss = 0.51993891\n",
      "Iteration 17, loss = 0.51750697\n",
      "Iteration 18, loss = 0.51535470\n",
      "Iteration 19, loss = 0.51356013\n",
      "Training loss did not improve more than tol=0.010000 for 10 consecutive epochs. Stopping.\n",
      "Iteration 1, loss = 0.72359851\n",
      "Iteration 2, loss = 0.70390324\n",
      "Iteration 3, loss = 0.67854213\n",
      "Iteration 4, loss = 0.65754028\n",
      "Iteration 5, loss = 0.63999684\n",
      "Iteration 6, loss = 0.62418051\n",
      "Iteration 7, loss = 0.60937023\n",
      "Iteration 8, loss = 0.59582195\n",
      "Iteration 9, loss = 0.58324057\n",
      "Iteration 10, loss = 0.57409632\n",
      "Iteration 11, loss = 0.56636454\n",
      "Iteration 12, loss = 0.55828011\n",
      "Iteration 13, loss = 0.55123573\n",
      "Iteration 14, loss = 0.54562652\n",
      "Iteration 15, loss = 0.54178515\n",
      "Iteration 16, loss = 0.53757152\n",
      "Iteration 17, loss = 0.53379720\n",
      "Iteration 18, loss = 0.52997792\n",
      "Iteration 19, loss = 0.52672890\n",
      "Iteration 20, loss = 0.52407283\n",
      "Training loss did not improve more than tol=0.010000 for 10 consecutive epochs. Stopping.\n",
      "Iteration 1, loss = 0.75817882\n",
      "Iteration 2, loss = 0.73461191\n",
      "Iteration 3, loss = 0.70659954\n",
      "Iteration 4, loss = 0.68095132\n",
      "Iteration 5, loss = 0.65748131\n",
      "Iteration 6, loss = 0.63629234\n",
      "Iteration 7, loss = 0.61721009\n",
      "Iteration 8, loss = 0.60081199\n",
      "Iteration 9, loss = 0.58684390\n",
      "Iteration 10, loss = 0.57660521\n",
      "Iteration 11, loss = 0.56719685\n",
      "Iteration 12, loss = 0.55870288\n",
      "Iteration 13, loss = 0.55094114\n",
      "Iteration 14, loss = 0.54434224\n",
      "Iteration 15, loss = 0.53827902\n",
      "Iteration 16, loss = 0.53362596\n",
      "Iteration 17, loss = 0.52992045\n",
      "Iteration 18, loss = 0.52599999\n",
      "Iteration 19, loss = 0.52235963\n",
      "Iteration 20, loss = 0.51905454\n",
      "Iteration 21, loss = 0.51668943\n",
      "Training loss did not improve more than tol=0.010000 for 10 consecutive epochs. Stopping.\n",
      "Iteration 1, loss = 0.71182025\n",
      "Iteration 2, loss = 0.69163361\n",
      "Iteration 3, loss = 0.66583418\n",
      "Iteration 4, loss = 0.64263611\n",
      "Iteration 5, loss = 0.62316217\n",
      "Iteration 6, loss = 0.60740621\n",
      "Iteration 7, loss = 0.59294793\n",
      "Iteration 8, loss = 0.57982458\n",
      "Iteration 9, loss = 0.56747973\n",
      "Iteration 10, loss = 0.55764307\n",
      "Iteration 11, loss = 0.55032183\n",
      "Iteration 12, loss = 0.54382802\n",
      "Iteration 13, loss = 0.53720572\n",
      "Iteration 14, loss = 0.53206087\n",
      "Iteration 15, loss = 0.52748333\n",
      "Iteration 16, loss = 0.52364911\n",
      "Iteration 17, loss = 0.52032171\n",
      "Iteration 18, loss = 0.51761912\n",
      "Iteration 19, loss = 0.51494951\n",
      "Iteration 20, loss = 0.51236913\n",
      "Training loss did not improve more than tol=0.010000 for 10 consecutive epochs. Stopping.\n",
      "Iteration 1, loss = 0.70387059\n",
      "Iteration 2, loss = 0.68846981\n",
      "Iteration 3, loss = 0.66928757\n",
      "Iteration 4, loss = 0.65000027\n",
      "Iteration 5, loss = 0.63339331\n",
      "Iteration 6, loss = 0.62029233\n",
      "Iteration 7, loss = 0.60981433\n",
      "Iteration 8, loss = 0.60034324\n",
      "Iteration 9, loss = 0.59115278\n",
      "Iteration 10, loss = 0.58278417\n",
      "Iteration 11, loss = 0.57514348\n",
      "Iteration 12, loss = 0.56820050\n",
      "Iteration 13, loss = 0.56193538\n",
      "Iteration 14, loss = 0.55642819\n",
      "Iteration 15, loss = 0.55117288\n",
      "Iteration 16, loss = 0.54709930\n",
      "Iteration 17, loss = 0.54413610\n",
      "Iteration 18, loss = 0.54126138\n",
      "Training loss did not improve more than tol=0.010000 for 10 consecutive epochs. Stopping.\n",
      "Iteration 1, loss = 0.73073152\n"
     ]
    },
    {
     "name": "stdout",
     "output_type": "stream",
     "text": [
      "Iteration 2, loss = 0.71143067\n",
      "Iteration 3, loss = 0.68749973\n",
      "Iteration 4, loss = 0.66586000\n",
      "Iteration 5, loss = 0.64619024\n",
      "Iteration 6, loss = 0.62820894\n",
      "Iteration 7, loss = 0.61084028\n",
      "Iteration 8, loss = 0.59667439\n",
      "Iteration 9, loss = 0.58430530\n",
      "Iteration 10, loss = 0.57517672\n",
      "Iteration 11, loss = 0.56708397\n",
      "Iteration 12, loss = 0.56076600\n",
      "Iteration 13, loss = 0.55487225\n",
      "Iteration 14, loss = 0.54997045\n",
      "Iteration 15, loss = 0.54695891\n",
      "Iteration 16, loss = 0.54349800\n",
      "Iteration 17, loss = 0.53945771\n",
      "Iteration 18, loss = 0.53570698\n",
      "Iteration 19, loss = 0.53227366\n",
      "Iteration 20, loss = 0.52960248\n",
      "Training loss did not improve more than tol=0.010000 for 10 consecutive epochs. Stopping.\n",
      "Iteration 1, loss = 0.74288200\n",
      "Iteration 2, loss = 0.72073496\n",
      "Iteration 3, loss = 0.69352097\n",
      "Iteration 4, loss = 0.66626921\n",
      "Iteration 5, loss = 0.64184915\n",
      "Iteration 6, loss = 0.62231797\n",
      "Iteration 7, loss = 0.60602238\n",
      "Iteration 8, loss = 0.59121771\n",
      "Iteration 9, loss = 0.57941311\n",
      "Iteration 10, loss = 0.57008374\n",
      "Iteration 11, loss = 0.56269947\n",
      "Iteration 12, loss = 0.55550732\n",
      "Iteration 13, loss = 0.54900558\n",
      "Iteration 14, loss = 0.54293632\n",
      "Iteration 15, loss = 0.53787863\n",
      "Iteration 16, loss = 0.53332330\n",
      "Iteration 17, loss = 0.53019109\n",
      "Iteration 18, loss = 0.52722027\n",
      "Iteration 19, loss = 0.52456826\n",
      "Iteration 20, loss = 0.52198359\n",
      "Training loss did not improve more than tol=0.010000 for 10 consecutive epochs. Stopping.\n",
      "Iteration 1, loss = 0.74061465\n",
      "Iteration 2, loss = 0.71823508\n",
      "Iteration 3, loss = 0.69066247\n",
      "Iteration 4, loss = 0.66568936\n",
      "Iteration 5, loss = 0.64362268\n",
      "Iteration 6, loss = 0.62528277\n",
      "Iteration 7, loss = 0.61239537\n",
      "Iteration 8, loss = 0.60132345\n",
      "Iteration 9, loss = 0.59167947\n",
      "Iteration 10, loss = 0.58237196\n",
      "Iteration 11, loss = 0.57477708\n",
      "Iteration 12, loss = 0.56855033\n",
      "Iteration 13, loss = 0.56214158\n",
      "Iteration 14, loss = 0.55599367\n",
      "Iteration 15, loss = 0.55042014\n",
      "Iteration 16, loss = 0.54575368\n",
      "Iteration 17, loss = 0.54157915\n",
      "Iteration 18, loss = 0.53741313\n",
      "Iteration 19, loss = 0.53352184\n",
      "Training loss did not improve more than tol=0.010000 for 10 consecutive epochs. Stopping.\n",
      "Iteration 1, loss = 0.62177765\n",
      "Iteration 2, loss = 0.55222674\n",
      "Iteration 3, loss = 0.51896134\n",
      "Iteration 4, loss = 0.50449999\n",
      "Iteration 5, loss = 0.49758918\n",
      "Iteration 6, loss = 0.49559880\n",
      "Iteration 7, loss = 0.49458342\n",
      "Iteration 8, loss = 0.49333248\n",
      "Iteration 9, loss = 0.49220341\n",
      "Iteration 10, loss = 0.49199283\n",
      "Iteration 11, loss = 0.49099811\n",
      "Iteration 12, loss = 0.49074372\n",
      "Iteration 13, loss = 0.49053337\n",
      "Iteration 14, loss = 0.48942268\n",
      "Iteration 15, loss = 0.48974269\n",
      "Training loss did not improve more than tol=0.010000 for 10 consecutive epochs. Stopping.\n",
      "Iteration 1, loss = 0.69660365\n",
      "Iteration 2, loss = 0.59253554\n",
      "Iteration 3, loss = 0.54124091\n",
      "Iteration 4, loss = 0.51888035\n",
      "Iteration 5, loss = 0.50739811\n",
      "Iteration 6, loss = 0.50256636\n",
      "Iteration 7, loss = 0.49986280\n",
      "Iteration 8, loss = 0.49653399\n",
      "Iteration 9, loss = 0.49562482\n",
      "Iteration 10, loss = 0.49404980\n",
      "Iteration 11, loss = 0.49273141\n",
      "Iteration 12, loss = 0.49223088\n",
      "Iteration 13, loss = 0.49348638\n",
      "Iteration 14, loss = 0.49633286\n",
      "Iteration 15, loss = 0.49521944\n",
      "Iteration 16, loss = 0.49216561\n",
      "Training loss did not improve more than tol=0.010000 for 10 consecutive epochs. Stopping.\n",
      "Iteration 1, loss = 0.64883658\n",
      "Iteration 2, loss = 0.56269116\n",
      "Iteration 3, loss = 0.52286295\n",
      "Iteration 4, loss = 0.50583122\n",
      "Iteration 5, loss = 0.49791255\n",
      "Iteration 6, loss = 0.49445959\n",
      "Iteration 7, loss = 0.49363600\n",
      "Iteration 8, loss = 0.49249606\n",
      "Iteration 9, loss = 0.49123348\n",
      "Iteration 10, loss = 0.49088887\n",
      "Iteration 11, loss = 0.49053273\n",
      "Iteration 12, loss = 0.48904492\n",
      "Iteration 13, loss = 0.48835340\n",
      "Iteration 14, loss = 0.48707245\n",
      "Iteration 15, loss = 0.48661153\n",
      "Training loss did not improve more than tol=0.010000 for 10 consecutive epochs. Stopping.\n",
      "Iteration 1, loss = 0.59295952\n",
      "Iteration 2, loss = 0.53862800\n",
      "Iteration 3, loss = 0.51327272\n",
      "Iteration 4, loss = 0.50134671\n",
      "Iteration 5, loss = 0.49453057\n",
      "Iteration 6, loss = 0.49211312\n",
      "Iteration 7, loss = 0.49137156\n",
      "Iteration 8, loss = 0.49028722\n",
      "Iteration 9, loss = 0.48830650\n",
      "Iteration 10, loss = 0.48789839\n",
      "Iteration 11, loss = 0.48679611\n",
      "Iteration 12, loss = 0.48608291\n",
      "Iteration 13, loss = 0.48655199\n",
      "Iteration 14, loss = 0.48571427\n",
      "Iteration 15, loss = 0.48508628\n",
      "Training loss did not improve more than tol=0.010000 for 10 consecutive epochs. Stopping.\n",
      "Iteration 1, loss = 0.62201265\n",
      "Iteration 2, loss = 0.55163676\n",
      "Iteration 3, loss = 0.52005426\n",
      "Iteration 4, loss = 0.50415147\n",
      "Iteration 5, loss = 0.49766719\n",
      "Iteration 6, loss = 0.49428418\n",
      "Iteration 7, loss = 0.49017410\n",
      "Iteration 8, loss = 0.48733162\n",
      "Iteration 9, loss = 0.48808917\n",
      "Iteration 10, loss = 0.48830873\n",
      "Iteration 11, loss = 0.48673687\n",
      "Iteration 12, loss = 0.48513877\n",
      "Iteration 13, loss = 0.48389375\n",
      "Iteration 14, loss = 0.48363211\n",
      "Iteration 15, loss = 0.48296563\n",
      "Training loss did not improve more than tol=0.010000 for 10 consecutive epochs. Stopping.\n",
      "Iteration 1, loss = 0.65402020\n",
      "Iteration 2, loss = 0.56608813\n",
      "Iteration 3, loss = 0.52554727\n",
      "Iteration 4, loss = 0.51124086\n",
      "Iteration 5, loss = 0.50674784\n",
      "Iteration 6, loss = 0.50417302\n",
      "Iteration 7, loss = 0.50083511\n",
      "Iteration 8, loss = 0.49766056\n",
      "Iteration 9, loss = 0.49487307\n",
      "Iteration 10, loss = 0.49278234\n",
      "Iteration 11, loss = 0.49135793\n",
      "Iteration 12, loss = 0.49097331\n",
      "Iteration 13, loss = 0.49028538\n",
      "Iteration 14, loss = 0.49087480\n",
      "Iteration 15, loss = 0.49384466\n",
      "Training loss did not improve more than tol=0.010000 for 10 consecutive epochs. Stopping.\n",
      "Iteration 1, loss = 0.61969819\n",
      "Iteration 2, loss = 0.55043831\n",
      "Iteration 3, loss = 0.51995012\n",
      "Iteration 4, loss = 0.50816784\n",
      "Iteration 5, loss = 0.50192866\n",
      "Iteration 6, loss = 0.49894638\n",
      "Iteration 7, loss = 0.49723675\n",
      "Iteration 8, loss = 0.49785530\n",
      "Iteration 9, loss = 0.49711352\n",
      "Iteration 10, loss = 0.49714832\n",
      "Iteration 11, loss = 0.49695558\n",
      "Iteration 12, loss = 0.49506230\n",
      "Iteration 13, loss = 0.49407652\n",
      "Iteration 14, loss = 0.49384881\n",
      "Iteration 15, loss = 0.49257093\n",
      "Training loss did not improve more than tol=0.010000 for 10 consecutive epochs. Stopping.\n",
      "Iteration 1, loss = 0.62666760\n",
      "Iteration 2, loss = 0.55953416\n",
      "Iteration 3, loss = 0.52786856\n",
      "Iteration 4, loss = 0.51590538\n",
      "Iteration 5, loss = 0.50667197\n",
      "Iteration 6, loss = 0.50172526\n",
      "Iteration 7, loss = 0.49829520\n",
      "Iteration 8, loss = 0.49640355\n",
      "Iteration 9, loss = 0.49529101\n",
      "Iteration 10, loss = 0.49421746\n",
      "Iteration 11, loss = 0.49337207\n",
      "Iteration 12, loss = 0.49172581\n",
      "Iteration 13, loss = 0.49074275\n",
      "Iteration 14, loss = 0.49030511\n",
      "Iteration 15, loss = 0.48954589\n",
      "Training loss did not improve more than tol=0.010000 for 10 consecutive epochs. Stopping.\n",
      "Iteration 1, loss = 0.62063645\n",
      "Iteration 2, loss = 0.55291319\n",
      "Iteration 3, loss = 0.51978938\n",
      "Iteration 4, loss = 0.50800436\n",
      "Iteration 5, loss = 0.50370753\n",
      "Iteration 6, loss = 0.49886192\n",
      "Iteration 7, loss = 0.49606119\n",
      "Iteration 8, loss = 0.49491391\n",
      "Iteration 9, loss = 0.49477110\n",
      "Iteration 10, loss = 0.49447219\n",
      "Iteration 11, loss = 0.49360092\n",
      "Iteration 12, loss = 0.49285948\n",
      "Iteration 13, loss = 0.49193800\n",
      "Iteration 14, loss = 0.49130524\n",
      "Iteration 15, loss = 0.49054543\n",
      "Training loss did not improve more than tol=0.010000 for 10 consecutive epochs. Stopping.\n",
      "Iteration 1, loss = 0.64231342\n",
      "Iteration 2, loss = 0.56636807\n",
      "Iteration 3, loss = 0.52979846\n",
      "Iteration 4, loss = 0.51247431\n",
      "Iteration 5, loss = 0.50286946\n",
      "Iteration 6, loss = 0.50012459\n",
      "Iteration 7, loss = 0.49729205\n",
      "Iteration 8, loss = 0.49429038\n",
      "Iteration 9, loss = 0.49202204\n",
      "Iteration 10, loss = 0.49085767\n",
      "Iteration 11, loss = 0.48976689\n",
      "Iteration 12, loss = 0.48861588\n",
      "Iteration 13, loss = 0.48820636\n",
      "Iteration 14, loss = 0.48840837\n",
      "Iteration 15, loss = 0.48755687\n",
      "Training loss did not improve more than tol=0.010000 for 10 consecutive epochs. Stopping.\n",
      "Iteration 1, loss = 0.71892812\n",
      "Iteration 2, loss = 0.69798256\n",
      "Iteration 3, loss = 0.67219204\n",
      "Iteration 4, loss = 0.65004670\n",
      "Iteration 5, loss = 0.63163429\n",
      "Iteration 6, loss = 0.61520996\n",
      "Iteration 7, loss = 0.60031956\n",
      "Iteration 8, loss = 0.58662352\n",
      "Iteration 9, loss = 0.57621330\n",
      "Iteration 10, loss = 0.56710914\n",
      "Iteration 11, loss = 0.56015463\n",
      "Iteration 12, loss = 0.55373496\n",
      "Iteration 13, loss = 0.54961406\n",
      "Iteration 14, loss = 0.54565294\n",
      "Iteration 15, loss = 0.54118859\n",
      "Iteration 16, loss = 0.53691300\n"
     ]
    },
    {
     "name": "stdout",
     "output_type": "stream",
     "text": [
      "Iteration 17, loss = 0.53343774\n",
      "Iteration 18, loss = 0.53018113\n",
      "Iteration 19, loss = 0.52698070\n",
      "Iteration 20, loss = 0.52394758\n",
      "Training loss did not improve more than tol=0.010000 for 10 consecutive epochs. Stopping.\n",
      "Iteration 1, loss = 0.76870500\n",
      "Iteration 2, loss = 0.73971845\n",
      "Iteration 3, loss = 0.70564976\n",
      "Iteration 4, loss = 0.67341408\n",
      "Iteration 5, loss = 0.65139168\n",
      "Iteration 6, loss = 0.63300534\n",
      "Iteration 7, loss = 0.61503539\n",
      "Iteration 8, loss = 0.60119460\n",
      "Iteration 9, loss = 0.58826843\n",
      "Iteration 10, loss = 0.57720957\n",
      "Iteration 11, loss = 0.56779266\n",
      "Iteration 12, loss = 0.55938940\n",
      "Iteration 13, loss = 0.55232365\n",
      "Iteration 14, loss = 0.54581230\n",
      "Iteration 15, loss = 0.54198646\n",
      "Iteration 16, loss = 0.53860251\n",
      "Iteration 17, loss = 0.53474952\n",
      "Iteration 18, loss = 0.53250651\n",
      "Iteration 19, loss = 0.52975524\n",
      "Iteration 20, loss = 0.52609734\n",
      "Iteration 21, loss = 0.52248107\n",
      "Training loss did not improve more than tol=0.010000 for 10 consecutive epochs. Stopping.\n",
      "Iteration 1, loss = 0.68475899\n",
      "Iteration 2, loss = 0.66930607\n",
      "Iteration 3, loss = 0.65021206\n",
      "Iteration 4, loss = 0.63287795\n",
      "Iteration 5, loss = 0.61822779\n",
      "Iteration 6, loss = 0.60511466\n",
      "Iteration 7, loss = 0.59354600\n",
      "Iteration 8, loss = 0.58370352\n",
      "Iteration 9, loss = 0.57465912\n",
      "Iteration 10, loss = 0.56647634\n",
      "Iteration 11, loss = 0.55914037\n",
      "Iteration 12, loss = 0.55321550\n",
      "Iteration 13, loss = 0.54769626\n",
      "Iteration 14, loss = 0.54302173\n",
      "Iteration 15, loss = 0.53889201\n",
      "Iteration 16, loss = 0.53547686\n",
      "Iteration 17, loss = 0.53289731\n",
      "Iteration 18, loss = 0.53077264\n",
      "Training loss did not improve more than tol=0.010000 for 10 consecutive epochs. Stopping.\n",
      "Iteration 1, loss = 0.73547683\n",
      "Iteration 2, loss = 0.71171180\n",
      "Iteration 3, loss = 0.68513285\n",
      "Iteration 4, loss = 0.65763051\n",
      "Iteration 5, loss = 0.63199274\n",
      "Iteration 6, loss = 0.61056957\n",
      "Iteration 7, loss = 0.59446898\n",
      "Iteration 8, loss = 0.58211169\n",
      "Iteration 9, loss = 0.57086455\n",
      "Iteration 10, loss = 0.56206505\n",
      "Iteration 11, loss = 0.55403623\n",
      "Iteration 12, loss = 0.54691322\n",
      "Iteration 13, loss = 0.54250258\n",
      "Iteration 14, loss = 0.53823579\n",
      "Iteration 15, loss = 0.53452393\n",
      "Iteration 16, loss = 0.53064928\n",
      "Iteration 17, loss = 0.52791551\n",
      "Iteration 18, loss = 0.52618515\n",
      "Iteration 19, loss = 0.52337255\n",
      "Iteration 20, loss = 0.52025542\n",
      "Training loss did not improve more than tol=0.010000 for 10 consecutive epochs. Stopping.\n",
      "Iteration 1, loss = 0.70381791\n",
      "Iteration 2, loss = 0.68026211\n",
      "Iteration 3, loss = 0.65375353\n",
      "Iteration 4, loss = 0.62876692\n",
      "Iteration 5, loss = 0.60926922\n",
      "Iteration 6, loss = 0.59462787\n",
      "Iteration 7, loss = 0.58251101\n",
      "Iteration 8, loss = 0.57126911\n",
      "Iteration 9, loss = 0.56035331\n",
      "Iteration 10, loss = 0.55186615\n",
      "Iteration 11, loss = 0.54487202\n",
      "Iteration 12, loss = 0.53838608\n",
      "Iteration 13, loss = 0.53385833\n",
      "Iteration 14, loss = 0.52926115\n",
      "Iteration 15, loss = 0.52455400\n",
      "Iteration 16, loss = 0.52095955\n",
      "Iteration 17, loss = 0.51773587\n",
      "Iteration 18, loss = 0.51486481\n",
      "Iteration 19, loss = 0.51216724\n",
      "Iteration 20, loss = 0.51008231\n",
      "Training loss did not improve more than tol=0.010000 for 10 consecutive epochs. Stopping.\n",
      "Iteration 1, loss = 0.79086555\n",
      "Iteration 2, loss = 0.76191796\n",
      "Iteration 3, loss = 0.72802101\n",
      "Iteration 4, loss = 0.69666122\n",
      "Iteration 5, loss = 0.66917114\n",
      "Iteration 6, loss = 0.64754064\n",
      "Iteration 7, loss = 0.62763353\n",
      "Iteration 8, loss = 0.61092877\n",
      "Iteration 9, loss = 0.59742318\n",
      "Iteration 10, loss = 0.58523302\n",
      "Iteration 11, loss = 0.57402778\n",
      "Iteration 12, loss = 0.56520972\n",
      "Iteration 13, loss = 0.55801680\n",
      "Iteration 14, loss = 0.55201208\n",
      "Iteration 15, loss = 0.54641067\n",
      "Iteration 16, loss = 0.54135439\n",
      "Iteration 17, loss = 0.53674255\n",
      "Iteration 18, loss = 0.53256507\n",
      "Iteration 19, loss = 0.52845363\n",
      "Iteration 20, loss = 0.52467112\n",
      "Iteration 21, loss = 0.52166545\n",
      "Iteration 22, loss = 0.51940908\n",
      "Training loss did not improve more than tol=0.010000 for 10 consecutive epochs. Stopping.\n",
      "Iteration 1, loss = 0.77653357\n",
      "Iteration 2, loss = 0.74588902\n",
      "Iteration 3, loss = 0.71058960\n",
      "Iteration 4, loss = 0.68063406\n",
      "Iteration 5, loss = 0.65497620\n",
      "Iteration 6, loss = 0.63584593\n",
      "Iteration 7, loss = 0.62022925\n",
      "Iteration 8, loss = 0.60465620\n",
      "Iteration 9, loss = 0.59157048\n",
      "Iteration 10, loss = 0.58040497\n",
      "Iteration 11, loss = 0.57168951\n",
      "Iteration 12, loss = 0.56348570\n",
      "Iteration 13, loss = 0.55702428\n",
      "Iteration 14, loss = 0.55048502\n",
      "Iteration 15, loss = 0.54427224\n",
      "Iteration 16, loss = 0.53879151\n",
      "Iteration 17, loss = 0.53423055\n",
      "Iteration 18, loss = 0.53109363\n",
      "Iteration 19, loss = 0.52803666\n",
      "Iteration 20, loss = 0.52497102\n",
      "Iteration 21, loss = 0.52212414\n",
      "Training loss did not improve more than tol=0.010000 for 10 consecutive epochs. Stopping.\n",
      "Iteration 1, loss = 0.74399886\n",
      "Iteration 2, loss = 0.72367626\n",
      "Iteration 3, loss = 0.69866545\n",
      "Iteration 4, loss = 0.67449234\n",
      "Iteration 5, loss = 0.65625312\n",
      "Iteration 6, loss = 0.63900126\n",
      "Iteration 7, loss = 0.62307806\n",
      "Iteration 8, loss = 0.60925169\n",
      "Iteration 9, loss = 0.59826039\n",
      "Iteration 10, loss = 0.58809046\n",
      "Iteration 11, loss = 0.57928314\n",
      "Iteration 12, loss = 0.57128851\n",
      "Iteration 13, loss = 0.56374282\n",
      "Iteration 14, loss = 0.55762586\n",
      "Iteration 15, loss = 0.55316352\n",
      "Iteration 16, loss = 0.54880224\n",
      "Iteration 17, loss = 0.54578599\n",
      "Iteration 18, loss = 0.54326491\n",
      "Iteration 19, loss = 0.54018846\n",
      "Iteration 20, loss = 0.53736410\n",
      "Iteration 21, loss = 0.53493723\n",
      "Training loss did not improve more than tol=0.010000 for 10 consecutive epochs. Stopping.\n",
      "Iteration 1, loss = 0.73152434\n",
      "Iteration 2, loss = 0.71278003\n",
      "Iteration 3, loss = 0.69139798\n",
      "Iteration 4, loss = 0.67226855\n",
      "Iteration 5, loss = 0.65321561\n",
      "Iteration 6, loss = 0.63485744\n",
      "Iteration 7, loss = 0.62053477\n",
      "Iteration 8, loss = 0.60865474\n",
      "Iteration 9, loss = 0.59750529\n",
      "Iteration 10, loss = 0.58740694\n",
      "Iteration 11, loss = 0.57835964\n",
      "Iteration 12, loss = 0.56991330\n",
      "Iteration 13, loss = 0.56258688\n",
      "Iteration 14, loss = 0.55698500\n",
      "Iteration 15, loss = 0.55157030\n",
      "Iteration 16, loss = 0.54633969\n",
      "Iteration 17, loss = 0.54195840\n",
      "Iteration 18, loss = 0.53811692\n",
      "Iteration 19, loss = 0.53445928\n",
      "Iteration 20, loss = 0.53128718\n",
      "Iteration 21, loss = 0.52913902\n",
      "Training loss did not improve more than tol=0.010000 for 10 consecutive epochs. Stopping.\n",
      "Iteration 1, loss = 0.74640650\n",
      "Iteration 2, loss = 0.72491613\n",
      "Iteration 3, loss = 0.69690044\n",
      "Iteration 4, loss = 0.67183872\n",
      "Iteration 5, loss = 0.64889252\n",
      "Iteration 6, loss = 0.62942405\n",
      "Iteration 7, loss = 0.61462115\n",
      "Iteration 8, loss = 0.60128464\n",
      "Iteration 9, loss = 0.58972043\n",
      "Iteration 10, loss = 0.58202162\n",
      "Iteration 11, loss = 0.57432540\n",
      "Iteration 12, loss = 0.56606364\n",
      "Iteration 13, loss = 0.55874864\n",
      "Iteration 14, loss = 0.55195069\n",
      "Iteration 15, loss = 0.54551287\n",
      "Iteration 16, loss = 0.53995665\n",
      "Iteration 17, loss = 0.53497873\n",
      "Iteration 18, loss = 0.53054410\n",
      "Iteration 19, loss = 0.52675941\n",
      "Iteration 20, loss = 0.52337965\n",
      "Training loss did not improve more than tol=0.010000 for 10 consecutive epochs. Stopping.\n",
      "Iteration 1, loss = 0.66655105\n",
      "Iteration 2, loss = 0.57856727\n",
      "Iteration 3, loss = 0.53543108\n",
      "Iteration 4, loss = 0.51636422\n",
      "Iteration 5, loss = 0.50611886\n",
      "Iteration 6, loss = 0.49956084\n",
      "Iteration 7, loss = 0.49587708\n",
      "Iteration 8, loss = 0.49503080\n",
      "Iteration 9, loss = 0.49552231\n",
      "Iteration 10, loss = 0.49416399\n",
      "Iteration 11, loss = 0.49320842\n",
      "Iteration 12, loss = 0.49191427\n",
      "Iteration 13, loss = 0.49222652\n",
      "Iteration 14, loss = 0.49374129\n",
      "Iteration 15, loss = 0.49679931\n",
      "Iteration 16, loss = 0.49629971\n",
      "Training loss did not improve more than tol=0.010000 for 10 consecutive epochs. Stopping.\n",
      "Iteration 1, loss = 0.68218454\n",
      "Iteration 2, loss = 0.58850233\n",
      "Iteration 3, loss = 0.54142166\n",
      "Iteration 4, loss = 0.51696178\n",
      "Iteration 5, loss = 0.50546813\n",
      "Iteration 6, loss = 0.50135200\n",
      "Iteration 7, loss = 0.49822006\n",
      "Iteration 8, loss = 0.49526320\n",
      "Iteration 9, loss = 0.49290249\n",
      "Iteration 10, loss = 0.49292887\n",
      "Iteration 11, loss = 0.49375907\n",
      "Iteration 12, loss = 0.49247091\n",
      "Iteration 13, loss = 0.49327270\n",
      "Iteration 14, loss = 0.49358603\n",
      "Iteration 15, loss = 0.49233942\n",
      "Iteration 16, loss = 0.49049402\n",
      "Training loss did not improve more than tol=0.010000 for 10 consecutive epochs. Stopping.\n",
      "Iteration 1, loss = 0.64928730\n",
      "Iteration 2, loss = 0.56639572\n",
      "Iteration 3, loss = 0.53253053\n",
      "Iteration 4, loss = 0.51540380\n",
      "Iteration 5, loss = 0.50497147\n",
      "Iteration 6, loss = 0.50132629\n"
     ]
    },
    {
     "name": "stdout",
     "output_type": "stream",
     "text": [
      "Iteration 7, loss = 0.49803633\n",
      "Iteration 8, loss = 0.49423924\n",
      "Iteration 9, loss = 0.49428669\n",
      "Iteration 10, loss = 0.49305326\n",
      "Iteration 11, loss = 0.49183623\n",
      "Iteration 12, loss = 0.48930216\n",
      "Iteration 13, loss = 0.48826328\n",
      "Iteration 14, loss = 0.48795697\n",
      "Iteration 15, loss = 0.48859939\n",
      "Iteration 16, loss = 0.48832506\n",
      "Training loss did not improve more than tol=0.010000 for 10 consecutive epochs. Stopping.\n",
      "Iteration 1, loss = 0.61924511\n",
      "Iteration 2, loss = 0.55216741\n",
      "Iteration 3, loss = 0.52114239\n",
      "Iteration 4, loss = 0.50576316\n",
      "Iteration 5, loss = 0.49971097\n",
      "Iteration 6, loss = 0.49605729\n",
      "Iteration 7, loss = 0.49260974\n",
      "Iteration 8, loss = 0.49097114\n",
      "Iteration 9, loss = 0.48995053\n",
      "Iteration 10, loss = 0.48675111\n",
      "Iteration 11, loss = 0.48727061\n",
      "Iteration 12, loss = 0.48734798\n",
      "Iteration 13, loss = 0.48799990\n",
      "Iteration 14, loss = 0.48704008\n",
      "Iteration 15, loss = 0.48496213\n",
      "Training loss did not improve more than tol=0.010000 for 10 consecutive epochs. Stopping.\n",
      "Iteration 1, loss = 0.62092461\n",
      "Iteration 2, loss = 0.54640661\n",
      "Iteration 3, loss = 0.51139453\n",
      "Iteration 4, loss = 0.49741650\n",
      "Iteration 5, loss = 0.49251096\n",
      "Iteration 6, loss = 0.48959710\n",
      "Iteration 7, loss = 0.48751181\n",
      "Iteration 8, loss = 0.48570048\n",
      "Iteration 9, loss = 0.48468617\n",
      "Iteration 10, loss = 0.48452785\n",
      "Iteration 11, loss = 0.48364367\n",
      "Iteration 12, loss = 0.48229982\n",
      "Iteration 13, loss = 0.48158630\n",
      "Iteration 14, loss = 0.48124976\n",
      "Iteration 15, loss = 0.47970196\n",
      "Training loss did not improve more than tol=0.010000 for 10 consecutive epochs. Stopping.\n",
      "Iteration 1, loss = 0.65207185\n",
      "Iteration 2, loss = 0.56789408\n",
      "Iteration 3, loss = 0.52706202\n",
      "Iteration 4, loss = 0.51169671\n",
      "Iteration 5, loss = 0.50461797\n",
      "Iteration 6, loss = 0.49875518\n",
      "Iteration 7, loss = 0.49476605\n",
      "Iteration 8, loss = 0.49251151\n",
      "Iteration 9, loss = 0.49140168\n",
      "Iteration 10, loss = 0.49012964\n",
      "Iteration 11, loss = 0.49077528\n",
      "Iteration 12, loss = 0.49126181\n",
      "Iteration 13, loss = 0.49012750\n",
      "Iteration 14, loss = 0.48892035\n",
      "Iteration 15, loss = 0.48817727\n",
      "Training loss did not improve more than tol=0.010000 for 10 consecutive epochs. Stopping.\n",
      "Iteration 1, loss = 0.61655160\n",
      "Iteration 2, loss = 0.55601434\n",
      "Iteration 3, loss = 0.52955204\n",
      "Iteration 4, loss = 0.51558245\n",
      "Iteration 5, loss = 0.50853295\n",
      "Iteration 6, loss = 0.50380759\n",
      "Iteration 7, loss = 0.50177836\n",
      "Iteration 8, loss = 0.49969299\n",
      "Iteration 9, loss = 0.49879615\n",
      "Iteration 10, loss = 0.49852837\n",
      "Iteration 11, loss = 0.49770296\n",
      "Iteration 12, loss = 0.49674045\n",
      "Iteration 13, loss = 0.49731134\n",
      "Iteration 14, loss = 0.49852038\n",
      "Iteration 15, loss = 0.49710281\n",
      "Training loss did not improve more than tol=0.010000 for 10 consecutive epochs. Stopping.\n",
      "Iteration 1, loss = 0.68767498\n",
      "Iteration 2, loss = 0.59299124\n",
      "Iteration 3, loss = 0.54837191\n",
      "Iteration 4, loss = 0.52538540\n",
      "Iteration 5, loss = 0.51134100\n",
      "Iteration 6, loss = 0.50540260\n",
      "Iteration 7, loss = 0.50227389\n",
      "Iteration 8, loss = 0.49962845\n",
      "Iteration 9, loss = 0.49662827\n",
      "Iteration 10, loss = 0.49542006\n",
      "Iteration 11, loss = 0.49395420\n",
      "Iteration 12, loss = 0.49305513\n",
      "Iteration 13, loss = 0.49265882\n",
      "Iteration 14, loss = 0.49237434\n",
      "Iteration 15, loss = 0.49152135\n",
      "Iteration 16, loss = 0.49215023\n",
      "Training loss did not improve more than tol=0.010000 for 10 consecutive epochs. Stopping.\n",
      "Iteration 1, loss = 0.72180079\n",
      "Iteration 2, loss = 0.61671276\n",
      "Iteration 3, loss = 0.55751763\n",
      "Iteration 4, loss = 0.52339367\n",
      "Iteration 5, loss = 0.50639847\n",
      "Iteration 6, loss = 0.49936060\n",
      "Iteration 7, loss = 0.49696699\n",
      "Iteration 8, loss = 0.49603923\n",
      "Iteration 9, loss = 0.49444732\n",
      "Iteration 10, loss = 0.49242340\n",
      "Iteration 11, loss = 0.49081544\n",
      "Iteration 12, loss = 0.48998934\n",
      "Iteration 13, loss = 0.48955432\n",
      "Iteration 14, loss = 0.48927613\n",
      "Iteration 15, loss = 0.48899450\n",
      "Iteration 16, loss = 0.48876125\n",
      "Training loss did not improve more than tol=0.010000 for 10 consecutive epochs. Stopping.\n",
      "Iteration 1, loss = 0.72166294\n",
      "Iteration 2, loss = 0.60814336\n",
      "Iteration 3, loss = 0.54826079\n",
      "Iteration 4, loss = 0.51884939\n",
      "Iteration 5, loss = 0.50558196\n",
      "Iteration 6, loss = 0.49976837\n",
      "Iteration 7, loss = 0.49713876\n",
      "Iteration 8, loss = 0.49479531\n",
      "Iteration 9, loss = 0.49257430\n",
      "Iteration 10, loss = 0.49079773\n",
      "Iteration 11, loss = 0.48924531\n",
      "Iteration 12, loss = 0.48916052\n",
      "Iteration 13, loss = 0.48765603\n",
      "Iteration 14, loss = 0.48789673\n",
      "Iteration 15, loss = 0.48937623\n",
      "Iteration 16, loss = 0.48878589\n",
      "Training loss did not improve more than tol=0.010000 for 10 consecutive epochs. Stopping.\n",
      "Iteration 1, loss = 0.70438639\n",
      "Iteration 2, loss = 0.68613076\n",
      "Iteration 3, loss = 0.66543123\n",
      "Iteration 4, loss = 0.64326921\n",
      "Iteration 5, loss = 0.62116228\n",
      "Iteration 6, loss = 0.60277138\n",
      "Iteration 7, loss = 0.58719462\n",
      "Iteration 8, loss = 0.57392147\n",
      "Iteration 9, loss = 0.56284160\n",
      "Iteration 10, loss = 0.55402455\n",
      "Iteration 11, loss = 0.54746656\n",
      "Iteration 12, loss = 0.54231344\n",
      "Iteration 13, loss = 0.53716235\n",
      "Iteration 14, loss = 0.53224373\n",
      "Iteration 15, loss = 0.52809380\n",
      "Iteration 16, loss = 0.52402878\n",
      "Iteration 17, loss = 0.52070951\n",
      "Iteration 18, loss = 0.51781603\n",
      "Iteration 19, loss = 0.51562373\n",
      "Iteration 20, loss = 0.51327269\n",
      "Training loss did not improve more than tol=0.010000 for 10 consecutive epochs. Stopping.\n",
      "Iteration 1, loss = 0.64654902\n",
      "Iteration 2, loss = 0.63519427\n",
      "Iteration 3, loss = 0.61926751\n",
      "Iteration 4, loss = 0.60400084\n",
      "Iteration 5, loss = 0.58995446\n",
      "Iteration 6, loss = 0.57779534\n",
      "Iteration 7, loss = 0.56724379\n",
      "Iteration 8, loss = 0.55866730\n",
      "Iteration 9, loss = 0.55167243\n",
      "Iteration 10, loss = 0.54503330\n",
      "Iteration 11, loss = 0.53920210\n",
      "Iteration 12, loss = 0.53423292\n",
      "Iteration 13, loss = 0.53088726\n",
      "Iteration 14, loss = 0.52766159\n",
      "Iteration 15, loss = 0.52511400\n",
      "Iteration 16, loss = 0.52277943\n",
      "Iteration 17, loss = 0.52053263\n",
      "Iteration 18, loss = 0.51842658\n",
      "Training loss did not improve more than tol=0.010000 for 10 consecutive epochs. Stopping.\n",
      "Iteration 1, loss = 0.67110629\n",
      "Iteration 2, loss = 0.65583701\n",
      "Iteration 3, loss = 0.63714241\n",
      "Iteration 4, loss = 0.61821504\n",
      "Iteration 5, loss = 0.60240352\n",
      "Iteration 6, loss = 0.58892178\n",
      "Iteration 7, loss = 0.57686686\n",
      "Iteration 8, loss = 0.56736768\n",
      "Iteration 9, loss = 0.55843940\n",
      "Iteration 10, loss = 0.55030382\n",
      "Iteration 11, loss = 0.54409274\n",
      "Iteration 12, loss = 0.53876323\n",
      "Iteration 13, loss = 0.53388381\n",
      "Iteration 14, loss = 0.52929793\n",
      "Iteration 15, loss = 0.52589639\n",
      "Iteration 16, loss = 0.52264211\n",
      "Iteration 17, loss = 0.52105019\n",
      "Iteration 18, loss = 0.51929100\n",
      "Training loss did not improve more than tol=0.010000 for 10 consecutive epochs. Stopping.\n",
      "Iteration 1, loss = 0.72691147\n",
      "Iteration 2, loss = 0.70754145\n",
      "Iteration 3, loss = 0.68169897\n",
      "Iteration 4, loss = 0.65627772\n",
      "Iteration 5, loss = 0.63442248\n",
      "Iteration 6, loss = 0.61509087\n",
      "Iteration 7, loss = 0.60114040\n",
      "Iteration 8, loss = 0.59007243\n",
      "Iteration 9, loss = 0.57860369\n",
      "Iteration 10, loss = 0.56825267\n",
      "Iteration 11, loss = 0.56053412\n",
      "Iteration 12, loss = 0.55362760\n",
      "Iteration 13, loss = 0.54745424\n",
      "Iteration 14, loss = 0.54201506\n",
      "Iteration 15, loss = 0.53694876\n",
      "Iteration 16, loss = 0.53267228\n",
      "Iteration 17, loss = 0.52884689\n",
      "Iteration 18, loss = 0.52626053\n",
      "Iteration 19, loss = 0.52368858\n",
      "Iteration 20, loss = 0.52092994\n",
      "Iteration 21, loss = 0.51850834\n",
      "Training loss did not improve more than tol=0.010000 for 10 consecutive epochs. Stopping.\n",
      "Iteration 1, loss = 0.76027558\n",
      "Iteration 2, loss = 0.73625155\n",
      "Iteration 3, loss = 0.70536516\n",
      "Iteration 4, loss = 0.67670211\n",
      "Iteration 5, loss = 0.65461127\n",
      "Iteration 6, loss = 0.63589955\n",
      "Iteration 7, loss = 0.61796341\n",
      "Iteration 8, loss = 0.60074693\n",
      "Iteration 9, loss = 0.58470877\n",
      "Iteration 10, loss = 0.57153203\n",
      "Iteration 11, loss = 0.56085879\n",
      "Iteration 12, loss = 0.55268798\n",
      "Iteration 13, loss = 0.54557382\n",
      "Iteration 14, loss = 0.53917564\n",
      "Iteration 15, loss = 0.53373960\n",
      "Iteration 16, loss = 0.52985685\n",
      "Iteration 17, loss = 0.52575484\n",
      "Iteration 18, loss = 0.52154234\n",
      "Iteration 19, loss = 0.51770630\n",
      "Iteration 20, loss = 0.51438363\n",
      "Iteration 21, loss = 0.51166440\n",
      "Iteration 22, loss = 0.50965480\n",
      "Training loss did not improve more than tol=0.010000 for 10 consecutive epochs. Stopping.\n",
      "Iteration 1, loss = 0.68002282\n",
      "Iteration 2, loss = 0.66161904\n",
      "Iteration 3, loss = 0.64279382\n",
      "Iteration 4, loss = 0.62293596\n",
      "Iteration 5, loss = 0.60562768\n",
      "Iteration 6, loss = 0.59031637\n",
      "Iteration 7, loss = 0.57601228\n",
      "Iteration 8, loss = 0.56453087\n"
     ]
    },
    {
     "name": "stdout",
     "output_type": "stream",
     "text": [
      "Iteration 9, loss = 0.55550119\n",
      "Iteration 10, loss = 0.54776078\n",
      "Iteration 11, loss = 0.54067865\n",
      "Iteration 12, loss = 0.53443011\n",
      "Iteration 13, loss = 0.52979600\n",
      "Iteration 14, loss = 0.52676361\n",
      "Iteration 15, loss = 0.52374541\n",
      "Iteration 16, loss = 0.52044031\n",
      "Iteration 17, loss = 0.51739186\n",
      "Iteration 18, loss = 0.51458975\n",
      "Iteration 19, loss = 0.51209901\n",
      "Training loss did not improve more than tol=0.010000 for 10 consecutive epochs. Stopping.\n",
      "Iteration 1, loss = 0.66770508\n",
      "Iteration 2, loss = 0.65603891\n",
      "Iteration 3, loss = 0.64230313\n",
      "Iteration 4, loss = 0.62718983\n",
      "Iteration 5, loss = 0.61291989\n",
      "Iteration 6, loss = 0.59986593\n",
      "Iteration 7, loss = 0.58853189\n",
      "Iteration 8, loss = 0.57864109\n",
      "Iteration 9, loss = 0.57003192\n",
      "Iteration 10, loss = 0.56255041\n",
      "Iteration 11, loss = 0.55549734\n",
      "Iteration 12, loss = 0.54963793\n",
      "Iteration 13, loss = 0.54526310\n",
      "Iteration 14, loss = 0.54126553\n",
      "Iteration 15, loss = 0.53859704\n",
      "Iteration 16, loss = 0.53580191\n",
      "Iteration 17, loss = 0.53403893\n",
      "Iteration 18, loss = 0.53198252\n",
      "Training loss did not improve more than tol=0.010000 for 10 consecutive epochs. Stopping.\n",
      "Iteration 1, loss = 0.73528430\n",
      "Iteration 2, loss = 0.70814377\n",
      "Iteration 3, loss = 0.67749998\n",
      "Iteration 4, loss = 0.64953704\n",
      "Iteration 5, loss = 0.62748014\n",
      "Iteration 6, loss = 0.60870969\n",
      "Iteration 7, loss = 0.59215412\n",
      "Iteration 8, loss = 0.57999939\n",
      "Iteration 9, loss = 0.57042914\n",
      "Iteration 10, loss = 0.56166899\n",
      "Iteration 11, loss = 0.55399395\n",
      "Iteration 12, loss = 0.54790041\n",
      "Iteration 13, loss = 0.54313822\n",
      "Iteration 14, loss = 0.53886540\n",
      "Iteration 15, loss = 0.53501834\n",
      "Iteration 16, loss = 0.53113446\n",
      "Iteration 17, loss = 0.52729617\n",
      "Iteration 18, loss = 0.52356745\n",
      "Iteration 19, loss = 0.52045207\n",
      "Training loss did not improve more than tol=0.010000 for 10 consecutive epochs. Stopping.\n",
      "Iteration 1, loss = 0.79023019\n",
      "Iteration 2, loss = 0.76494327\n",
      "Iteration 3, loss = 0.73601614\n",
      "Iteration 4, loss = 0.70912449\n",
      "Iteration 5, loss = 0.68254794\n",
      "Iteration 6, loss = 0.65978541\n",
      "Iteration 7, loss = 0.63914538\n",
      "Iteration 8, loss = 0.62158524\n",
      "Iteration 9, loss = 0.60661446\n",
      "Iteration 10, loss = 0.59357504\n",
      "Iteration 11, loss = 0.58284136\n",
      "Iteration 12, loss = 0.57459607\n",
      "Iteration 13, loss = 0.56707901\n",
      "Iteration 14, loss = 0.55995125\n",
      "Iteration 15, loss = 0.55379878\n",
      "Iteration 16, loss = 0.54803421\n",
      "Iteration 17, loss = 0.54293033\n",
      "Iteration 18, loss = 0.53845806\n",
      "Iteration 19, loss = 0.53442910\n",
      "Iteration 20, loss = 0.53073396\n",
      "Iteration 21, loss = 0.52827322\n",
      "Iteration 22, loss = 0.52573825\n",
      "Training loss did not improve more than tol=0.010000 for 10 consecutive epochs. Stopping.\n",
      "Iteration 1, loss = 0.71828766\n",
      "Iteration 2, loss = 0.69633602\n",
      "Iteration 3, loss = 0.67110447\n",
      "Iteration 4, loss = 0.64950374\n",
      "Iteration 5, loss = 0.63085944\n",
      "Iteration 6, loss = 0.61294428\n",
      "Iteration 7, loss = 0.59657729\n",
      "Iteration 8, loss = 0.58303057\n",
      "Iteration 9, loss = 0.57112127\n",
      "Iteration 10, loss = 0.56135113\n",
      "Iteration 11, loss = 0.55354659\n",
      "Iteration 12, loss = 0.54699786\n",
      "Iteration 13, loss = 0.54149099\n",
      "Iteration 14, loss = 0.53682253\n",
      "Iteration 15, loss = 0.53226004\n",
      "Iteration 16, loss = 0.52919308\n",
      "Iteration 17, loss = 0.52624532\n",
      "Iteration 18, loss = 0.52321988\n",
      "Iteration 19, loss = 0.51982512\n",
      "Iteration 20, loss = 0.51701700\n",
      "Training loss did not improve more than tol=0.010000 for 10 consecutive epochs. Stopping.\n",
      "Iteration 1, loss = 0.74104882\n",
      "Iteration 2, loss = 0.61390269\n",
      "Iteration 3, loss = 0.55083130\n",
      "Iteration 4, loss = 0.52096480\n",
      "Iteration 5, loss = 0.51066977\n",
      "Iteration 6, loss = 0.50754283\n",
      "Iteration 7, loss = 0.50187938\n",
      "Iteration 8, loss = 0.49998249\n",
      "Iteration 9, loss = 0.49830941\n",
      "Iteration 10, loss = 0.49530621\n",
      "Iteration 11, loss = 0.49420250\n",
      "Iteration 12, loss = 0.49246737\n",
      "Iteration 13, loss = 0.48994877\n",
      "Iteration 14, loss = 0.48883120\n",
      "Iteration 15, loss = 0.48783810\n",
      "Iteration 16, loss = 0.48768406\n",
      "Training loss did not improve more than tol=0.010000 for 10 consecutive epochs. Stopping.\n",
      "Iteration 1, loss = 0.65186092\n",
      "Iteration 2, loss = 0.55096156\n",
      "Iteration 3, loss = 0.51213441\n",
      "Iteration 4, loss = 0.49770272\n",
      "Iteration 5, loss = 0.49589271\n",
      "Iteration 6, loss = 0.49386331\n",
      "Iteration 7, loss = 0.49180210\n",
      "Iteration 8, loss = 0.48933333\n",
      "Iteration 9, loss = 0.48968546\n",
      "Iteration 10, loss = 0.48799041\n",
      "Iteration 11, loss = 0.49135291\n",
      "Iteration 12, loss = 0.50673938\n",
      "Iteration 13, loss = 0.51280266\n",
      "Iteration 14, loss = 0.50013734\n",
      "Iteration 15, loss = 0.48970440\n",
      "Training loss did not improve more than tol=0.010000 for 10 consecutive epochs. Stopping.\n",
      "Iteration 1, loss = 0.63435771\n",
      "Iteration 2, loss = 0.54699600\n",
      "Iteration 3, loss = 0.51044615\n",
      "Iteration 4, loss = 0.49889695\n",
      "Iteration 5, loss = 0.49297242\n",
      "Iteration 6, loss = 0.49088971\n",
      "Iteration 7, loss = 0.48928589\n",
      "Iteration 8, loss = 0.48876355\n",
      "Iteration 9, loss = 0.48923519\n",
      "Iteration 10, loss = 0.49093377\n",
      "Iteration 11, loss = 0.48894944\n",
      "Iteration 12, loss = 0.48740291\n",
      "Iteration 13, loss = 0.48537875\n",
      "Iteration 14, loss = 0.48459979\n",
      "Iteration 15, loss = 0.48403079\n",
      "Training loss did not improve more than tol=0.010000 for 10 consecutive epochs. Stopping.\n",
      "Iteration 1, loss = 0.63368566\n",
      "Iteration 2, loss = 0.54543789\n",
      "Iteration 3, loss = 0.51230058\n",
      "Iteration 4, loss = 0.50216848\n",
      "Iteration 5, loss = 0.49463392\n",
      "Iteration 6, loss = 0.49135912\n",
      "Iteration 7, loss = 0.49022335\n",
      "Iteration 8, loss = 0.49046578\n",
      "Iteration 9, loss = 0.49040254\n",
      "Iteration 10, loss = 0.48869992\n",
      "Iteration 11, loss = 0.48795164\n",
      "Iteration 12, loss = 0.48769658\n",
      "Iteration 13, loss = 0.48605498\n",
      "Iteration 14, loss = 0.48507529\n",
      "Iteration 15, loss = 0.48427166\n",
      "Training loss did not improve more than tol=0.010000 for 10 consecutive epochs. Stopping.\n",
      "Iteration 1, loss = 0.59794233\n",
      "Iteration 2, loss = 0.52622052\n",
      "Iteration 3, loss = 0.50448608\n",
      "Iteration 4, loss = 0.49685230\n",
      "Iteration 5, loss = 0.49038240\n",
      "Iteration 6, loss = 0.48771742\n",
      "Iteration 7, loss = 0.48672258\n",
      "Iteration 8, loss = 0.48532279\n",
      "Iteration 9, loss = 0.48477289\n",
      "Iteration 10, loss = 0.48349819\n",
      "Iteration 11, loss = 0.48274104\n",
      "Iteration 12, loss = 0.48211673\n",
      "Iteration 13, loss = 0.48224443\n",
      "Iteration 14, loss = 0.48123368\n",
      "Training loss did not improve more than tol=0.010000 for 10 consecutive epochs. Stopping.\n",
      "Iteration 1, loss = 0.65318362\n",
      "Iteration 2, loss = 0.55497778\n",
      "Iteration 3, loss = 0.51249289\n",
      "Iteration 4, loss = 0.49875688\n",
      "Iteration 5, loss = 0.49406841\n",
      "Iteration 6, loss = 0.49240494\n",
      "Iteration 7, loss = 0.49047291\n",
      "Iteration 8, loss = 0.48948186\n",
      "Iteration 9, loss = 0.48778216\n",
      "Iteration 10, loss = 0.48815530\n",
      "Iteration 11, loss = 0.48660950\n",
      "Iteration 12, loss = 0.48639144\n",
      "Iteration 13, loss = 0.48697745\n",
      "Iteration 14, loss = 0.48700639\n",
      "Iteration 15, loss = 0.48807078\n",
      "Training loss did not improve more than tol=0.010000 for 10 consecutive epochs. Stopping.\n",
      "Iteration 1, loss = 0.64498374\n",
      "Iteration 2, loss = 0.56005052\n",
      "Iteration 3, loss = 0.52286505\n",
      "Iteration 4, loss = 0.50718737\n",
      "Iteration 5, loss = 0.50010528\n",
      "Iteration 6, loss = 0.49756832\n",
      "Iteration 7, loss = 0.49560633\n",
      "Iteration 8, loss = 0.49596651\n",
      "Iteration 9, loss = 0.49684835\n",
      "Iteration 10, loss = 0.49583151\n",
      "Iteration 11, loss = 0.49587259\n",
      "Iteration 12, loss = 0.49475711\n",
      "Iteration 13, loss = 0.49260198\n",
      "Iteration 14, loss = 0.49433499\n",
      "Iteration 15, loss = 0.49805510\n",
      "Training loss did not improve more than tol=0.010000 for 10 consecutive epochs. Stopping.\n",
      "Iteration 1, loss = 0.62100914\n",
      "Iteration 2, loss = 0.54921003\n",
      "Iteration 3, loss = 0.52040949\n",
      "Iteration 4, loss = 0.50758745\n",
      "Iteration 5, loss = 0.50153487\n",
      "Iteration 6, loss = 0.49857452\n",
      "Iteration 7, loss = 0.49762174\n",
      "Iteration 8, loss = 0.49682792\n",
      "Iteration 9, loss = 0.49752230\n",
      "Iteration 10, loss = 0.49573360\n",
      "Iteration 11, loss = 0.49451468\n",
      "Iteration 12, loss = 0.49358448\n",
      "Iteration 13, loss = 0.49307787\n",
      "Iteration 14, loss = 0.49185490\n",
      "Iteration 15, loss = 0.49087437\n",
      "Training loss did not improve more than tol=0.010000 for 10 consecutive epochs. Stopping.\n",
      "Iteration 1, loss = 0.64332870\n",
      "Iteration 2, loss = 0.54960104\n",
      "Iteration 3, loss = 0.51109949\n",
      "Iteration 4, loss = 0.50033535\n",
      "Iteration 5, loss = 0.49831454\n",
      "Iteration 6, loss = 0.49617685\n",
      "Iteration 7, loss = 0.49506614\n",
      "Iteration 8, loss = 0.49467386\n",
      "Iteration 9, loss = 0.49397560\n",
      "Iteration 10, loss = 0.49180169\n",
      "Iteration 11, loss = 0.49052289\n",
      "Iteration 12, loss = 0.48978140\n",
      "Iteration 13, loss = 0.48977861\n",
      "Iteration 14, loss = 0.48969855\n",
      "Iteration 15, loss = 0.48980312\n",
      "Training loss did not improve more than tol=0.010000 for 10 consecutive epochs. Stopping.\n",
      "Iteration 1, loss = 0.62691939\n",
      "Iteration 2, loss = 0.54600057\n"
     ]
    },
    {
     "name": "stdout",
     "output_type": "stream",
     "text": [
      "Iteration 3, loss = 0.51278677\n",
      "Iteration 4, loss = 0.49965761\n",
      "Iteration 5, loss = 0.49618858\n",
      "Iteration 6, loss = 0.49302864\n",
      "Iteration 7, loss = 0.49117134\n",
      "Iteration 8, loss = 0.48826142\n",
      "Iteration 9, loss = 0.48754043\n",
      "Iteration 10, loss = 0.48647180\n",
      "Iteration 11, loss = 0.48557596\n",
      "Iteration 12, loss = 0.48512038\n",
      "Iteration 13, loss = 0.48381137\n",
      "Iteration 14, loss = 0.48251591\n",
      "Iteration 15, loss = 0.48183819\n",
      "Training loss did not improve more than tol=0.010000 for 10 consecutive epochs. Stopping.\n",
      "Iteration 1, loss = 0.67160965\n",
      "Iteration 2, loss = 0.65432641\n",
      "Iteration 3, loss = 0.63285598\n",
      "Iteration 4, loss = 0.61281498\n",
      "Iteration 5, loss = 0.59757497\n",
      "Iteration 6, loss = 0.58505081\n",
      "Iteration 7, loss = 0.57574683\n",
      "Iteration 8, loss = 0.56798969\n",
      "Iteration 9, loss = 0.56223784\n",
      "Iteration 10, loss = 0.55601695\n",
      "Iteration 11, loss = 0.55161179\n",
      "Iteration 12, loss = 0.54769472\n",
      "Iteration 13, loss = 0.54255665\n",
      "Iteration 14, loss = 0.53800330\n",
      "Iteration 15, loss = 0.53410325\n",
      "Iteration 16, loss = 0.52980089\n",
      "Iteration 17, loss = 0.52621832\n",
      "Training loss did not improve more than tol=0.010000 for 10 consecutive epochs. Stopping.\n",
      "Iteration 1, loss = 0.64781801\n",
      "Iteration 2, loss = 0.63542416\n",
      "Iteration 3, loss = 0.62083358\n",
      "Iteration 4, loss = 0.60561743\n",
      "Iteration 5, loss = 0.59317139\n",
      "Iteration 6, loss = 0.58195777\n",
      "Iteration 7, loss = 0.57034524\n",
      "Iteration 8, loss = 0.56078207\n",
      "Iteration 9, loss = 0.55369087\n",
      "Iteration 10, loss = 0.55016349\n",
      "Iteration 11, loss = 0.54672392\n",
      "Iteration 12, loss = 0.54227642\n",
      "Iteration 13, loss = 0.53762552\n",
      "Iteration 14, loss = 0.53357787\n",
      "Iteration 15, loss = 0.52907193\n",
      "Iteration 16, loss = 0.52575609\n",
      "Iteration 17, loss = 0.52298004\n",
      "Iteration 18, loss = 0.52039073\n",
      "Training loss did not improve more than tol=0.010000 for 10 consecutive epochs. Stopping.\n",
      "Iteration 1, loss = 0.69681724\n",
      "Iteration 2, loss = 0.67640889\n",
      "Iteration 3, loss = 0.65526161\n",
      "Iteration 4, loss = 0.63691366\n",
      "Iteration 5, loss = 0.61886931\n",
      "Iteration 6, loss = 0.60174277\n",
      "Iteration 7, loss = 0.59026434\n",
      "Iteration 8, loss = 0.57982835\n",
      "Iteration 9, loss = 0.57003644\n",
      "Iteration 10, loss = 0.56188865\n",
      "Iteration 11, loss = 0.55430095\n",
      "Iteration 12, loss = 0.54755432\n",
      "Iteration 13, loss = 0.54140881\n",
      "Iteration 14, loss = 0.53574161\n",
      "Iteration 15, loss = 0.53125318\n",
      "Iteration 16, loss = 0.52822374\n",
      "Iteration 17, loss = 0.52576093\n",
      "Iteration 18, loss = 0.52310756\n",
      "Iteration 19, loss = 0.52047429\n",
      "Training loss did not improve more than tol=0.010000 for 10 consecutive epochs. Stopping.\n",
      "Iteration 1, loss = 0.69402201\n",
      "Iteration 2, loss = 0.67693381\n",
      "Iteration 3, loss = 0.65544790\n",
      "Iteration 4, loss = 0.63431153\n",
      "Iteration 5, loss = 0.61566037\n",
      "Iteration 6, loss = 0.60143208\n",
      "Iteration 7, loss = 0.58970260\n",
      "Iteration 8, loss = 0.57773356\n",
      "Iteration 9, loss = 0.56790616\n",
      "Iteration 10, loss = 0.55956745\n",
      "Iteration 11, loss = 0.55306538\n",
      "Iteration 12, loss = 0.54643336\n",
      "Iteration 13, loss = 0.54091679\n",
      "Iteration 14, loss = 0.53601171\n",
      "Iteration 15, loss = 0.53170933\n",
      "Iteration 16, loss = 0.52810105\n",
      "Iteration 17, loss = 0.52470169\n",
      "Iteration 18, loss = 0.52173009\n",
      "Iteration 19, loss = 0.51882692\n",
      "Training loss did not improve more than tol=0.010000 for 10 consecutive epochs. Stopping.\n",
      "Iteration 1, loss = 0.67460888\n",
      "Iteration 2, loss = 0.65744667\n",
      "Iteration 3, loss = 0.63681892\n",
      "Iteration 4, loss = 0.61697068\n",
      "Iteration 5, loss = 0.60044326\n",
      "Iteration 6, loss = 0.58640515\n",
      "Iteration 7, loss = 0.57408541\n",
      "Iteration 8, loss = 0.56395133\n",
      "Iteration 9, loss = 0.55634924\n",
      "Iteration 10, loss = 0.54991877\n",
      "Iteration 11, loss = 0.54387838\n",
      "Iteration 12, loss = 0.53942883\n",
      "Iteration 13, loss = 0.53465685\n",
      "Iteration 14, loss = 0.53037884\n",
      "Iteration 15, loss = 0.52643303\n",
      "Iteration 16, loss = 0.52241684\n",
      "Iteration 17, loss = 0.51864411\n",
      "Iteration 18, loss = 0.51581990\n",
      "Iteration 19, loss = 0.51399789\n",
      "Training loss did not improve more than tol=0.010000 for 10 consecutive epochs. Stopping.\n",
      "Iteration 1, loss = 0.70686674\n",
      "Iteration 2, loss = 0.68779321\n",
      "Iteration 3, loss = 0.66598697\n",
      "Iteration 4, loss = 0.64739011\n",
      "Iteration 5, loss = 0.63227463\n",
      "Iteration 6, loss = 0.61791567\n",
      "Iteration 7, loss = 0.60379781\n",
      "Iteration 8, loss = 0.59032925\n",
      "Iteration 9, loss = 0.57879919\n",
      "Iteration 10, loss = 0.56818357\n",
      "Iteration 11, loss = 0.56038009\n",
      "Iteration 12, loss = 0.55372027\n",
      "Iteration 13, loss = 0.54774990\n",
      "Iteration 14, loss = 0.54261488\n",
      "Iteration 15, loss = 0.53762135\n",
      "Iteration 16, loss = 0.53352586\n",
      "Iteration 17, loss = 0.52958695\n",
      "Iteration 18, loss = 0.52656510\n",
      "Iteration 19, loss = 0.52366779\n",
      "Iteration 20, loss = 0.52116317\n",
      "Iteration 21, loss = 0.51834879\n",
      "Training loss did not improve more than tol=0.010000 for 10 consecutive epochs. Stopping.\n",
      "Iteration 1, loss = 0.67288861\n",
      "Iteration 2, loss = 0.65756148\n",
      "Iteration 3, loss = 0.63847026\n",
      "Iteration 4, loss = 0.62001093\n",
      "Iteration 5, loss = 0.60312884\n",
      "Iteration 6, loss = 0.58942592\n",
      "Iteration 7, loss = 0.57917159\n",
      "Iteration 8, loss = 0.56941263\n",
      "Iteration 9, loss = 0.56051638\n",
      "Iteration 10, loss = 0.55262232\n",
      "Iteration 11, loss = 0.54604310\n",
      "Iteration 12, loss = 0.54080952\n",
      "Iteration 13, loss = 0.53654953\n",
      "Iteration 14, loss = 0.53271973\n",
      "Iteration 15, loss = 0.52896122\n",
      "Iteration 16, loss = 0.52562284\n",
      "Iteration 17, loss = 0.52272537\n",
      "Iteration 18, loss = 0.52110596\n",
      "Training loss did not improve more than tol=0.010000 for 10 consecutive epochs. Stopping.\n",
      "Iteration 1, loss = 0.71840238\n",
      "Iteration 2, loss = 0.69783482\n",
      "Iteration 3, loss = 0.67260481\n",
      "Iteration 4, loss = 0.65033488\n",
      "Iteration 5, loss = 0.63108961\n",
      "Iteration 6, loss = 0.61408921\n",
      "Iteration 7, loss = 0.60062076\n",
      "Iteration 8, loss = 0.58971881\n",
      "Iteration 9, loss = 0.58060876\n",
      "Iteration 10, loss = 0.57197825\n",
      "Iteration 11, loss = 0.56459102\n",
      "Iteration 12, loss = 0.55857399\n",
      "Iteration 13, loss = 0.55246173\n",
      "Iteration 14, loss = 0.54727855\n",
      "Iteration 15, loss = 0.54304332\n",
      "Iteration 16, loss = 0.53909565\n",
      "Iteration 17, loss = 0.53515992\n",
      "Iteration 18, loss = 0.53126403\n",
      "Iteration 19, loss = 0.52800271\n",
      "Training loss did not improve more than tol=0.010000 for 10 consecutive epochs. Stopping.\n",
      "Iteration 1, loss = 0.69872888\n",
      "Iteration 2, loss = 0.67932646\n",
      "Iteration 3, loss = 0.65577238\n",
      "Iteration 4, loss = 0.63412907\n",
      "Iteration 5, loss = 0.61603588\n",
      "Iteration 6, loss = 0.60049058\n",
      "Iteration 7, loss = 0.58797285\n",
      "Iteration 8, loss = 0.57777635\n",
      "Iteration 9, loss = 0.56942710\n",
      "Iteration 10, loss = 0.56228449\n",
      "Iteration 11, loss = 0.55586326\n",
      "Iteration 12, loss = 0.55110167\n",
      "Iteration 13, loss = 0.54627970\n",
      "Iteration 14, loss = 0.54212048\n",
      "Iteration 15, loss = 0.53790782\n",
      "Iteration 16, loss = 0.53421116\n",
      "Iteration 17, loss = 0.53070522\n",
      "Iteration 18, loss = 0.52732331\n",
      "Iteration 19, loss = 0.52432565\n",
      "Training loss did not improve more than tol=0.010000 for 10 consecutive epochs. Stopping.\n",
      "Iteration 1, loss = 0.71660387\n",
      "Iteration 2, loss = 0.69494462\n",
      "Iteration 3, loss = 0.66675686\n",
      "Iteration 4, loss = 0.64195002\n",
      "Iteration 5, loss = 0.62087411\n",
      "Iteration 6, loss = 0.60311791\n",
      "Iteration 7, loss = 0.58808087\n",
      "Iteration 8, loss = 0.57506280\n",
      "Iteration 9, loss = 0.56514904\n",
      "Iteration 10, loss = 0.55707243\n",
      "Iteration 11, loss = 0.55042438\n",
      "Iteration 12, loss = 0.54505920\n",
      "Iteration 13, loss = 0.54075881\n",
      "Iteration 14, loss = 0.53675129\n",
      "Iteration 15, loss = 0.53262071\n",
      "Iteration 16, loss = 0.52858990\n",
      "Iteration 17, loss = 0.52513643\n",
      "Iteration 18, loss = 0.52208462\n",
      "Iteration 19, loss = 0.51923913\n",
      "Training loss did not improve more than tol=0.010000 for 10 consecutive epochs. Stopping.\n",
      "Iteration 1, loss = 0.63611107\n",
      "Iteration 2, loss = 0.55362422\n",
      "Iteration 3, loss = 0.52029391\n",
      "Iteration 4, loss = 0.50534102\n",
      "Iteration 5, loss = 0.49818751\n",
      "Iteration 6, loss = 0.49461583\n",
      "Iteration 7, loss = 0.49247864\n",
      "Iteration 8, loss = 0.49066216\n",
      "Iteration 9, loss = 0.49064092\n",
      "Iteration 10, loss = 0.49003776\n",
      "Iteration 11, loss = 0.48864809\n",
      "Iteration 12, loss = 0.48721015\n",
      "Iteration 13, loss = 0.48585857\n",
      "Iteration 14, loss = 0.48635120\n",
      "Iteration 15, loss = 0.48623735\n",
      "Training loss did not improve more than tol=0.010000 for 10 consecutive epochs. Stopping.\n",
      "Iteration 1, loss = 0.64356195\n",
      "Iteration 2, loss = 0.55545175\n",
      "Iteration 3, loss = 0.52049858\n",
      "Iteration 4, loss = 0.50726625\n",
      "Iteration 5, loss = 0.50491440\n",
      "Iteration 6, loss = 0.50311116\n",
      "Iteration 7, loss = 0.50092581\n",
      "Iteration 8, loss = 0.49764880\n",
      "Iteration 9, loss = 0.49511179\n",
      "Iteration 10, loss = 0.49344992\n",
      "Iteration 11, loss = 0.49219867\n",
      "Iteration 12, loss = 0.49124574\n"
     ]
    },
    {
     "name": "stdout",
     "output_type": "stream",
     "text": [
      "Iteration 13, loss = 0.49176918\n",
      "Iteration 14, loss = 0.49227442\n",
      "Iteration 15, loss = 0.49109548\n",
      "Training loss did not improve more than tol=0.010000 for 10 consecutive epochs. Stopping.\n",
      "Iteration 1, loss = 0.63986311\n",
      "Iteration 2, loss = 0.55572036\n",
      "Iteration 3, loss = 0.52149848\n",
      "Iteration 4, loss = 0.50684258\n",
      "Iteration 5, loss = 0.50051437\n",
      "Iteration 6, loss = 0.49722701\n",
      "Iteration 7, loss = 0.49454301\n",
      "Iteration 8, loss = 0.49246850\n",
      "Iteration 9, loss = 0.49090574\n",
      "Iteration 10, loss = 0.48945519\n",
      "Iteration 11, loss = 0.49101059\n",
      "Iteration 12, loss = 0.49279387\n",
      "Iteration 13, loss = 0.49106127\n",
      "Iteration 14, loss = 0.48889061\n",
      "Iteration 15, loss = 0.48748656\n",
      "Training loss did not improve more than tol=0.010000 for 10 consecutive epochs. Stopping.\n",
      "Iteration 1, loss = 0.66013486\n",
      "Iteration 2, loss = 0.56181303\n",
      "Iteration 3, loss = 0.52245382\n",
      "Iteration 4, loss = 0.50462445\n",
      "Iteration 5, loss = 0.49713233\n",
      "Iteration 6, loss = 0.49334839\n",
      "Iteration 7, loss = 0.49168213\n",
      "Iteration 8, loss = 0.49012128\n",
      "Iteration 9, loss = 0.49045376\n",
      "Iteration 10, loss = 0.49051649\n",
      "Iteration 11, loss = 0.48850864\n",
      "Iteration 12, loss = 0.48672710\n",
      "Iteration 13, loss = 0.48568586\n",
      "Iteration 14, loss = 0.48457849\n",
      "Iteration 15, loss = 0.48370849\n",
      "Training loss did not improve more than tol=0.010000 for 10 consecutive epochs. Stopping.\n",
      "Iteration 1, loss = 0.62369160\n",
      "Iteration 2, loss = 0.53395345\n",
      "Iteration 3, loss = 0.50210752\n",
      "Iteration 4, loss = 0.49229306\n",
      "Iteration 5, loss = 0.48971979\n",
      "Iteration 6, loss = 0.48817998\n",
      "Iteration 7, loss = 0.48619519\n",
      "Iteration 8, loss = 0.48454393\n",
      "Iteration 9, loss = 0.48269418\n",
      "Iteration 10, loss = 0.48012708\n",
      "Iteration 11, loss = 0.47931911\n",
      "Iteration 12, loss = 0.47914880\n",
      "Iteration 13, loss = 0.47845337\n",
      "Iteration 14, loss = 0.47865174\n",
      "Training loss did not improve more than tol=0.010000 for 10 consecutive epochs. Stopping.\n",
      "Iteration 1, loss = 0.64670330\n",
      "Iteration 2, loss = 0.55719735\n",
      "Iteration 3, loss = 0.51830691\n",
      "Iteration 4, loss = 0.50081016\n",
      "Iteration 5, loss = 0.49435799\n",
      "Iteration 6, loss = 0.49223524\n",
      "Iteration 7, loss = 0.48985355\n",
      "Iteration 8, loss = 0.48970148\n",
      "Iteration 9, loss = 0.49209965\n",
      "Iteration 10, loss = 0.48939275\n",
      "Iteration 11, loss = 0.48675159\n",
      "Iteration 12, loss = 0.48674666\n",
      "Iteration 13, loss = 0.48635161\n",
      "Iteration 14, loss = 0.48676433\n",
      "Iteration 15, loss = 0.48641415\n",
      "Training loss did not improve more than tol=0.010000 for 10 consecutive epochs. Stopping.\n",
      "Iteration 1, loss = 0.64415755\n",
      "Iteration 2, loss = 0.55665870\n",
      "Iteration 3, loss = 0.52195487\n",
      "Iteration 4, loss = 0.50829377\n",
      "Iteration 5, loss = 0.50148193\n",
      "Iteration 6, loss = 0.49931394\n",
      "Iteration 7, loss = 0.49692268\n",
      "Iteration 8, loss = 0.49527660\n",
      "Iteration 9, loss = 0.49250840\n",
      "Iteration 10, loss = 0.49196326\n",
      "Iteration 11, loss = 0.49120365\n",
      "Iteration 12, loss = 0.49027017\n",
      "Iteration 13, loss = 0.49010983\n",
      "Iteration 14, loss = 0.49132222\n",
      "Iteration 15, loss = 0.49198905\n",
      "Training loss did not improve more than tol=0.010000 for 10 consecutive epochs. Stopping.\n",
      "Iteration 1, loss = 0.63377497\n",
      "Iteration 2, loss = 0.55101028\n",
      "Iteration 3, loss = 0.51734927\n",
      "Iteration 4, loss = 0.50543367\n",
      "Iteration 5, loss = 0.50200607\n",
      "Iteration 6, loss = 0.49815380\n",
      "Iteration 7, loss = 0.49599489\n",
      "Iteration 8, loss = 0.49497106\n",
      "Iteration 9, loss = 0.49464121\n",
      "Iteration 10, loss = 0.49385567\n",
      "Iteration 11, loss = 0.49463489\n",
      "Iteration 12, loss = 0.49469538\n",
      "Iteration 13, loss = 0.49286644\n",
      "Iteration 14, loss = 0.49209102\n",
      "Iteration 15, loss = 0.49061316\n",
      "Training loss did not improve more than tol=0.010000 for 10 consecutive epochs. Stopping.\n",
      "Iteration 1, loss = 0.67815181\n",
      "Iteration 2, loss = 0.56890537\n",
      "Iteration 3, loss = 0.52293204\n",
      "Iteration 4, loss = 0.50485322\n",
      "Iteration 5, loss = 0.49860962\n",
      "Iteration 6, loss = 0.49578809\n",
      "Iteration 7, loss = 0.49448746\n",
      "Iteration 8, loss = 0.49390724\n",
      "Iteration 9, loss = 0.49355497\n",
      "Iteration 10, loss = 0.49352991\n",
      "Iteration 11, loss = 0.49127111\n",
      "Iteration 12, loss = 0.49072574\n",
      "Iteration 13, loss = 0.49399792\n",
      "Iteration 14, loss = 0.49432803\n",
      "Iteration 15, loss = 0.49182274\n",
      "Training loss did not improve more than tol=0.010000 for 10 consecutive epochs. Stopping.\n",
      "Iteration 1, loss = 0.60194250\n",
      "Iteration 2, loss = 0.52501084\n",
      "Iteration 3, loss = 0.50076356\n",
      "Iteration 4, loss = 0.49388549\n",
      "Iteration 5, loss = 0.49223441\n",
      "Iteration 6, loss = 0.49013159\n",
      "Iteration 7, loss = 0.48787327\n",
      "Iteration 8, loss = 0.48625515\n",
      "Iteration 9, loss = 0.48621821\n",
      "Iteration 10, loss = 0.48670268\n",
      "Iteration 11, loss = 0.48747535\n",
      "Iteration 12, loss = 0.48535110\n",
      "Iteration 13, loss = 0.48348035\n",
      "Iteration 14, loss = 0.48212731\n",
      "Training loss did not improve more than tol=0.010000 for 10 consecutive epochs. Stopping.\n",
      "Iteration 1, loss = 0.74131854\n",
      "Iteration 2, loss = 0.71191369\n",
      "Iteration 3, loss = 0.67421345\n",
      "Iteration 4, loss = 0.64530817\n",
      "Iteration 5, loss = 0.62626882\n",
      "Iteration 6, loss = 0.61210698\n",
      "Iteration 7, loss = 0.59811874\n",
      "Iteration 8, loss = 0.58368216\n",
      "Iteration 9, loss = 0.57120770\n",
      "Iteration 10, loss = 0.56333727\n",
      "Iteration 11, loss = 0.55683131\n",
      "Iteration 12, loss = 0.55045838\n",
      "Iteration 13, loss = 0.54445433\n",
      "Iteration 14, loss = 0.53932241\n",
      "Iteration 15, loss = 0.53426651\n",
      "Iteration 16, loss = 0.52978293\n",
      "Iteration 17, loss = 0.52741908\n",
      "Iteration 18, loss = 0.52699360\n",
      "Iteration 19, loss = 0.52558546\n",
      "Iteration 20, loss = 0.52325080\n",
      "Training loss did not improve more than tol=0.010000 for 10 consecutive epochs. Stopping.\n",
      "Iteration 1, loss = 0.75490786\n",
      "Iteration 2, loss = 0.73239410\n",
      "Iteration 3, loss = 0.70145792\n",
      "Iteration 4, loss = 0.67285163\n",
      "Iteration 5, loss = 0.64670120\n",
      "Iteration 6, loss = 0.62435866\n",
      "Iteration 7, loss = 0.60787095\n",
      "Iteration 8, loss = 0.59559225\n",
      "Iteration 9, loss = 0.58372920\n",
      "Iteration 10, loss = 0.57423673\n",
      "Iteration 11, loss = 0.56615888\n",
      "Iteration 12, loss = 0.56024015\n",
      "Iteration 13, loss = 0.55434558\n",
      "Iteration 14, loss = 0.55052726\n",
      "Iteration 15, loss = 0.54622480\n",
      "Iteration 16, loss = 0.54126781\n",
      "Iteration 17, loss = 0.53875082\n",
      "Iteration 18, loss = 0.53646746\n",
      "Iteration 19, loss = 0.53341766\n",
      "Iteration 20, loss = 0.53184697\n",
      "Training loss did not improve more than tol=0.010000 for 10 consecutive epochs. Stopping.\n",
      "Iteration 1, loss = 0.72513439\n",
      "Iteration 2, loss = 0.70270930\n",
      "Iteration 3, loss = 0.67833757\n",
      "Iteration 4, loss = 0.65327143\n",
      "Iteration 5, loss = 0.63148594\n",
      "Iteration 6, loss = 0.61447632\n",
      "Iteration 7, loss = 0.60056292\n",
      "Iteration 8, loss = 0.58775163\n",
      "Iteration 9, loss = 0.57844500\n",
      "Iteration 10, loss = 0.57000237\n",
      "Iteration 11, loss = 0.56243888\n",
      "Iteration 12, loss = 0.55558497\n",
      "Iteration 13, loss = 0.54842708\n",
      "Iteration 14, loss = 0.54317801\n",
      "Iteration 15, loss = 0.53806795\n",
      "Iteration 16, loss = 0.53315314\n",
      "Iteration 17, loss = 0.52846314\n",
      "Iteration 18, loss = 0.52453685\n",
      "Iteration 19, loss = 0.52117513\n",
      "Training loss did not improve more than tol=0.010000 for 10 consecutive epochs. Stopping.\n",
      "Iteration 1, loss = 0.71717224\n",
      "Iteration 2, loss = 0.69648016\n",
      "Iteration 3, loss = 0.67063547\n",
      "Iteration 4, loss = 0.64667109\n",
      "Iteration 5, loss = 0.62625126\n",
      "Iteration 6, loss = 0.60956992\n",
      "Iteration 7, loss = 0.59591835\n",
      "Iteration 8, loss = 0.58412043\n",
      "Iteration 9, loss = 0.57370564\n",
      "Iteration 10, loss = 0.56525208\n",
      "Iteration 11, loss = 0.55758601\n",
      "Iteration 12, loss = 0.55021313\n",
      "Iteration 13, loss = 0.54435051\n",
      "Iteration 14, loss = 0.53914192\n",
      "Iteration 15, loss = 0.53549422\n",
      "Iteration 16, loss = 0.53207487\n",
      "Iteration 17, loss = 0.52941276\n",
      "Iteration 18, loss = 0.52680154\n",
      "Iteration 19, loss = 0.52418495\n",
      "Iteration 20, loss = 0.52150732\n",
      "Training loss did not improve more than tol=0.010000 for 10 consecutive epochs. Stopping.\n",
      "Iteration 1, loss = 0.70116488\n",
      "Iteration 2, loss = 0.67812038\n",
      "Iteration 3, loss = 0.65050799\n",
      "Iteration 4, loss = 0.62639421\n",
      "Iteration 5, loss = 0.60855193\n",
      "Iteration 6, loss = 0.59196807\n",
      "Iteration 7, loss = 0.57949118\n",
      "Iteration 8, loss = 0.56799763\n",
      "Iteration 9, loss = 0.55721888\n",
      "Iteration 10, loss = 0.54741683\n",
      "Iteration 11, loss = 0.53956769\n",
      "Iteration 12, loss = 0.53405169\n",
      "Iteration 13, loss = 0.52909892\n",
      "Iteration 14, loss = 0.52451761\n",
      "Iteration 15, loss = 0.52073290\n",
      "Iteration 16, loss = 0.51732185\n",
      "Iteration 17, loss = 0.51404537\n",
      "Iteration 18, loss = 0.51133963\n",
      "Iteration 19, loss = 0.50921711\n",
      "Iteration 20, loss = 0.50750097\n",
      "Training loss did not improve more than tol=0.010000 for 10 consecutive epochs. Stopping.\n",
      "Iteration 1, loss = 0.69684192\n",
      "Iteration 2, loss = 0.67943631\n"
     ]
    },
    {
     "name": "stdout",
     "output_type": "stream",
     "text": [
      "Iteration 3, loss = 0.65850424\n",
      "Iteration 4, loss = 0.63877380\n",
      "Iteration 5, loss = 0.62223681\n",
      "Iteration 6, loss = 0.60726641\n",
      "Iteration 7, loss = 0.59644947\n",
      "Iteration 8, loss = 0.58610095\n",
      "Iteration 9, loss = 0.57592859\n",
      "Iteration 10, loss = 0.56660137\n",
      "Iteration 11, loss = 0.55863800\n",
      "Iteration 12, loss = 0.55184281\n",
      "Iteration 13, loss = 0.54574026\n",
      "Iteration 14, loss = 0.53980845\n",
      "Iteration 15, loss = 0.53446138\n",
      "Iteration 16, loss = 0.52979797\n",
      "Iteration 17, loss = 0.52579091\n",
      "Iteration 18, loss = 0.52237521\n",
      "Iteration 19, loss = 0.51964502\n",
      "Iteration 20, loss = 0.51687014\n",
      "Training loss did not improve more than tol=0.010000 for 10 consecutive epochs. Stopping.\n",
      "Iteration 1, loss = 0.68755317\n",
      "Iteration 2, loss = 0.67411681\n",
      "Iteration 3, loss = 0.65730989\n",
      "Iteration 4, loss = 0.63947094\n",
      "Iteration 5, loss = 0.62376086\n",
      "Iteration 6, loss = 0.61113537\n",
      "Iteration 7, loss = 0.60031541\n",
      "Iteration 8, loss = 0.59164308\n",
      "Iteration 9, loss = 0.58393922\n",
      "Iteration 10, loss = 0.57577090\n",
      "Iteration 11, loss = 0.56878533\n",
      "Iteration 12, loss = 0.56254239\n",
      "Iteration 13, loss = 0.55825039\n",
      "Iteration 14, loss = 0.55383261\n",
      "Iteration 15, loss = 0.54942157\n",
      "Iteration 16, loss = 0.54598068\n",
      "Iteration 17, loss = 0.54257505\n",
      "Iteration 18, loss = 0.53893740\n",
      "Training loss did not improve more than tol=0.010000 for 10 consecutive epochs. Stopping.\n",
      "Iteration 1, loss = 0.64960003\n",
      "Iteration 2, loss = 0.63443240\n",
      "Iteration 3, loss = 0.61642810\n",
      "Iteration 4, loss = 0.60211536\n",
      "Iteration 5, loss = 0.59014871\n",
      "Iteration 6, loss = 0.57813299\n",
      "Iteration 7, loss = 0.56722746\n",
      "Iteration 8, loss = 0.55931900\n",
      "Iteration 9, loss = 0.55274591\n",
      "Iteration 10, loss = 0.54636826\n",
      "Iteration 11, loss = 0.54073373\n",
      "Iteration 12, loss = 0.53569887\n",
      "Iteration 13, loss = 0.53234371\n",
      "Iteration 14, loss = 0.52987623\n",
      "Iteration 15, loss = 0.52674950\n",
      "Iteration 16, loss = 0.52426909\n",
      "Iteration 17, loss = 0.52200288\n",
      "Iteration 18, loss = 0.51951530\n",
      "Training loss did not improve more than tol=0.010000 for 10 consecutive epochs. Stopping.\n",
      "Iteration 1, loss = 0.70306709\n",
      "Iteration 2, loss = 0.68050449\n",
      "Iteration 3, loss = 0.65521772\n",
      "Iteration 4, loss = 0.63286605\n",
      "Iteration 5, loss = 0.61456918\n",
      "Iteration 6, loss = 0.59934589\n",
      "Iteration 7, loss = 0.58655727\n",
      "Iteration 8, loss = 0.57522134\n",
      "Iteration 9, loss = 0.56543483\n",
      "Iteration 10, loss = 0.55693445\n",
      "Iteration 11, loss = 0.55023184\n",
      "Iteration 12, loss = 0.54450073\n",
      "Iteration 13, loss = 0.53966128\n",
      "Iteration 14, loss = 0.53470372\n",
      "Iteration 15, loss = 0.53061644\n",
      "Iteration 16, loss = 0.52719822\n",
      "Iteration 17, loss = 0.52388148\n",
      "Iteration 18, loss = 0.52130639\n",
      "Iteration 19, loss = 0.51970381\n",
      "Training loss did not improve more than tol=0.010000 for 10 consecutive epochs. Stopping.\n",
      "Iteration 1, loss = 0.72438152\n",
      "Iteration 2, loss = 0.70306824\n",
      "Iteration 3, loss = 0.67955636\n",
      "Iteration 4, loss = 0.65699588\n",
      "Iteration 5, loss = 0.63646040\n",
      "Iteration 6, loss = 0.61852925\n",
      "Iteration 7, loss = 0.60282051\n",
      "Iteration 8, loss = 0.58981981\n",
      "Iteration 9, loss = 0.57898351\n",
      "Iteration 10, loss = 0.56921016\n",
      "Iteration 11, loss = 0.56075932\n",
      "Iteration 12, loss = 0.55296577\n",
      "Iteration 13, loss = 0.54641191\n",
      "Iteration 14, loss = 0.54105310\n",
      "Iteration 15, loss = 0.53626443\n",
      "Iteration 16, loss = 0.53210174\n",
      "Iteration 17, loss = 0.52861788\n",
      "Iteration 18, loss = 0.52549696\n",
      "Iteration 19, loss = 0.52277364\n",
      "Iteration 20, loss = 0.52024757\n",
      "Training loss did not improve more than tol=0.010000 for 10 consecutive epochs. Stopping.\n",
      "Iteration 1, loss = 0.63562820\n",
      "Iteration 2, loss = 0.54340251\n",
      "Iteration 3, loss = 0.50787121\n",
      "Iteration 4, loss = 0.49556496\n",
      "Iteration 5, loss = 0.49334278\n",
      "Iteration 6, loss = 0.49359276\n",
      "Iteration 7, loss = 0.49312575\n",
      "Iteration 8, loss = 0.48862870\n",
      "Iteration 9, loss = 0.48755680\n",
      "Iteration 10, loss = 0.48792844\n",
      "Iteration 11, loss = 0.48842480\n",
      "Iteration 12, loss = 0.48924601\n",
      "Iteration 13, loss = 0.49227587\n",
      "Iteration 14, loss = 0.49252997\n",
      "Iteration 15, loss = 0.49077585\n",
      "Training loss did not improve more than tol=0.010000 for 10 consecutive epochs. Stopping.\n",
      "Iteration 1, loss = 0.61678827\n",
      "Iteration 2, loss = 0.53574840\n",
      "Iteration 3, loss = 0.51136486\n",
      "Iteration 4, loss = 0.50147012\n",
      "Iteration 5, loss = 0.49580438\n",
      "Iteration 6, loss = 0.49328008\n",
      "Iteration 7, loss = 0.49151093\n",
      "Iteration 8, loss = 0.49097441\n",
      "Iteration 9, loss = 0.49001071\n",
      "Iteration 10, loss = 0.48861321\n",
      "Iteration 11, loss = 0.48835780\n",
      "Iteration 12, loss = 0.48591252\n",
      "Iteration 13, loss = 0.48642700\n",
      "Iteration 14, loss = 0.48765457\n",
      "Training loss did not improve more than tol=0.010000 for 10 consecutive epochs. Stopping.\n",
      "Iteration 1, loss = 0.61061539\n",
      "Iteration 2, loss = 0.53160565\n",
      "Iteration 3, loss = 0.50291776\n",
      "Iteration 4, loss = 0.49378789\n",
      "Iteration 5, loss = 0.49064902\n",
      "Iteration 6, loss = 0.49044876\n",
      "Iteration 7, loss = 0.49019544\n",
      "Iteration 8, loss = 0.48999115\n",
      "Iteration 9, loss = 0.48865348\n",
      "Iteration 10, loss = 0.48684597\n",
      "Iteration 11, loss = 0.48558826\n",
      "Iteration 12, loss = 0.48424236\n",
      "Iteration 13, loss = 0.48424226\n",
      "Iteration 14, loss = 0.48321477\n",
      "Training loss did not improve more than tol=0.010000 for 10 consecutive epochs. Stopping.\n",
      "Iteration 1, loss = 0.64871660\n",
      "Iteration 2, loss = 0.55769548\n",
      "Iteration 3, loss = 0.51712743\n",
      "Iteration 4, loss = 0.50175740\n",
      "Iteration 5, loss = 0.49684913\n",
      "Iteration 6, loss = 0.49372807\n",
      "Iteration 7, loss = 0.49276109\n",
      "Iteration 8, loss = 0.49130704\n",
      "Iteration 9, loss = 0.48968006\n",
      "Iteration 10, loss = 0.48815803\n",
      "Iteration 11, loss = 0.48508980\n",
      "Iteration 12, loss = 0.48475602\n",
      "Iteration 13, loss = 0.48431095\n",
      "Iteration 14, loss = 0.48472648\n",
      "Iteration 15, loss = 0.48440153\n",
      "Training loss did not improve more than tol=0.010000 for 10 consecutive epochs. Stopping.\n",
      "Iteration 1, loss = 0.66015999\n",
      "Iteration 2, loss = 0.55693603\n",
      "Iteration 3, loss = 0.51282723\n",
      "Iteration 4, loss = 0.49786188\n",
      "Iteration 5, loss = 0.49369938\n",
      "Iteration 6, loss = 0.49022702\n",
      "Iteration 7, loss = 0.48786155\n",
      "Iteration 8, loss = 0.48610079\n",
      "Iteration 9, loss = 0.48380035\n",
      "Iteration 10, loss = 0.48277874\n",
      "Iteration 11, loss = 0.48135075\n",
      "Iteration 12, loss = 0.48009761\n",
      "Iteration 13, loss = 0.47945434\n",
      "Iteration 14, loss = 0.47915338\n",
      "Iteration 15, loss = 0.47850442\n",
      "Training loss did not improve more than tol=0.010000 for 10 consecutive epochs. Stopping.\n",
      "Iteration 1, loss = 0.63834379\n",
      "Iteration 2, loss = 0.55497869\n",
      "Iteration 3, loss = 0.51889481\n",
      "Iteration 4, loss = 0.50606808\n",
      "Iteration 5, loss = 0.49939514\n",
      "Iteration 6, loss = 0.49457042\n",
      "Iteration 7, loss = 0.49224944\n",
      "Iteration 8, loss = 0.49072646\n",
      "Iteration 9, loss = 0.49066433\n",
      "Iteration 10, loss = 0.48957674\n",
      "Iteration 11, loss = 0.48875585\n",
      "Iteration 12, loss = 0.48840230\n",
      "Iteration 13, loss = 0.48785290\n",
      "Iteration 14, loss = 0.48764964\n",
      "Iteration 15, loss = 0.48822549\n",
      "Training loss did not improve more than tol=0.010000 for 10 consecutive epochs. Stopping.\n",
      "Iteration 1, loss = 0.64772914\n",
      "Iteration 2, loss = 0.55211642\n",
      "Iteration 3, loss = 0.51850046\n",
      "Iteration 4, loss = 0.50716802\n",
      "Iteration 5, loss = 0.50219139\n",
      "Iteration 6, loss = 0.49809692\n",
      "Iteration 7, loss = 0.49661459\n",
      "Iteration 8, loss = 0.49782852\n",
      "Iteration 9, loss = 0.49984313\n",
      "Iteration 10, loss = 0.49868756\n",
      "Iteration 11, loss = 0.49586032\n",
      "Iteration 12, loss = 0.49280777\n",
      "Iteration 13, loss = 0.49352542\n",
      "Iteration 14, loss = 0.49202542\n",
      "Iteration 15, loss = 0.49031693\n",
      "Training loss did not improve more than tol=0.010000 for 10 consecutive epochs. Stopping.\n",
      "Iteration 1, loss = 0.65197591\n",
      "Iteration 2, loss = 0.56883060\n",
      "Iteration 3, loss = 0.53256875\n",
      "Iteration 4, loss = 0.51235643\n",
      "Iteration 5, loss = 0.50381834\n",
      "Iteration 6, loss = 0.49864585\n",
      "Iteration 7, loss = 0.49588459\n",
      "Iteration 8, loss = 0.49328743\n",
      "Iteration 9, loss = 0.49178838\n",
      "Iteration 10, loss = 0.49065068\n",
      "Iteration 11, loss = 0.49047167\n",
      "Iteration 12, loss = 0.48980365\n",
      "Iteration 13, loss = 0.48903851\n",
      "Iteration 14, loss = 0.48846887\n",
      "Iteration 15, loss = 0.48815269\n",
      "Training loss did not improve more than tol=0.010000 for 10 consecutive epochs. Stopping.\n",
      "Iteration 1, loss = 0.68317548\n",
      "Iteration 2, loss = 0.56940871\n",
      "Iteration 3, loss = 0.52139841\n",
      "Iteration 4, loss = 0.50510278\n",
      "Iteration 5, loss = 0.50015559\n",
      "Iteration 6, loss = 0.49917030\n",
      "Iteration 7, loss = 0.49671751\n",
      "Iteration 8, loss = 0.49506310\n",
      "Iteration 9, loss = 0.49396750\n",
      "Iteration 10, loss = 0.49298293\n",
      "Iteration 11, loss = 0.49175863\n",
      "Iteration 12, loss = 0.49189065\n",
      "Iteration 13, loss = 0.49055005\n"
     ]
    },
    {
     "name": "stdout",
     "output_type": "stream",
     "text": [
      "Iteration 14, loss = 0.49031639\n",
      "Iteration 15, loss = 0.49115661\n",
      "Training loss did not improve more than tol=0.010000 for 10 consecutive epochs. Stopping.\n",
      "Iteration 1, loss = 0.65919130\n",
      "Iteration 2, loss = 0.56966718\n",
      "Iteration 3, loss = 0.52628886\n",
      "Iteration 4, loss = 0.50681284\n",
      "Iteration 5, loss = 0.49551094\n",
      "Iteration 6, loss = 0.49255111\n",
      "Iteration 7, loss = 0.49084230\n",
      "Iteration 8, loss = 0.48925183\n",
      "Iteration 9, loss = 0.48873469\n",
      "Iteration 10, loss = 0.48787983\n",
      "Iteration 11, loss = 0.48604615\n",
      "Iteration 12, loss = 0.48394783\n",
      "Iteration 13, loss = 0.48399659\n",
      "Iteration 14, loss = 0.48280982\n",
      "Iteration 15, loss = 0.48106916\n",
      "Iteration 16, loss = 0.48222771\n",
      "Training loss did not improve more than tol=0.010000 for 10 consecutive epochs. Stopping.\n",
      "Iteration 1, loss = 0.68934180\n",
      "Iteration 2, loss = 0.66833797\n",
      "Iteration 3, loss = 0.64331085\n",
      "Iteration 4, loss = 0.62021334\n",
      "Iteration 5, loss = 0.60207750\n",
      "Iteration 6, loss = 0.58780075\n",
      "Iteration 7, loss = 0.57627797\n",
      "Iteration 8, loss = 0.56576447\n",
      "Iteration 9, loss = 0.55669788\n",
      "Iteration 10, loss = 0.54862452\n",
      "Iteration 11, loss = 0.54241323\n",
      "Iteration 12, loss = 0.53684394\n",
      "Iteration 13, loss = 0.53134819\n",
      "Iteration 14, loss = 0.52702189\n",
      "Iteration 15, loss = 0.52357589\n",
      "Iteration 16, loss = 0.52016287\n",
      "Iteration 17, loss = 0.51741184\n",
      "Iteration 18, loss = 0.51477046\n",
      "Iteration 19, loss = 0.51255234\n",
      "Training loss did not improve more than tol=0.010000 for 10 consecutive epochs. Stopping.\n",
      "Iteration 1, loss = 0.73354641\n",
      "Iteration 2, loss = 0.70929905\n",
      "Iteration 3, loss = 0.68492033\n",
      "Iteration 4, loss = 0.66547575\n",
      "Iteration 5, loss = 0.64517870\n",
      "Iteration 6, loss = 0.62693512\n",
      "Iteration 7, loss = 0.61072800\n",
      "Iteration 8, loss = 0.59617289\n",
      "Iteration 9, loss = 0.58371744\n",
      "Iteration 10, loss = 0.57285987\n",
      "Iteration 11, loss = 0.56331946\n",
      "Iteration 12, loss = 0.55535338\n",
      "Iteration 13, loss = 0.54946691\n",
      "Iteration 14, loss = 0.54479026\n",
      "Iteration 15, loss = 0.54046542\n",
      "Iteration 16, loss = 0.53610251\n",
      "Iteration 17, loss = 0.53327455\n",
      "Iteration 18, loss = 0.53239466\n",
      "Iteration 19, loss = 0.53021423\n",
      "Iteration 20, loss = 0.52739052\n",
      "Iteration 21, loss = 0.52451678\n",
      "Training loss did not improve more than tol=0.010000 for 10 consecutive epochs. Stopping.\n",
      "Iteration 1, loss = 0.68691948\n",
      "Iteration 2, loss = 0.67049262\n",
      "Iteration 3, loss = 0.64970147\n",
      "Iteration 4, loss = 0.62937445\n",
      "Iteration 5, loss = 0.61167647\n",
      "Iteration 6, loss = 0.59662122\n",
      "Iteration 7, loss = 0.58413414\n",
      "Iteration 8, loss = 0.57310131\n",
      "Iteration 9, loss = 0.56414855\n",
      "Iteration 10, loss = 0.55653384\n",
      "Iteration 11, loss = 0.54999376\n",
      "Iteration 12, loss = 0.54451395\n",
      "Iteration 13, loss = 0.53965487\n",
      "Iteration 14, loss = 0.53477406\n",
      "Iteration 15, loss = 0.53075428\n",
      "Iteration 16, loss = 0.52711941\n",
      "Iteration 17, loss = 0.52423433\n",
      "Iteration 18, loss = 0.52205002\n",
      "Iteration 19, loss = 0.52011782\n",
      "Training loss did not improve more than tol=0.010000 for 10 consecutive epochs. Stopping.\n",
      "Iteration 1, loss = 0.73127616\n",
      "Iteration 2, loss = 0.70297808\n",
      "Iteration 3, loss = 0.66929617\n",
      "Iteration 4, loss = 0.63812417\n",
      "Iteration 5, loss = 0.61561558\n",
      "Iteration 6, loss = 0.59797157\n",
      "Iteration 7, loss = 0.58204033\n",
      "Iteration 8, loss = 0.56779384\n",
      "Iteration 9, loss = 0.55647326\n",
      "Iteration 10, loss = 0.54795400\n",
      "Iteration 11, loss = 0.54134548\n",
      "Iteration 12, loss = 0.53543874\n",
      "Iteration 13, loss = 0.52998985\n",
      "Iteration 14, loss = 0.52516371\n",
      "Iteration 15, loss = 0.52117911\n",
      "Iteration 16, loss = 0.51786308\n",
      "Iteration 17, loss = 0.51549635\n",
      "Iteration 18, loss = 0.51332535\n",
      "Iteration 19, loss = 0.51115561\n",
      "Iteration 20, loss = 0.50913377\n",
      "Training loss did not improve more than tol=0.010000 for 10 consecutive epochs. Stopping.\n",
      "Iteration 1, loss = 0.71974199\n",
      "Iteration 2, loss = 0.69797473\n",
      "Iteration 3, loss = 0.67236359\n",
      "Iteration 4, loss = 0.64850575\n",
      "Iteration 5, loss = 0.62712359\n",
      "Iteration 6, loss = 0.60872097\n",
      "Iteration 7, loss = 0.59512379\n",
      "Iteration 8, loss = 0.58272263\n",
      "Iteration 9, loss = 0.57164383\n",
      "Iteration 10, loss = 0.56193821\n",
      "Iteration 11, loss = 0.55417729\n",
      "Iteration 12, loss = 0.54774903\n",
      "Iteration 13, loss = 0.54226860\n",
      "Iteration 14, loss = 0.53804219\n",
      "Iteration 15, loss = 0.53378426\n",
      "Iteration 16, loss = 0.52972419\n",
      "Iteration 17, loss = 0.52607201\n",
      "Iteration 18, loss = 0.52301228\n",
      "Iteration 19, loss = 0.52006154\n",
      "Iteration 20, loss = 0.51773824\n",
      "Training loss did not improve more than tol=0.010000 for 10 consecutive epochs. Stopping.\n",
      "Iteration 1, loss = 0.65195917\n",
      "Iteration 2, loss = 0.63947284\n",
      "Iteration 3, loss = 0.62393401\n",
      "Iteration 4, loss = 0.60787737\n",
      "Iteration 5, loss = 0.59280175\n",
      "Iteration 6, loss = 0.57980997\n",
      "Iteration 7, loss = 0.56816950\n",
      "Iteration 8, loss = 0.55936227\n",
      "Iteration 9, loss = 0.55130445\n",
      "Iteration 10, loss = 0.54489632\n",
      "Iteration 11, loss = 0.53916818\n",
      "Iteration 12, loss = 0.53468694\n",
      "Iteration 13, loss = 0.53033199\n",
      "Iteration 14, loss = 0.52652943\n",
      "Iteration 15, loss = 0.52290225\n",
      "Iteration 16, loss = 0.51978265\n",
      "Iteration 17, loss = 0.51710845\n",
      "Iteration 18, loss = 0.51491821\n",
      "Training loss did not improve more than tol=0.010000 for 10 consecutive epochs. Stopping.\n",
      "Iteration 1, loss = 0.66553376\n",
      "Iteration 2, loss = 0.64903563\n",
      "Iteration 3, loss = 0.62887696\n",
      "Iteration 4, loss = 0.61173738\n",
      "Iteration 5, loss = 0.59801975\n",
      "Iteration 6, loss = 0.58718165\n",
      "Iteration 7, loss = 0.57671439\n",
      "Iteration 8, loss = 0.56655526\n",
      "Iteration 9, loss = 0.55820313\n",
      "Iteration 10, loss = 0.55175284\n",
      "Iteration 11, loss = 0.54590219\n",
      "Iteration 12, loss = 0.54079769\n",
      "Iteration 13, loss = 0.53646886\n",
      "Iteration 14, loss = 0.53313576\n",
      "Iteration 15, loss = 0.53053794\n",
      "Iteration 16, loss = 0.52804310\n",
      "Iteration 17, loss = 0.52552441\n",
      "Iteration 18, loss = 0.52314863\n",
      "Iteration 19, loss = 0.52152801\n",
      "Training loss did not improve more than tol=0.010000 for 10 consecutive epochs. Stopping.\n",
      "Iteration 1, loss = 0.67135700\n",
      "Iteration 2, loss = 0.65597716\n",
      "Iteration 3, loss = 0.63917396\n",
      "Iteration 4, loss = 0.62167139\n",
      "Iteration 5, loss = 0.60388739\n",
      "Iteration 6, loss = 0.59145294\n",
      "Iteration 7, loss = 0.58096204\n",
      "Iteration 8, loss = 0.57062514\n",
      "Iteration 9, loss = 0.56173000\n",
      "Iteration 10, loss = 0.55508410\n",
      "Iteration 11, loss = 0.54994742\n",
      "Iteration 12, loss = 0.54484719\n",
      "Iteration 13, loss = 0.53947319\n",
      "Iteration 14, loss = 0.53507096\n",
      "Iteration 15, loss = 0.53127476\n",
      "Iteration 16, loss = 0.52757011\n",
      "Iteration 17, loss = 0.52440077\n",
      "Iteration 18, loss = 0.52161797\n",
      "Iteration 19, loss = 0.51951056\n",
      "Training loss did not improve more than tol=0.010000 for 10 consecutive epochs. Stopping.\n",
      "Iteration 1, loss = 0.70330135\n",
      "Iteration 2, loss = 0.68630752\n",
      "Iteration 3, loss = 0.66397862\n",
      "Iteration 4, loss = 0.64363879\n",
      "Iteration 5, loss = 0.62550579\n",
      "Iteration 6, loss = 0.61021697\n",
      "Iteration 7, loss = 0.59598019\n",
      "Iteration 8, loss = 0.58428416\n",
      "Iteration 9, loss = 0.57441891\n",
      "Iteration 10, loss = 0.56596881\n",
      "Iteration 11, loss = 0.55938716\n",
      "Iteration 12, loss = 0.55299418\n",
      "Iteration 13, loss = 0.54729704\n",
      "Iteration 14, loss = 0.54199619\n",
      "Iteration 15, loss = 0.53752010\n",
      "Iteration 16, loss = 0.53343463\n",
      "Iteration 17, loss = 0.53014841\n",
      "Iteration 18, loss = 0.52723748\n",
      "Iteration 19, loss = 0.52430681\n",
      "Training loss did not improve more than tol=0.010000 for 10 consecutive epochs. Stopping.\n",
      "Iteration 1, loss = 0.65823956\n",
      "Iteration 2, loss = 0.64336426\n",
      "Iteration 3, loss = 0.62565899\n",
      "Iteration 4, loss = 0.60872281\n",
      "Iteration 5, loss = 0.59460547\n",
      "Iteration 6, loss = 0.58253777\n",
      "Iteration 7, loss = 0.57269838\n",
      "Iteration 8, loss = 0.56367936\n",
      "Iteration 9, loss = 0.55696380\n",
      "Iteration 10, loss = 0.55184101\n",
      "Iteration 11, loss = 0.54723347\n",
      "Iteration 12, loss = 0.54230770\n",
      "Iteration 13, loss = 0.53833772\n",
      "Iteration 14, loss = 0.53482315\n",
      "Iteration 15, loss = 0.53060477\n",
      "Iteration 16, loss = 0.52786975\n",
      "Iteration 17, loss = 0.52513244\n",
      "Training loss did not improve more than tol=0.010000 for 10 consecutive epochs. Stopping.\n",
      "Iteration 1, loss = 0.61841394\n",
      "Iteration 2, loss = 0.52527172\n",
      "Iteration 3, loss = 0.50201222\n",
      "Iteration 4, loss = 0.49654306\n",
      "Iteration 5, loss = 0.49367696\n",
      "Iteration 6, loss = 0.49213765\n",
      "Iteration 7, loss = 0.49212241\n",
      "Iteration 8, loss = 0.49228237\n",
      "Iteration 9, loss = 0.48916316\n",
      "Iteration 10, loss = 0.48811991\n",
      "Iteration 11, loss = 0.48655956\n",
      "Iteration 12, loss = 0.48502763\n",
      "Iteration 13, loss = 0.48497500\n",
      "Iteration 14, loss = 0.48600709\n",
      "Training loss did not improve more than tol=0.010000 for 10 consecutive epochs. Stopping.\n"
     ]
    },
    {
     "data": {
      "text/plain": [
       "GridSearchCV(cv=10, error_score=nan,\n",
       "             estimator=MLPClassifier(activation='relu', alpha=0.0001,\n",
       "                                     batch_size='auto', beta_1=0.9,\n",
       "                                     beta_2=0.999, early_stopping=False,\n",
       "                                     epsilon=1e-08, hidden_layer_sizes=(100,),\n",
       "                                     learning_rate='constant',\n",
       "                                     learning_rate_init=0.001, max_fun=15000,\n",
       "                                     max_iter=200, momentum=0.9,\n",
       "                                     n_iter_no_change=10,\n",
       "                                     nesterovs_momentum=True, power_t=0.5,\n",
       "                                     random_state=None, shuffle=True,\n",
       "                                     solver='adam', tol=0.0001,\n",
       "                                     validation_fraction=0.1, verbose=False,\n",
       "                                     warm_start=False),\n",
       "             iid='deprecated', n_jobs=None,\n",
       "             param_grid={'hidden_layer_sizes': [100, 200, 300],\n",
       "                         'max_iter': [2500, 3000, 5000],\n",
       "                         'solver': ['adam', 'sgd'], 'tol': [0.01],\n",
       "                         'verbose': [True]},\n",
       "             pre_dispatch='2*n_jobs', refit=True, return_train_score=False,\n",
       "             scoring=None, verbose=0)"
      ]
     },
     "execution_count": 92,
     "metadata": {},
     "output_type": "execute_result"
    }
   ],
   "source": [
    "grid_search.fit(X_train,train_labels)"
   ]
  },
  {
   "cell_type": "code",
   "execution_count": 93,
   "metadata": {
    "ExecuteTime": {
     "end_time": "2020-10-22T14:27:12.176283Z",
     "start_time": "2020-10-22T14:27:12.161852Z"
    }
   },
   "outputs": [
    {
     "data": {
      "text/plain": [
       "{'hidden_layer_sizes': 300,\n",
       " 'max_iter': 5000,\n",
       " 'solver': 'adam',\n",
       " 'tol': 0.01,\n",
       " 'verbose': True}"
      ]
     },
     "execution_count": 93,
     "metadata": {},
     "output_type": "execute_result"
    }
   ],
   "source": [
    "grid_search.best_params_"
   ]
  },
  {
   "cell_type": "code",
   "execution_count": 94,
   "metadata": {
    "ExecuteTime": {
     "end_time": "2020-10-22T14:27:25.440126Z",
     "start_time": "2020-10-22T14:27:25.426470Z"
    }
   },
   "outputs": [
    {
     "data": {
      "text/plain": [
       "MLPClassifier(activation='relu', alpha=0.0001, batch_size='auto', beta_1=0.9,\n",
       "              beta_2=0.999, early_stopping=False, epsilon=1e-08,\n",
       "              hidden_layer_sizes=300, learning_rate='constant',\n",
       "              learning_rate_init=0.001, max_fun=15000, max_iter=5000,\n",
       "              momentum=0.9, n_iter_no_change=10, nesterovs_momentum=True,\n",
       "              power_t=0.5, random_state=None, shuffle=True, solver='adam',\n",
       "              tol=0.01, validation_fraction=0.1, verbose=True,\n",
       "              warm_start=False)"
      ]
     },
     "execution_count": 94,
     "metadata": {},
     "output_type": "execute_result"
    }
   ],
   "source": [
    "best_grid = grid_search.best_estimator_\n",
    "best_grid"
   ]
  },
  {
   "cell_type": "markdown",
   "metadata": {},
   "source": [
    "### Predicting on training and test data"
   ]
  },
  {
   "cell_type": "code",
   "execution_count": 95,
   "metadata": {
    "ExecuteTime": {
     "end_time": "2020-10-22T14:27:34.264562Z",
     "start_time": "2020-10-22T14:27:34.210373Z"
    }
   },
   "outputs": [],
   "source": [
    "ytrain_predict = best_grid.predict(X_train)\n",
    "ytest_predict = best_grid.predict(X_test)"
   ]
  },
  {
   "cell_type": "markdown",
   "metadata": {},
   "source": [
    "### Confusion matrix of training data"
   ]
  },
  {
   "cell_type": "code",
   "execution_count": 96,
   "metadata": {
    "ExecuteTime": {
     "end_time": "2020-10-22T14:27:37.899444Z",
     "start_time": "2020-10-22T14:27:37.881356Z"
    },
    "scrolled": true
   },
   "outputs": [
    {
     "data": {
      "text/plain": [
       "array([[1171,  207],\n",
       "       [ 246,  378]], dtype=int64)"
      ]
     },
     "execution_count": 96,
     "metadata": {},
     "output_type": "execute_result"
    }
   ],
   "source": [
    "confusion_matrix(train_labels,ytrain_predict)"
   ]
  },
  {
   "cell_type": "code",
   "execution_count": 97,
   "metadata": {
    "ExecuteTime": {
     "end_time": "2020-10-22T14:28:16.836118Z",
     "start_time": "2020-10-22T14:28:16.788988Z"
    }
   },
   "outputs": [
    {
     "data": {
      "text/plain": [
       "0.7737262737262737"
      ]
     },
     "execution_count": 97,
     "metadata": {},
     "output_type": "execute_result"
    }
   ],
   "source": [
    "nn_train_acc=best_grid.score(X_train,train_labels) \n",
    "nn_train_acc"
   ]
  },
  {
   "cell_type": "markdown",
   "metadata": {},
   "source": [
    "### Confusion matrix of test data "
   ]
  },
  {
   "cell_type": "code",
   "execution_count": 98,
   "metadata": {
    "ExecuteTime": {
     "end_time": "2020-10-22T14:28:22.847291Z",
     "start_time": "2020-10-22T14:28:22.829078Z"
    },
    "scrolled": true
   },
   "outputs": [
    {
     "data": {
      "text/plain": [
       "array([[480,  89],\n",
       "       [120, 170]], dtype=int64)"
      ]
     },
     "execution_count": 98,
     "metadata": {},
     "output_type": "execute_result"
    }
   ],
   "source": [
    "confusion_matrix(test_labels,ytest_predict)"
   ]
  },
  {
   "cell_type": "code",
   "execution_count": 99,
   "metadata": {
    "ExecuteTime": {
     "end_time": "2020-10-22T14:28:27.326361Z",
     "start_time": "2020-10-22T14:28:27.302649Z"
    }
   },
   "outputs": [
    {
     "data": {
      "text/plain": [
       "0.7566938300349243"
      ]
     },
     "execution_count": 99,
     "metadata": {},
     "output_type": "execute_result"
    }
   ],
   "source": [
    "nn_test_acc=best_grid.score(X_test,test_labels)\n",
    "nn_test_acc"
   ]
  },
  {
   "cell_type": "markdown",
   "metadata": {},
   "source": [
    "### Classification report of training data"
   ]
  },
  {
   "cell_type": "code",
   "execution_count": 100,
   "metadata": {
    "ExecuteTime": {
     "end_time": "2020-10-22T14:28:34.549056Z",
     "start_time": "2020-10-22T14:28:34.520707Z"
    }
   },
   "outputs": [
    {
     "name": "stdout",
     "output_type": "stream",
     "text": [
      "              precision    recall  f1-score   support\n",
      "\n",
      "           0       0.83      0.85      0.84      1378\n",
      "           1       0.65      0.61      0.63       624\n",
      "\n",
      "    accuracy                           0.77      2002\n",
      "   macro avg       0.74      0.73      0.73      2002\n",
      "weighted avg       0.77      0.77      0.77      2002\n",
      "\n"
     ]
    }
   ],
   "source": [
    "print(classification_report(train_labels,ytrain_predict))"
   ]
  },
  {
   "cell_type": "markdown",
   "metadata": {},
   "source": [
    "### Classification report of test data"
   ]
  },
  {
   "cell_type": "code",
   "execution_count": 101,
   "metadata": {
    "ExecuteTime": {
     "end_time": "2020-10-22T14:28:46.763841Z",
     "start_time": "2020-10-22T14:28:46.741638Z"
    }
   },
   "outputs": [
    {
     "name": "stdout",
     "output_type": "stream",
     "text": [
      "              precision    recall  f1-score   support\n",
      "\n",
      "           0       0.80      0.84      0.82       569\n",
      "           1       0.66      0.59      0.62       290\n",
      "\n",
      "    accuracy                           0.76       859\n",
      "   macro avg       0.73      0.71      0.72       859\n",
      "weighted avg       0.75      0.76      0.75       859\n",
      "\n"
     ]
    }
   ],
   "source": [
    "print(classification_report(test_labels,ytest_predict))"
   ]
  },
  {
   "cell_type": "code",
   "execution_count": 102,
   "metadata": {
    "ExecuteTime": {
     "end_time": "2020-10-22T14:29:27.436228Z",
     "start_time": "2020-10-22T14:29:27.360349Z"
    }
   },
   "outputs": [
    {
     "name": "stdout",
     "output_type": "stream",
     "text": [
      "nn_train_precision  0.65\n",
      "nn_train_recall  0.61\n",
      "nn_train_f1  0.63\n"
     ]
    }
   ],
   "source": [
    "nn_metrics = classification_report(train_labels,ytrain_predict,output_dict=True)\n",
    "df2 = pd.DataFrame(nn_metrics).transpose()\n",
    "nn_train_precision = round(df2.loc[\"1\"][0],2)\n",
    "nn_train_recall = round(df2.loc[\"1\"][1],2)\n",
    "nn_train_f1 = round(df2.loc[\"1\"][2],2)\n",
    "print ('nn_train_precision ',nn_train_precision)\n",
    "print ('nn_train_recall ',nn_train_recall)\n",
    "print ('nn_train_f1 ',nn_train_f1)"
   ]
  },
  {
   "cell_type": "code",
   "execution_count": 103,
   "metadata": {
    "ExecuteTime": {
     "end_time": "2020-10-22T14:29:58.236190Z",
     "start_time": "2020-10-22T14:29:58.202731Z"
    }
   },
   "outputs": [
    {
     "name": "stdout",
     "output_type": "stream",
     "text": [
      "nn_test_precision  0.66\n",
      "nn_test_recall  0.59\n",
      "nn_test_f1  0.62\n"
     ]
    }
   ],
   "source": [
    "nn_metrics = classification_report(test_labels,ytest_predict,output_dict=True)\n",
    "df2 = pd.DataFrame(nn_metrics).transpose()\n",
    "nn_test_precision = round(df2.loc[\"1\"][0],2)\n",
    "nn_test_recall = round(df2.loc[\"1\"][1],2)\n",
    "nn_test_f1 = round(df2.loc[\"1\"][2],2)\n",
    "print ('nn_test_precision ',nn_test_precision)\n",
    "print ('nn_test_recall ',nn_test_recall)\n",
    "print ('nn_test_f1 ',nn_test_f1)"
   ]
  },
  {
   "cell_type": "markdown",
   "metadata": {},
   "source": [
    "### AUC and ROC for the train data"
   ]
  },
  {
   "cell_type": "code",
   "execution_count": 106,
   "metadata": {
    "ExecuteTime": {
     "end_time": "2020-10-22T14:59:05.660572Z",
     "start_time": "2020-10-22T14:59:05.374251Z"
    },
    "scrolled": true
   },
   "outputs": [
    {
     "name": "stdout",
     "output_type": "stream",
     "text": [
      "AUC: 0.807\n"
     ]
    },
    {
     "data": {
      "image/png": "[encoded data removed]",
      "text/plain": [
       "<Figure size 432x288 with 1 Axes>"
      ]
     },
     "metadata": {
      "needs_background": "light"
     },
     "output_type": "display_data"
    }
   ],
   "source": [
    "# AUC and ROC for the training data\n",
    "\n",
    "# predict probabilities\n",
    "probs = best_grid.predict_proba(X_train)\n",
    "# keep probabilities for the positive outcome only\n",
    "probs = probs[:, 1]\n",
    "# calculate AUC\n",
    "from sklearn.metrics import roc_auc_score\n",
    "nn_train_auc = roc_auc_score(train_labels, probs)\n",
    "print('AUC: %.3f' % nn_train_auc)\n",
    "# calculate roc curve\n",
    "from sklearn.metrics import roc_curve\n",
    "nn_train_fpr, nn_train_tpr, thresholds = roc_curve(train_labels, probs)\n",
    "plt.plot([0, 1], [0, 1], linestyle='--')\n",
    "# plot the roc curve for the model\n",
    "plt.plot(nn_train_fpr, nn_train_tpr, marker='.')\n",
    "# show the plot\n",
    "plt.show()"
   ]
  },
  {
   "cell_type": "markdown",
   "metadata": {},
   "source": [
    "### AUC and ROC for the test data"
   ]
  },
  {
   "cell_type": "code",
   "execution_count": 107,
   "metadata": {
    "ExecuteTime": {
     "end_time": "2020-10-22T14:59:10.113586Z",
     "start_time": "2020-10-22T14:59:09.818064Z"
    }
   },
   "outputs": [
    {
     "name": "stdout",
     "output_type": "stream",
     "text": [
      "AUC: 0.791\n"
     ]
    },
    {
     "data": {
      "image/png": "[encoded data removed]",
      "text/plain": [
       "<Figure size 432x288 with 1 Axes>"
      ]
     },
     "metadata": {
      "needs_background": "light"
     },
     "output_type": "display_data"
    }
   ],
   "source": [
    "# AUC and ROC for the test data\n",
    "\n",
    "\n",
    "# predict probabilities\n",
    "probs = best_grid.predict_proba(X_test)\n",
    "# keep probabilities for the positive outcome only\n",
    "probs = probs[:, 1]\n",
    "# calculate AUC\n",
    "from sklearn.metrics import roc_auc_score\n",
    "nn_test_auc = roc_auc_score(test_labels, probs)\n",
    "print('AUC: %.3f' % nn_test_auc)\n",
    "# calculate roc curve\n",
    "from sklearn.metrics import roc_curve\n",
    "nn_test_fpr, nn_test_tpr, thresholds = roc_curve(test_labels, probs)\n",
    "plt.plot([0, 1], [0, 1], linestyle='--')\n",
    "# plot the roc curve for the model\n",
    "plt.plot(nn_test_fpr, nn_test_tpr, marker='.')\n",
    "# show the plot\n",
    "plt.show()"
   ]
  },
  {
   "cell_type": "markdown",
   "metadata": {},
   "source": [
    "## Comparision\n"
   ]
  },
  {
   "cell_type": "code",
   "execution_count": 109,
   "metadata": {
    "ExecuteTime": {
     "end_time": "2020-10-22T15:00:05.809602Z",
     "start_time": "2020-10-22T15:00:05.745428Z"
    },
    "scrolled": true
   },
   "outputs": [
    {
     "data": {
      "text/html": [
       "<div>\n",
       "<style scoped>\n",
       "    .dataframe tbody tr th:only-of-type {\n",
       "        vertical-align: middle;\n",
       "    }\n",
       "\n",
       "    .dataframe tbody tr th {\n",
       "        vertical-align: top;\n",
       "    }\n",
       "\n",
       "    .dataframe thead th {\n",
       "        text-align: right;\n",
       "    }\n",
       "</style>\n",
       "<table border=\"1\" class=\"dataframe\">\n",
       "  <thead>\n",
       "    <tr style=\"text-align: right;\">\n",
       "      <th></th>\n",
       "      <th>CART Train</th>\n",
       "      <th>CART Test</th>\n",
       "      <th>Random Forest Train</th>\n",
       "      <th>Random Forest Test</th>\n",
       "      <th>Neural Network Train</th>\n",
       "      <th>Neural Network Test</th>\n",
       "    </tr>\n",
       "  </thead>\n",
       "  <tbody>\n",
       "    <tr>\n",
       "      <th>Accuracy</th>\n",
       "      <td>0.78</td>\n",
       "      <td>0.75</td>\n",
       "      <td>0.80</td>\n",
       "      <td>0.76</td>\n",
       "      <td>0.77</td>\n",
       "      <td>0.76</td>\n",
       "    </tr>\n",
       "    <tr>\n",
       "      <th>AUC</th>\n",
       "      <td>0.82</td>\n",
       "      <td>0.77</td>\n",
       "      <td>0.85</td>\n",
       "      <td>0.80</td>\n",
       "      <td>0.81</td>\n",
       "      <td>0.79</td>\n",
       "    </tr>\n",
       "    <tr>\n",
       "      <th>Recall</th>\n",
       "      <td>0.57</td>\n",
       "      <td>0.53</td>\n",
       "      <td>0.59</td>\n",
       "      <td>0.54</td>\n",
       "      <td>0.61</td>\n",
       "      <td>0.59</td>\n",
       "    </tr>\n",
       "    <tr>\n",
       "      <th>Precision</th>\n",
       "      <td>0.68</td>\n",
       "      <td>0.67</td>\n",
       "      <td>0.72</td>\n",
       "      <td>0.69</td>\n",
       "      <td>0.65</td>\n",
       "      <td>0.66</td>\n",
       "    </tr>\n",
       "    <tr>\n",
       "      <th>F1 Score</th>\n",
       "      <td>0.62</td>\n",
       "      <td>0.59</td>\n",
       "      <td>0.65</td>\n",
       "      <td>0.60</td>\n",
       "      <td>0.63</td>\n",
       "      <td>0.62</td>\n",
       "    </tr>\n",
       "  </tbody>\n",
       "</table>\n",
       "</div>"
      ],
      "text/plain": [
       "           CART Train  CART Test  Random Forest Train  Random Forest Test  \\\n",
       "Accuracy         0.78       0.75                 0.80                0.76   \n",
       "AUC              0.82       0.77                 0.85                0.80   \n",
       "Recall           0.57       0.53                 0.59                0.54   \n",
       "Precision        0.68       0.67                 0.72                0.69   \n",
       "F1 Score         0.62       0.59                 0.65                0.60   \n",
       "\n",
       "           Neural Network Train  Neural Network Test  \n",
       "Accuracy                   0.77                 0.76  \n",
       "AUC                        0.81                 0.79  \n",
       "Recall                     0.61                 0.59  \n",
       "Precision                  0.65                 0.66  \n",
       "F1 Score                   0.63                 0.62  "
      ]
     },
     "execution_count": 109,
     "metadata": {},
     "output_type": "execute_result"
    }
   ],
   "source": [
    "index=['Accuracy', 'AUC', 'Recall','Precision','F1 Score']\n",
    "data = pd.DataFrame({'CART Train':[cart_train_acc,cart_train_auc,cart_train_recall,cart_train_precision,cart_train_f1],\n",
    "        'CART Test':[cart_test_acc,cart_test_auc,cart_test_recall,cart_test_precision,cart_test_f1],\n",
    "       'Random Forest Train':[rf_train_acc,rf_train_auc,rf_train_recall,rf_train_precision,rf_train_f1],\n",
    "        'Random Forest Test':[rf_test_acc,rf_test_auc,rf_test_recall,rf_test_precision,rf_test_f1],\n",
    "       'Neural Network Train':[nn_train_acc,nn_train_auc,nn_train_recall,nn_train_precision,nn_train_f1],\n",
    "        'Neural Network Test':[nn_test_acc,nn_test_auc,nn_test_recall,nn_test_precision,nn_test_f1]},index=index)\n",
    "round(data,2)"
   ]
  },
  {
   "cell_type": "markdown",
   "metadata": {},
   "source": [
    "## ROC Curve for the 3 models on the Training data"
   ]
  },
  {
   "cell_type": "code",
   "execution_count": 110,
   "metadata": {
    "ExecuteTime": {
     "end_time": "2020-10-22T15:00:19.496325Z",
     "start_time": "2020-10-22T15:00:19.129414Z"
    }
   },
   "outputs": [
    {
     "data": {
      "text/plain": [
       "<matplotlib.legend.Legend at 0x1412d091988>"
      ]
     },
     "execution_count": 110,
     "metadata": {},
     "output_type": "execute_result"
    },
    {
     "data": {
      "image/png": "[encoded data removed]",
      "text/plain": [
       "<Figure size 432x288 with 1 Axes>"
      ]
     },
     "metadata": {
      "needs_background": "light"
     },
     "output_type": "display_data"
    }
   ],
   "source": [
    "plt.plot([0, 1], [0, 1], linestyle='--')\n",
    "plt.plot(cart_train_fpr, cart_train_tpr,color='red',label=\"CART\")\n",
    "plt.plot(rf_train_fpr,rf_train_tpr,color='green',label=\"RF\")\n",
    "plt.plot(nn_train_fpr,nn_train_tpr,color='black',label=\"NN\")\n",
    "plt.xlabel('False Positive Rate')\n",
    "plt.ylabel('True Positive Rate')\n",
    "plt.title('ROC')\n",
    "plt.legend(bbox_to_anchor=(0., 1.02, 1., .102), loc='lower right')"
   ]
  },
  {
   "cell_type": "markdown",
   "metadata": {},
   "source": [
    "## ROC Curve for the 3 models on the Test data"
   ]
  },
  {
   "cell_type": "code",
   "execution_count": 111,
   "metadata": {
    "ExecuteTime": {
     "end_time": "2020-10-22T15:00:24.611242Z",
     "start_time": "2020-10-22T15:00:24.321745Z"
    }
   },
   "outputs": [
    {
     "data": {
      "text/plain": [
       "<matplotlib.legend.Legend at 0x1412d103748>"
      ]
     },
     "execution_count": 111,
     "metadata": {},
     "output_type": "execute_result"
    },
    {
     "data": {
      "image/png": "[encoded data removed]",
      "text/plain": [
       "<Figure size 432x288 with 1 Axes>"
      ]
     },
     "metadata": {
      "needs_background": "light"
     },
     "output_type": "display_data"
    }
   ],
   "source": [
    "plt.plot([0, 1], [0, 1], linestyle='--')\n",
    "plt.plot(cart_test_fpr, cart_test_tpr,color='red',label=\"CART\")\n",
    "plt.plot(rf_test_fpr,rf_test_tpr,color='green',label=\"RF\")\n",
    "plt.plot(nn_test_fpr,nn_test_tpr,color='black',label=\"NN\")\n",
    "plt.xlabel('False Positive Rate')\n",
    "plt.ylabel('True Positive Rate')\n",
    "plt.title('ROC')\n",
    "plt.legend(bbox_to_anchor=(0., 1.02, 1., .102), loc='lower right')"
   ]
  },
  {
   "cell_type": "code",
   "execution_count": null,
   "metadata": {},
   "outputs": [],
   "source": []
  }
 ],
 "metadata": {
  "kernelspec": {
   "display_name": "Python 3",
   "language": "python",
   "name": "python3"
  },
  "language_info": {
   "codemirror_mode": {
    "name": "ipython",
    "version": 3
   },
   "file_extension": ".py",
   "mimetype": "text/x-python",
   "name": "python",
   "nbconvert_exporter": "python",
   "pygments_lexer": "ipython3",
   "version": "3.7.6"
  },
  "latex_envs": {
   "LaTeX_envs_menu_present": true,
   "autoclose": false,
   "autocomplete": true,
   "bibliofile": "biblio.bib",
   "cite_by": "apalike",
   "current_citInitial": 1,
   "eqLabelWithNumbers": true,
   "eqNumInitial": 1,
   "hotkeys": {
    "equation": "Ctrl-E",
    "itemize": "Ctrl-I"
   },
   "labels_anchors": false,
   "latex_user_defs": false,
   "report_style_numbering": false,
   "user_envs_cfg": false
  },
  "varInspector": {
   "cols": {
    "lenName": 16,
    "lenType": 16,
    "lenVar": 40
   },
   "kernels_config": {
    "python": {
     "delete_cmd_postfix": "",
     "delete_cmd_prefix": "del ",
     "library": "var_list.py",
     "varRefreshCmd": "print(var_dic_list())"
    },
    "r": {
     "delete_cmd_postfix": ") ",
     "delete_cmd_prefix": "rm(",
     "library": "var_list.r",
     "varRefreshCmd": "cat(var_dic_list()) "
    }
   },
   "types_to_exclude": [
    "module",
    "function",
    "builtin_function_or_method",
    "instance",
    "_Feature"
   ],
   "window_display": false
  }
 },
 "nbformat": 4,
 "nbformat_minor": 4
}
